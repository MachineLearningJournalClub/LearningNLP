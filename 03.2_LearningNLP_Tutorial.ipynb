{
 "cells": [
  {
   "cell_type": "markdown",
   "id": "artificial-passing",
   "metadata": {
    "papermill": {
     "duration": 0.031712,
     "end_time": "2021-05-20T16:18:33.025672",
     "exception": false,
     "start_time": "2021-05-20T16:18:32.993960",
     "status": "completed"
    },
    "tags": []
   },
   "source": [
    "# CommonLit Readability Challenge - Word2Vec + UMAP 🗺️\n",
    "## Introduction \n",
    "\n",
    "In this notebook we are going to see how to apply a pretrained [Word2Vec](https://jalammar.github.io/illustrated-word2vec/) model (from gensim) to a text corpus of our choice and,after that, we are going to see if our embedding has captured readability by employing a dimensionality reduction algorithm named [UMAP](https://umap-learn.readthedocs.io/en/latest/how_umap_works.html).\n",
    "\n",
    "``` If you're trying to locally install umap, pay attention to the fact that the correct command is \"pip install umap-learn\", indeed it is \"import umap\" while importing it```.\n"
   ]
  },
  {
   "cell_type": "code",
   "execution_count": 1,
   "id": "mighty-decimal",
   "metadata": {
    "execution": {
     "iopub.execute_input": "2021-05-20T16:18:33.088627Z",
     "iopub.status.busy": "2021-05-20T16:18:33.087667Z",
     "iopub.status.idle": "2021-05-20T16:18:54.890454Z",
     "shell.execute_reply": "2021-05-20T16:18:54.890924Z",
     "shell.execute_reply.started": "2021-05-20T15:42:16.237988Z"
    },
    "papermill": {
     "duration": 21.835899,
     "end_time": "2021-05-20T16:18:54.891224",
     "exception": false,
     "start_time": "2021-05-20T16:18:33.055325",
     "status": "completed"
    },
    "tags": []
   },
   "outputs": [],
   "source": [
    "import pandas as pd \n",
    "import numpy as np\n",
    "import re \n",
    "\n",
    "import nltk\n",
    "#nltk.download('punkt')\n",
    "\n",
    "# model imports\n",
    "from gensim.models.word2vec import Word2Vec\n",
    "import gensim.downloader as api # we need an internet connection for this one \n",
    "\n",
    "from sklearn.model_selection import train_test_split\n",
    "\n",
    "# visualization imports\n",
    "import umap # nonlinear dimensionality reduction\n",
    "import matplotlib.pyplot as plt\n",
    "%matplotlib inline"
   ]
  },
  {
   "cell_type": "markdown",
   "id": "ready-macro",
   "metadata": {
    "papermill": {
     "duration": 0.029973,
     "end_time": "2021-05-20T16:18:54.951796",
     "exception": false,
     "start_time": "2021-05-20T16:18:54.921823",
     "status": "completed"
    },
    "tags": []
   },
   "source": [
    "### Utilities\n",
    "Here some utility functions: \n",
    "* ```remove_ascii_words``` it might be useless in this case but it's quite useful for general purpose preprocessing, where we don't know whether there are non-ascii characters around\n",
    "\n",
    "* ```get_good_tokens``` removes useless punctuation\n",
    "\n",
    "* ``` w2v_preprocessing``` all the necessary preprocessing for gensim Word2Vec model, we basically divide each document into individual sentences, remove punctuation by using ```get_good_tokens```, tokenize every sentence and remove empty lists. \n"
   ]
  },
  {
   "cell_type": "code",
   "execution_count": 2,
   "id": "unauthorized-recall",
   "metadata": {
    "execution": {
     "iopub.execute_input": "2021-05-20T16:18:55.016792Z",
     "iopub.status.busy": "2021-05-20T16:18:55.016243Z",
     "iopub.status.idle": "2021-05-20T16:18:55.021510Z",
     "shell.execute_reply": "2021-05-20T16:18:55.021927Z",
     "shell.execute_reply.started": "2021-05-20T15:42:42.386351Z"
    },
    "papermill": {
     "duration": 0.039086,
     "end_time": "2021-05-20T16:18:55.022118",
     "exception": false,
     "start_time": "2021-05-20T16:18:54.983032",
     "status": "completed"
    },
    "tags": []
   },
   "outputs": [],
   "source": [
    "our_special_word = 'qwerty'\n",
    "\n",
    "def remove_ascii_words(df):\n",
    "    \"\"\" removes non-ascii characters from the 'texts' column in df.\n",
    "    It returns the words containig non-ascii characers.\n",
    "    \"\"\"\n",
    "    non_ascii_words = []\n",
    "    for i in range(len(df)):\n",
    "        for word in df.loc[i, 'excerpt'].split(' '):\n",
    "            if any([ord(character) >= 128 for character in word]):\n",
    "                non_ascii_words.append(word)\n",
    "                df.loc[i, 'excerpt'] = df.loc[i, 'excerpt'].replace(word, our_special_word)\n",
    "    return non_ascii_words"
   ]
  },
  {
   "cell_type": "code",
   "execution_count": 3,
   "id": "moderate-devon",
   "metadata": {
    "execution": {
     "iopub.execute_input": "2021-05-20T16:18:55.084502Z",
     "iopub.status.busy": "2021-05-20T16:18:55.083942Z",
     "iopub.status.idle": "2021-05-20T16:18:55.088810Z",
     "shell.execute_reply": "2021-05-20T16:18:55.088384Z",
     "shell.execute_reply.started": "2021-05-20T15:42:42.396641Z"
    },
    "papermill": {
     "duration": 0.03665,
     "end_time": "2021-05-20T16:18:55.088957",
     "exception": false,
     "start_time": "2021-05-20T16:18:55.052307",
     "status": "completed"
    },
    "tags": []
   },
   "outputs": [],
   "source": [
    "def get_good_tokens(sentence):\n",
    "    replaced_punctation = list(map(lambda token: re.sub('[^0-9A-Za-z!?]+', '', token), sentence))\n",
    "    removed_punctation = list(filter(lambda token: token, replaced_punctation))\n",
    "    return removed_punctation"
   ]
  },
  {
   "cell_type": "code",
   "execution_count": 4,
   "id": "immune-vegetable",
   "metadata": {
    "execution": {
     "iopub.execute_input": "2021-05-20T16:18:55.155436Z",
     "iopub.status.busy": "2021-05-20T16:18:55.154716Z",
     "iopub.status.idle": "2021-05-20T16:18:55.157772Z",
     "shell.execute_reply": "2021-05-20T16:18:55.157332Z",
     "shell.execute_reply.started": "2021-05-20T15:42:42.41343Z"
    },
    "papermill": {
     "duration": 0.039231,
     "end_time": "2021-05-20T16:18:55.157917",
     "exception": false,
     "start_time": "2021-05-20T16:18:55.118686",
     "status": "completed"
    },
    "tags": []
   },
   "outputs": [],
   "source": [
    "def w2v_preprocessing(df):\n",
    "    \"\"\" All the preprocessing steps for word2vec are done in this function.\n",
    "    All mutations are done on the dataframe itself. So this function returns\n",
    "    nothing.\n",
    "    \"\"\"\n",
    "    df['excerpt'] = df.excerpt.str.lower()\n",
    "    df['document_sentences'] = df.excerpt.str.split('.')  # split texts into individual sentences\n",
    "    df['tokenized_sentences'] = list(map(lambda sentences:\n",
    "                                         list(map(nltk.word_tokenize, sentences)),\n",
    "                                         df.document_sentences))  # tokenize sentences\n",
    "   # df['tokenized_sentences'] = list(map(lambda sentences: list(map( ,sentences)), df.tokenized_sentences))\n",
    "    df['tokenized_sentences'] = list(map(lambda sentences:\n",
    "                                         list(map(get_good_tokens, sentences)),\n",
    "                                         df.tokenized_sentences))  # remove unwanted characters\n",
    "    df['tokenized_sentences'] = list(map(lambda sentences:\n",
    "                                         list(filter(lambda lst: lst, sentences)),\n",
    "                                         df.tokenized_sentences))  # remove empty lists"
   ]
  },
  {
   "cell_type": "markdown",
   "id": "plain-colorado",
   "metadata": {
    "papermill": {
     "duration": 0.029648,
     "end_time": "2021-05-20T16:18:55.217256",
     "exception": false,
     "start_time": "2021-05-20T16:18:55.187608",
     "status": "completed"
    },
    "tags": []
   },
   "source": [
    "### Data Import\n",
    "Let's load training data as a ```pandas``` dataframe"
   ]
  },
  {
   "cell_type": "code",
   "execution_count": 5,
   "id": "identical-permission",
   "metadata": {
    "execution": {
     "iopub.execute_input": "2021-05-20T16:18:55.282336Z",
     "iopub.status.busy": "2021-05-20T16:18:55.281700Z",
     "iopub.status.idle": "2021-05-20T16:18:55.461707Z",
     "shell.execute_reply": "2021-05-20T16:18:55.462198Z",
     "shell.execute_reply.started": "2021-05-20T15:42:42.428878Z"
    },
    "papermill": {
     "duration": 0.21498,
     "end_time": "2021-05-20T16:18:55.462367",
     "exception": false,
     "start_time": "2021-05-20T16:18:55.247387",
     "status": "completed"
    },
    "tags": []
   },
   "outputs": [
    {
     "data": {
      "text/html": [
       "<div>\n",
       "<style scoped>\n",
       "    .dataframe tbody tr th:only-of-type {\n",
       "        vertical-align: middle;\n",
       "    }\n",
       "\n",
       "    .dataframe tbody tr th {\n",
       "        vertical-align: top;\n",
       "    }\n",
       "\n",
       "    .dataframe thead th {\n",
       "        text-align: right;\n",
       "    }\n",
       "</style>\n",
       "<table border=\"1\" class=\"dataframe\">\n",
       "  <thead>\n",
       "    <tr style=\"text-align: right;\">\n",
       "      <th></th>\n",
       "      <th>id</th>\n",
       "      <th>url_legal</th>\n",
       "      <th>license</th>\n",
       "      <th>excerpt</th>\n",
       "      <th>target</th>\n",
       "      <th>standard_error</th>\n",
       "    </tr>\n",
       "  </thead>\n",
       "  <tbody>\n",
       "    <tr>\n",
       "      <th>0</th>\n",
       "      <td>c12129c31</td>\n",
       "      <td>NaN</td>\n",
       "      <td>NaN</td>\n",
       "      <td>When the young people returned to the ballroom...</td>\n",
       "      <td>-0.340259</td>\n",
       "      <td>0.464009</td>\n",
       "    </tr>\n",
       "    <tr>\n",
       "      <th>1</th>\n",
       "      <td>85aa80a4c</td>\n",
       "      <td>NaN</td>\n",
       "      <td>NaN</td>\n",
       "      <td>All through dinner time, Mrs. Fayre was somewh...</td>\n",
       "      <td>-0.315372</td>\n",
       "      <td>0.480805</td>\n",
       "    </tr>\n",
       "    <tr>\n",
       "      <th>2</th>\n",
       "      <td>b69ac6792</td>\n",
       "      <td>NaN</td>\n",
       "      <td>NaN</td>\n",
       "      <td>As Roger had predicted, the snow departed as q...</td>\n",
       "      <td>-0.580118</td>\n",
       "      <td>0.476676</td>\n",
       "    </tr>\n",
       "    <tr>\n",
       "      <th>3</th>\n",
       "      <td>dd1000b26</td>\n",
       "      <td>NaN</td>\n",
       "      <td>NaN</td>\n",
       "      <td>And outside before the palace a great garden w...</td>\n",
       "      <td>-1.054013</td>\n",
       "      <td>0.450007</td>\n",
       "    </tr>\n",
       "    <tr>\n",
       "      <th>4</th>\n",
       "      <td>37c1b32fb</td>\n",
       "      <td>NaN</td>\n",
       "      <td>NaN</td>\n",
       "      <td>Once upon a time there were Three Bears who li...</td>\n",
       "      <td>0.247197</td>\n",
       "      <td>0.510845</td>\n",
       "    </tr>\n",
       "  </tbody>\n",
       "</table>\n",
       "</div>"
      ],
      "text/plain": [
       "          id url_legal license  \\\n",
       "0  c12129c31       NaN     NaN   \n",
       "1  85aa80a4c       NaN     NaN   \n",
       "2  b69ac6792       NaN     NaN   \n",
       "3  dd1000b26       NaN     NaN   \n",
       "4  37c1b32fb       NaN     NaN   \n",
       "\n",
       "                                             excerpt    target  standard_error  \n",
       "0  When the young people returned to the ballroom... -0.340259        0.464009  \n",
       "1  All through dinner time, Mrs. Fayre was somewh... -0.315372        0.480805  \n",
       "2  As Roger had predicted, the snow departed as q... -0.580118        0.476676  \n",
       "3  And outside before the palace a great garden w... -1.054013        0.450007  \n",
       "4  Once upon a time there were Three Bears who li...  0.247197        0.510845  "
      ]
     },
     "execution_count": 5,
     "metadata": {},
     "output_type": "execute_result"
    }
   ],
   "source": [
    "train_data =  pd.read_csv(\"../input/commonlitreadabilityprize/train.csv\")\n",
    "train_data.head()"
   ]
  },
  {
   "cell_type": "code",
   "execution_count": 6,
   "id": "rough-champagne",
   "metadata": {
    "execution": {
     "iopub.execute_input": "2021-05-20T16:18:55.528570Z",
     "iopub.status.busy": "2021-05-20T16:18:55.527874Z",
     "iopub.status.idle": "2021-05-20T16:18:56.391393Z",
     "shell.execute_reply": "2021-05-20T16:18:56.391782Z",
     "shell.execute_reply.started": "2021-05-20T15:42:42.61489Z"
    },
    "papermill": {
     "duration": 0.89892,
     "end_time": "2021-05-20T16:18:56.391958",
     "exception": false,
     "start_time": "2021-05-20T16:18:55.493038",
     "status": "completed"
    },
    "tags": []
   },
   "outputs": [
    {
     "name": "stdout",
     "output_type": "stream",
     "text": [
      "Replaced 1327 words with characters with an ordinal >= 128 in the test data.\n"
     ]
    }
   ],
   "source": [
    "train_data.excerpt = train_data['excerpt'].apply(str)\n",
    "non_ascii_words = remove_ascii_words(train_data)\n",
    "\n",
    "print(\"Replaced {} words with characters with an ordinal >= 128 in the test data.\".format(\n",
    "    len(non_ascii_words)))"
   ]
  },
  {
   "cell_type": "markdown",
   "id": "industrial-vulnerability",
   "metadata": {
    "papermill": {
     "duration": 0.030954,
     "end_time": "2021-05-20T16:18:56.453537",
     "exception": false,
     "start_time": "2021-05-20T16:18:56.422583",
     "status": "completed"
    },
    "tags": []
   },
   "source": [
    "### Pretrained Word2Vec\n",
    "Here we can load a pretrained version of Word2Vec (on Google News) from ```Gensim```'s API. Each vector has 300 components"
   ]
  },
  {
   "cell_type": "code",
   "execution_count": 7,
   "id": "sacred-wesley",
   "metadata": {
    "execution": {
     "iopub.execute_input": "2021-05-20T16:18:56.523999Z",
     "iopub.status.busy": "2021-05-20T16:18:56.523439Z",
     "iopub.status.idle": "2021-05-20T16:23:27.979021Z",
     "shell.execute_reply": "2021-05-20T16:23:27.979662Z"
    },
    "papermill": {
     "duration": 271.495786,
     "end_time": "2021-05-20T16:23:27.980140",
     "exception": false,
     "start_time": "2021-05-20T16:18:56.484354",
     "status": "completed"
    },
    "tags": []
   },
   "outputs": [
    {
     "name": "stdout",
     "output_type": "stream",
     "text": [
      "[==================================================] 100.0% 1662.8/1662.8MB downloaded\n"
     ]
    }
   ],
   "source": [
    "W2Vmodel = api.load('word2vec-google-news-300')"
   ]
  },
  {
   "cell_type": "markdown",
   "id": "animated-treatment",
   "metadata": {
    "papermill": {
     "duration": 34.384335,
     "end_time": "2021-05-20T16:24:36.889466",
     "exception": false,
     "start_time": "2021-05-20T16:24:02.505131",
     "status": "completed"
    },
    "tags": []
   },
   "source": [
    "## Preprocessing\n",
    "\n",
    "Here we apply our utility functions for preprocessing"
   ]
  },
  {
   "cell_type": "code",
   "execution_count": 8,
   "id": "frequent-practice",
   "metadata": {
    "execution": {
     "iopub.execute_input": "2021-05-20T16:25:45.688222Z",
     "iopub.status.busy": "2021-05-20T16:25:45.687331Z",
     "iopub.status.idle": "2021-05-20T16:25:50.495422Z",
     "shell.execute_reply": "2021-05-20T16:25:50.494933Z",
     "shell.execute_reply.started": "2021-05-20T15:34:03.334503Z"
    },
    "papermill": {
     "duration": 39.26338,
     "end_time": "2021-05-20T16:25:50.495583",
     "exception": false,
     "start_time": "2021-05-20T16:25:11.232203",
     "status": "completed"
    },
    "tags": []
   },
   "outputs": [],
   "source": [
    "w2v_preprocessing(train_data)"
   ]
  },
  {
   "cell_type": "code",
   "execution_count": 9,
   "id": "painted-receiver",
   "metadata": {
    "execution": {
     "iopub.execute_input": "2021-05-20T16:26:58.416917Z",
     "iopub.status.busy": "2021-05-20T16:26:58.416370Z",
     "iopub.status.idle": "2021-05-20T16:26:58.451583Z",
     "shell.execute_reply": "2021-05-20T16:26:58.451043Z",
     "shell.execute_reply.started": "2021-05-20T15:34:11.258124Z"
    },
    "papermill": {
     "duration": 33.868456,
     "end_time": "2021-05-20T16:26:58.451774",
     "exception": false,
     "start_time": "2021-05-20T16:26:24.583318",
     "status": "completed"
    },
    "tags": []
   },
   "outputs": [],
   "source": [
    "train_data.drop(train_data[train_data.tokenized_sentences.str.len() == 0].index, inplace= True) "
   ]
  },
  {
   "cell_type": "code",
   "execution_count": 10,
   "id": "advisory-azerbaijan",
   "metadata": {
    "execution": {
     "iopub.execute_input": "2021-05-20T16:28:06.641319Z",
     "iopub.status.busy": "2021-05-20T16:28:06.640488Z",
     "iopub.status.idle": "2021-05-20T16:28:06.644757Z",
     "shell.execute_reply": "2021-05-20T16:28:06.644291Z",
     "shell.execute_reply.started": "2021-05-20T15:34:11.602256Z"
    },
    "papermill": {
     "duration": 34.128773,
     "end_time": "2021-05-20T16:28:06.644889",
     "exception": false,
     "start_time": "2021-05-20T16:27:32.516116",
     "status": "completed"
    },
    "tags": []
   },
   "outputs": [
    {
     "name": "stdout",
     "output_type": "stream",
     "text": [
      "Number of sentences: 25633.\n",
      "Number of texts: 2834.\n"
     ]
    }
   ],
   "source": [
    "#create dictionary with all sentences\n",
    "sentences = []\n",
    "for sentence_group in train_data.tokenized_sentences:\n",
    "    sentences.extend(sentence_group)\n",
    "\n",
    "print(\"Number of sentences: {}.\".format(len(sentences)))\n",
    "print(\"Number of texts: {}.\".format(len(train_data)))"
   ]
  },
  {
   "cell_type": "markdown",
   "id": "promotional-present",
   "metadata": {
    "papermill": {
     "duration": 34.211213,
     "end_time": "2021-05-20T16:29:14.968822",
     "exception": false,
     "start_time": "2021-05-20T16:28:40.757609",
     "status": "completed"
    },
    "tags": []
   },
   "source": [
    "## Feature Extraction\n",
    "\n",
    "The following function, ```get_w2v_features``` transforms each sentence into a feature vector by averaging words vectors. In this way we can take into account the different length of each sentence, on the other side, by averaging on different words we will lose some word-specific information."
   ]
  },
  {
   "cell_type": "code",
   "execution_count": 11,
   "id": "random-torture",
   "metadata": {
    "execution": {
     "iopub.execute_input": "2021-05-20T16:30:23.181258Z",
     "iopub.status.busy": "2021-05-20T16:30:23.180300Z",
     "iopub.status.idle": "2021-05-20T16:30:23.182413Z",
     "shell.execute_reply": "2021-05-20T16:30:23.182823Z",
     "shell.execute_reply.started": "2021-05-20T15:34:13.995186Z"
    },
    "papermill": {
     "duration": 34.250759,
     "end_time": "2021-05-20T16:30:23.182986",
     "exception": false,
     "start_time": "2021-05-20T16:29:48.932227",
     "status": "completed"
    },
    "tags": []
   },
   "outputs": [],
   "source": [
    "def get_w2v_features(w2v_model, sentence_group):\n",
    "    \"\"\" Transform a sentence_group (containing multiple lists\n",
    "    of words) into a feature vector. It averages out all the\n",
    "    word vectors of the sentence_group.\n",
    "    \"\"\"\n",
    "    words = np.concatenate(sentence_group)  # words in text\n",
    "    index2word_set = set(w2v_model.index_to_key) # set(w2v_model.wv.vocab.keys())  # words known to model\n",
    "    \n",
    "    featureVec = np.zeros(w2v_model.vector_size, dtype=\"float32\")\n",
    "    \n",
    "    # Initialize a counter for number of words in a review\n",
    "    nwords = 0\n",
    "    # Loop over each word in the comment and, if it is in the model's vocabulary, add its feature vector to the total\n",
    "    for word in words:\n",
    "        if word in index2word_set: \n",
    "            featureVec = np.add(featureVec, w2v_model[word])\n",
    "            nwords += 1.\n",
    "\n",
    "    # Divide the result by the number of words to get the average\n",
    "    if nwords > 0:\n",
    "        featureVec = np.divide(featureVec, nwords)\n",
    "    return featureVec"
   ]
  },
  {
   "cell_type": "markdown",
   "id": "laughing-hunter",
   "metadata": {
    "papermill": {
     "duration": 34.329459,
     "end_time": "2021-05-20T16:31:31.653282",
     "exception": false,
     "start_time": "2021-05-20T16:30:57.323823",
     "status": "completed"
    },
    "tags": []
   },
   "source": [
    "Extracting Word2Vec features as a dataframe column. This cell takes quite a lot of time (~1 hr), it might be useful to parallelize the feature extraction process, you know nested ```for``` loops are always problematic in Python 🐍"
   ]
  },
  {
   "cell_type": "code",
   "execution_count": 12,
   "id": "middle-hughes",
   "metadata": {
    "execution": {
     "iopub.execute_input": "2021-05-20T16:32:40.718875Z",
     "iopub.status.busy": "2021-05-20T16:32:40.717995Z",
     "iopub.status.idle": "2021-05-20T17:04:13.501150Z",
     "shell.execute_reply": "2021-05-20T17:04:13.501641Z",
     "shell.execute_reply.started": "2021-05-20T15:34:16.132014Z"
    },
    "papermill": {
     "duration": 1927.523999,
     "end_time": "2021-05-20T17:04:13.501945",
     "exception": false,
     "start_time": "2021-05-20T16:32:05.977946",
     "status": "completed"
    },
    "tags": []
   },
   "outputs": [],
   "source": [
    "train_data['w2v_features'] = list(map(lambda sen_group:\n",
    "                                     get_w2v_features(W2Vmodel, sen_group),\n",
    "                                     train_data.tokenized_sentences))\n",
    "\n",
    "train_data[\"w2v_resh_features\"] = train_data[\"w2v_features\"].apply(lambda x : x.reshape(1,-1) )"
   ]
  },
  {
   "cell_type": "code",
   "execution_count": 13,
   "id": "economic-uruguay",
   "metadata": {
    "execution": {
     "iopub.execute_input": "2021-05-20T17:05:22.481359Z",
     "iopub.status.busy": "2021-05-20T17:05:22.480756Z",
     "iopub.status.idle": "2021-05-20T17:05:22.483540Z",
     "shell.execute_reply": "2021-05-20T17:05:22.483097Z"
    },
    "papermill": {
     "duration": 34.032743,
     "end_time": "2021-05-20T17:05:22.483671",
     "exception": false,
     "start_time": "2021-05-20T17:04:48.450928",
     "status": "completed"
    },
    "tags": []
   },
   "outputs": [],
   "source": [
    "# save w2v features\n",
    "#train_data.to_csv(\"w2v_features.csv\")"
   ]
  },
  {
   "cell_type": "markdown",
   "id": "nutritional-medication",
   "metadata": {
    "papermill": {
     "duration": 34.324791,
     "end_time": "2021-05-20T17:06:30.968505",
     "exception": false,
     "start_time": "2021-05-20T17:05:56.643714",
     "status": "completed"
    },
    "tags": []
   },
   "source": [
    "Converting Word2Vec features to ```numpy.ndarray``` for visualization purposes with ```UMAP```\n"
   ]
  },
  {
   "cell_type": "code",
   "execution_count": 14,
   "id": "historic-occasions",
   "metadata": {
    "execution": {
     "iopub.execute_input": "2021-05-20T17:07:42.005256Z",
     "iopub.status.busy": "2021-05-20T17:07:42.004608Z",
     "iopub.status.idle": "2021-05-20T17:07:42.511600Z",
     "shell.execute_reply": "2021-05-20T17:07:42.512246Z"
    },
    "papermill": {
     "duration": 34.744561,
     "end_time": "2021-05-20T17:07:42.512480",
     "exception": false,
     "start_time": "2021-05-20T17:07:07.767919",
     "status": "completed"
    },
    "tags": []
   },
   "outputs": [],
   "source": [
    "arr_w2v = train_data.w2v_resh_features[0]\n",
    "for i in range(1, len(train_data)):\n",
    "    arr_w2v = np.vstack((arr_w2v, train_data.w2v_resh_features[i]))"
   ]
  },
  {
   "cell_type": "markdown",
   "id": "twenty-binary",
   "metadata": {
    "papermill": {
     "duration": 34.230927,
     "end_time": "2021-05-20T17:08:50.932013",
     "exception": false,
     "start_time": "2021-05-20T17:08:16.701086",
     "status": "completed"
    },
    "tags": []
   },
   "source": [
    "# Dimensionality Reduction and Visualization via UMAP\n",
    "\n",
    "```UMAP``` is a nonlinear dimensionality reduction technique, something like ```PCA``` but more fancy! \n",
    "It can be used for both *unsupervised* and *supervised* problems and also both for *regression* and *classification* problems.   \n",
    "\n",
    "Since we are facing a regression problem, i.e. our target variable is continuous, we have to impose ```target_metric = 'l1'``` (thanks Leland McInnes, here a [github issue ](https://github.com/lmcinnes/umap/issues/257) as motivation). \n",
    "We opted for a 2-dimensional representation (```n_components = 2```) "
   ]
  },
  {
   "cell_type": "code",
   "execution_count": 15,
   "id": "extended-apartment",
   "metadata": {
    "execution": {
     "iopub.execute_input": "2021-05-20T17:09:58.835006Z",
     "iopub.status.busy": "2021-05-20T17:09:58.834355Z",
     "iopub.status.idle": "2021-05-20T17:10:22.095121Z",
     "shell.execute_reply": "2021-05-20T17:10:22.094488Z"
    },
    "papermill": {
     "duration": 57.23889,
     "end_time": "2021-05-20T17:10:22.095278",
     "exception": false,
     "start_time": "2021-05-20T17:09:24.856388",
     "status": "completed"
    },
    "tags": []
   },
   "outputs": [],
   "source": [
    "umap_emb = umap.UMAP(n_neighbors= 15, n_components = 2, target_metric = 'l1' , n_epochs = 500).fit_transform(arr_w2v, y=train_data.target)"
   ]
  },
  {
   "cell_type": "markdown",
   "id": "attempted-wellington",
   "metadata": {
    "papermill": {
     "duration": 34.9744,
     "end_time": "2021-05-20T17:11:33.949840",
     "exception": false,
     "start_time": "2021-05-20T17:10:58.975440",
     "status": "completed"
    },
    "tags": []
   },
   "source": [
    "Let's take a look at what we get by plotting this new 2-d space."
   ]
  },
  {
   "cell_type": "code",
   "execution_count": 16,
   "id": "swedish-exhibit",
   "metadata": {
    "execution": {
     "iopub.execute_input": "2021-05-20T17:12:42.727734Z",
     "iopub.status.busy": "2021-05-20T17:12:42.726830Z",
     "iopub.status.idle": "2021-05-20T17:12:42.989198Z",
     "shell.execute_reply": "2021-05-20T17:12:42.988654Z"
    },
    "papermill": {
     "duration": 34.477967,
     "end_time": "2021-05-20T17:12:42.989341",
     "exception": false,
     "start_time": "2021-05-20T17:12:08.511374",
     "status": "completed"
    },
    "tags": []
   },
   "outputs": [
    {
     "data": {
      "text/plain": [
       "[None, None, None, None, None, None, None, None, None, None]"
      ]
     },
     "execution_count": 16,
     "metadata": {},
     "output_type": "execute_result"
    },
    {
     "data": {
      "image/png": "[encoded data removed]",
      "text/plain": [
       "<Figure size 1008x720 with 2 Axes>"
      ]
     },
     "metadata": {
      "needs_background": "light"
     },
     "output_type": "display_data"
    }
   ],
   "source": [
    "fig, ax = plt.subplots(1, figsize=(14, 10))\n",
    "plt.scatter(*umap_emb.T, s=3, c=train_data.target, cmap='Spectral', alpha=1.0)\n",
    "plt.setp(ax, xticks=[], yticks=[])\n",
    "ax.patch.set_facecolor('black')\n",
    "fg_color = 'black'\n",
    "cbar = plt.colorbar()\n",
    "plt.setp(plt.getp(cbar.ax.axes, 'yticklabels'), color=fg_color)"
   ]
  },
  {
   "cell_type": "markdown",
   "id": "aggregate-jumping",
   "metadata": {
    "papermill": {
     "duration": 34.243913,
     "end_time": "2021-05-20T17:13:51.505881",
     "exception": false,
     "start_time": "2021-05-20T17:13:17.261968",
     "status": "completed"
    },
    "tags": []
   },
   "source": [
    "Okay, in a supervised setting ```UMAP``` is able to isolate this structure, i.e. it seems that there exist a specific subspace which is kinda parametrized by the **readability target**. Is it possible to find a similar structure in a semi-supervised or unsupervised setting? Let's dive in 🏊🤿"
   ]
  },
  {
   "cell_type": "markdown",
   "id": "australian-malaysia",
   "metadata": {
    "papermill": {
     "duration": 34.468642,
     "end_time": "2021-05-20T17:15:00.233679",
     "exception": false,
     "start_time": "2021-05-20T17:14:25.765037",
     "status": "completed"
    },
    "tags": []
   },
   "source": [
    "## Validation Set\n",
    "\n",
    "Let's use ```scikit-learn```'s ```train_test_split``` method in order to extract a validation set and try to see whether a semi-supervised ```UMAP``` can capture some structures."
   ]
  },
  {
   "cell_type": "code",
   "execution_count": 17,
   "id": "worse-article",
   "metadata": {
    "execution": {
     "iopub.execute_input": "2021-05-20T17:16:08.711477Z",
     "iopub.status.busy": "2021-05-20T17:16:08.710567Z",
     "iopub.status.idle": "2021-05-20T17:16:08.728422Z",
     "shell.execute_reply": "2021-05-20T17:16:08.727796Z"
    },
    "papermill": {
     "duration": 34.151865,
     "end_time": "2021-05-20T17:16:08.728563",
     "exception": false,
     "start_time": "2021-05-20T17:15:34.576698",
     "status": "completed"
    },
    "tags": []
   },
   "outputs": [],
   "source": [
    "X_train, X_val, y_train, y_val = train_test_split(\n",
    "    arr_w2v, train_data[[\"target\", \"standard_error\"]].values, test_size=0.10, random_state=42)"
   ]
  },
  {
   "cell_type": "code",
   "execution_count": 18,
   "id": "revolutionary-wrapping",
   "metadata": {
    "execution": {
     "iopub.execute_input": "2021-05-20T17:17:17.510238Z",
     "iopub.status.busy": "2021-05-20T17:17:17.509336Z",
     "iopub.status.idle": "2021-05-20T17:17:34.631145Z",
     "shell.execute_reply": "2021-05-20T17:17:34.630637Z"
    },
    "papermill": {
     "duration": 51.395828,
     "end_time": "2021-05-20T17:17:34.631281",
     "exception": false,
     "start_time": "2021-05-20T17:16:43.235453",
     "status": "completed"
    },
    "tags": []
   },
   "outputs": [],
   "source": [
    "mapper = umap.UMAP(n_neighbors= 15, n_components = 2, target_metric = 'l1' , n_epochs = 1000).fit(X_train, y=y_train[:,0])"
   ]
  },
  {
   "cell_type": "code",
   "execution_count": 19,
   "id": "greatest-august",
   "metadata": {
    "execution": {
     "iopub.execute_input": "2021-05-20T17:18:43.203448Z",
     "iopub.status.busy": "2021-05-20T17:18:43.202888Z",
     "iopub.status.idle": "2021-05-20T17:18:51.180735Z",
     "shell.execute_reply": "2021-05-20T17:18:51.179779Z"
    },
    "papermill": {
     "duration": 42.269173,
     "end_time": "2021-05-20T17:18:51.180874",
     "exception": false,
     "start_time": "2021-05-20T17:18:08.911701",
     "status": "completed"
    },
    "tags": []
   },
   "outputs": [],
   "source": [
    "val_embedding = mapper.transform(X_val)"
   ]
  },
  {
   "cell_type": "code",
   "execution_count": 20,
   "id": "engaged-advertiser",
   "metadata": {
    "execution": {
     "iopub.execute_input": "2021-05-20T17:19:59.745695Z",
     "iopub.status.busy": "2021-05-20T17:19:59.744842Z",
     "iopub.status.idle": "2021-05-20T17:19:59.922294Z",
     "shell.execute_reply": "2021-05-20T17:19:59.921740Z"
    },
    "papermill": {
     "duration": 34.342759,
     "end_time": "2021-05-20T17:19:59.922424",
     "exception": false,
     "start_time": "2021-05-20T17:19:25.579665",
     "status": "completed"
    },
    "tags": []
   },
   "outputs": [
    {
     "data": {
      "text/plain": [
       "[None, None, None, None, None, None, None, None, None, None]"
      ]
     },
     "execution_count": 20,
     "metadata": {},
     "output_type": "execute_result"
    },
    {
     "data": {
      "image/png": "[encoded data removed]",
      "text/plain": [
       "<Figure size 1008x720 with 2 Axes>"
      ]
     },
     "metadata": {
      "needs_background": "light"
     },
     "output_type": "display_data"
    }
   ],
   "source": [
    "fig, ax = plt.subplots(1, figsize=(14, 10))\n",
    "plt.scatter(*mapper.embedding_.T, s=3, c=y_train[:,0], cmap='Spectral', alpha=1.0)\n",
    "plt.setp(ax, xticks=[], yticks=[])\n",
    "ax.patch.set_facecolor('black')\n",
    "fg_color = 'black'\n",
    "cbar = plt.colorbar()\n",
    "plt.setp(plt.getp(cbar.ax.axes, 'yticklabels'), color=fg_color)"
   ]
  },
  {
   "cell_type": "code",
   "execution_count": 21,
   "id": "aware-address",
   "metadata": {
    "execution": {
     "iopub.execute_input": "2021-05-20T17:21:08.725020Z",
     "iopub.status.busy": "2021-05-20T17:21:08.724145Z",
     "iopub.status.idle": "2021-05-20T17:21:08.870308Z",
     "shell.execute_reply": "2021-05-20T17:21:08.869845Z"
    },
    "papermill": {
     "duration": 34.43352,
     "end_time": "2021-05-20T17:21:08.870444",
     "exception": false,
     "start_time": "2021-05-20T17:20:34.436924",
     "status": "completed"
    },
    "tags": []
   },
   "outputs": [
    {
     "data": {
      "text/plain": [
       "[None, None, None, None, None, None, None, None, None, None]"
      ]
     },
     "execution_count": 21,
     "metadata": {},
     "output_type": "execute_result"
    },
    {
     "data": {
      "image/png": "[encoded data removed]",
      "text/plain": [
       "<Figure size 1008x720 with 2 Axes>"
      ]
     },
     "metadata": {
      "needs_background": "light"
     },
     "output_type": "display_data"
    }
   ],
   "source": [
    "fig, ax = plt.subplots(1, figsize=(14, 10))\n",
    "plt.scatter(*val_embedding.T, s=3, c=y_val[:,0], cmap='Spectral', alpha=1.0)\n",
    "plt.setp(ax, xticks=[], yticks=[])\n",
    "ax.patch.set_facecolor('black')\n",
    "fg_color = 'black'\n",
    "cbar = plt.colorbar()\n",
    "plt.setp(plt.getp(cbar.ax.axes, 'yticklabels'), color=fg_color)"
   ]
  },
  {
   "cell_type": "markdown",
   "id": "stock-credit",
   "metadata": {
    "papermill": {
     "duration": 34.527118,
     "end_time": "2021-05-20T17:22:17.755351",
     "exception": false,
     "start_time": "2021-05-20T17:21:43.228233",
     "status": "completed"
    },
    "tags": []
   },
   "source": [
    "Unfortunately the result is not what we wanted it to be. Anyway, a further investigation of the supervised representation extracted by ```UMAP``` is worth to be done even by considering it for augmentation strategies"
   ]
  },
  {
   "cell_type": "markdown",
   "id": "blocked-lease",
   "metadata": {
    "papermill": {
     "duration": 34.150745,
     "end_time": "2021-05-20T17:23:26.327435",
     "exception": false,
     "start_time": "2021-05-20T17:22:52.176690",
     "status": "completed"
    },
    "tags": []
   },
   "source": [
    "# XGBoost on W2V features\n",
    "\n",
    "Here we apply a ```XGBoost``` regressor on our Word2Vec features,  in order to be ready for submission"
   ]
  },
  {
   "cell_type": "code",
   "execution_count": 22,
   "id": "union-airplane",
   "metadata": {
    "execution": {
     "iopub.execute_input": "2021-05-20T17:24:35.592438Z",
     "iopub.status.busy": "2021-05-20T17:24:35.591856Z",
     "iopub.status.idle": "2021-05-20T17:24:35.758271Z",
     "shell.execute_reply": "2021-05-20T17:24:35.757633Z"
    },
    "papermill": {
     "duration": 34.834909,
     "end_time": "2021-05-20T17:24:35.758417",
     "exception": false,
     "start_time": "2021-05-20T17:24:00.923508",
     "status": "completed"
    },
    "tags": []
   },
   "outputs": [],
   "source": [
    "import xgboost as xgb\n",
    "from sklearn.metrics import mean_squared_error as mse"
   ]
  },
  {
   "cell_type": "code",
   "execution_count": 23,
   "id": "original-persian",
   "metadata": {
    "execution": {
     "iopub.execute_input": "2021-05-20T17:25:44.349806Z",
     "iopub.status.busy": "2021-05-20T17:25:44.349224Z",
     "iopub.status.idle": "2021-05-20T17:26:00.105455Z",
     "shell.execute_reply": "2021-05-20T17:26:00.105843Z"
    },
    "papermill": {
     "duration": 49.932804,
     "end_time": "2021-05-20T17:26:00.106020",
     "exception": false,
     "start_time": "2021-05-20T17:25:10.173216",
     "status": "completed"
    },
    "tags": []
   },
   "outputs": [
    {
     "name": "stderr",
     "output_type": "stream",
     "text": [
      "/opt/conda/lib/python3.7/site-packages/xgboost/data.py:114: UserWarning: Use subset (sliced data) of np.ndarray is not recommended because it will generate extra copies and increase memory consumption\n",
      "  \"because it will generate extra copies and increase \" +\n"
     ]
    },
    {
     "data": {
      "text/plain": [
       "XGBRegressor(alpha=10, base_score=0.5, booster='gbtree', colsample_bylevel=1,\n",
       "             colsample_bynode=1, colsample_bytree=0.5, gamma=0, gpu_id=-1,\n",
       "             importance_type='gain', interaction_constraints='',\n",
       "             learning_rate=0.1, max_delta_step=0, max_depth=5,\n",
       "             min_child_weight=1, missing=nan, monotone_constraints='()',\n",
       "             n_estimators=1000, n_jobs=4, num_parallel_tree=1, random_state=0,\n",
       "             reg_alpha=10, reg_lambda=1, scale_pos_weight=1, subsample=1,\n",
       "             tree_method='exact', validate_parameters=1, verbosity=1)"
      ]
     },
     "execution_count": 23,
     "metadata": {},
     "output_type": "execute_result"
    }
   ],
   "source": [
    "xg_reg = xgb.XGBRegressor(objective ='reg:squarederror', colsample_bytree = 0.5, learning_rate = 0.1,\n",
    "                max_depth = 5, alpha = 10, n_estimators = 1000, verbosity = 1)\n",
    "\n",
    "xg_reg.fit(X_train,y_train[:,0])"
   ]
  },
  {
   "cell_type": "code",
   "execution_count": 24,
   "id": "identical-henry",
   "metadata": {
    "execution": {
     "iopub.execute_input": "2021-05-20T17:27:08.503744Z",
     "iopub.status.busy": "2021-05-20T17:27:08.503089Z",
     "iopub.status.idle": "2021-05-20T17:27:08.515409Z",
     "shell.execute_reply": "2021-05-20T17:27:08.514678Z"
    },
    "papermill": {
     "duration": 34.056209,
     "end_time": "2021-05-20T17:27:08.515609",
     "exception": false,
     "start_time": "2021-05-20T17:26:34.459400",
     "status": "completed"
    },
    "tags": []
   },
   "outputs": [],
   "source": [
    "preds = xg_reg.predict(X_val)"
   ]
  },
  {
   "cell_type": "markdown",
   "id": "tough-malawi",
   "metadata": {
    "papermill": {
     "duration": 34.275726,
     "end_time": "2021-05-20T17:28:17.147375",
     "exception": false,
     "start_time": "2021-05-20T17:27:42.871649",
     "status": "completed"
    },
    "tags": []
   },
   "source": [
    "~0.69 not bad, let's see on test :) "
   ]
  },
  {
   "cell_type": "code",
   "execution_count": 25,
   "id": "continued-polyester",
   "metadata": {
    "execution": {
     "iopub.execute_input": "2021-05-20T17:29:25.760694Z",
     "iopub.status.busy": "2021-05-20T17:29:25.760108Z",
     "iopub.status.idle": "2021-05-20T17:29:25.763883Z",
     "shell.execute_reply": "2021-05-20T17:29:25.763424Z"
    },
    "papermill": {
     "duration": 34.088093,
     "end_time": "2021-05-20T17:29:25.764019",
     "exception": false,
     "start_time": "2021-05-20T17:28:51.675926",
     "status": "completed"
    },
    "tags": []
   },
   "outputs": [
    {
     "data": {
      "text/plain": [
       "0.656116743177399"
      ]
     },
     "execution_count": 25,
     "metadata": {},
     "output_type": "execute_result"
    }
   ],
   "source": [
    "np.sqrt(mse(y_val[:,0], preds)) "
   ]
  },
  {
   "cell_type": "markdown",
   "id": "burning-olive",
   "metadata": {
    "papermill": {
     "duration": 34.155702,
     "end_time": "2021-05-20T17:30:34.141671",
     "exception": false,
     "start_time": "2021-05-20T17:29:59.985969",
     "status": "completed"
    },
    "tags": []
   },
   "source": [
    "# W2V Naive Augmentation \n",
    "\n",
    "In this section, we'll try to instantiate a naive augmentation pipeline for Word2Vec features. The rationale behind the following strategy is that W2V features are essentially vectors so we can augment our \"feature set\" by perturbing these vectors with a small gaussian noise, in order to facilitate the learning procedure for our regressor of choice. Moreover, we'd like to see if by augmenting our \"feature set\" in this way we can **break** the structure extracted by the supervised ```UMAP```.\n",
    "\n",
    "Of course, this naive augmentation doesn't make a lot of sense from a word/sentence perspective\n",
    "since it might be that the perturbed vectors don't correspond to any word/sentence themselves.\n",
    "\n",
    "With the following method, ```augment_train_w2v```, we augment the training set by adding a small gaussian noise on w2v's features while slightly modifying (by exploiting the **standard deviation** of each target) the new target variable corresponding to the augmented sample."
   ]
  },
  {
   "cell_type": "code",
   "execution_count": 26,
   "id": "inappropriate-apache",
   "metadata": {
    "execution": {
     "iopub.execute_input": "2021-05-20T17:31:43.009446Z",
     "iopub.status.busy": "2021-05-20T17:31:43.008601Z",
     "iopub.status.idle": "2021-05-20T17:31:43.010621Z",
     "shell.execute_reply": "2021-05-20T17:31:43.011097Z"
    },
    "papermill": {
     "duration": 34.381037,
     "end_time": "2021-05-20T17:31:43.011285",
     "exception": false,
     "start_time": "2021-05-20T17:31:08.630248",
     "status": "completed"
    },
    "tags": []
   },
   "outputs": [],
   "source": [
    "def augment_train_w2v(X_train, y_train, y_std, times = 5):\n",
    "    \n",
    "    augmented_w2v_X = X_train.copy()\n",
    "    augmented_w2v_y = y_train.copy()\n",
    "    \n",
    "    for j in range(0, times - 1):\n",
    "        for i in range(0, X_train.shape[0]):\n",
    "        \n",
    "            new_w2v = X_train[i,:] + np.random.uniform(1,8)*1e-4*np.random.randn(300)       # np.random.uniform(1,8)*1e-3*np.random.randn(300)\n",
    "            augmented_w2v_X = np.vstack((augmented_w2v_X, new_w2v))\n",
    "            \n",
    "            new_y = y_train[i] + np.random.choice([-1, 1])*y_std[i]*0.05\n",
    "            augmented_w2v_y = np.append(augmented_w2v_y, new_y)\n",
    "        \n",
    "    return augmented_w2v_X, augmented_w2v_y"
   ]
  },
  {
   "cell_type": "code",
   "execution_count": 27,
   "id": "figured-background",
   "metadata": {
    "execution": {
     "iopub.execute_input": "2021-05-20T17:32:51.921955Z",
     "iopub.status.busy": "2021-05-20T17:32:51.921371Z",
     "iopub.status.idle": "2021-05-20T17:34:14.070271Z",
     "shell.execute_reply": "2021-05-20T17:34:14.069675Z"
    },
    "papermill": {
     "duration": 116.726804,
     "end_time": "2021-05-20T17:34:14.070437",
     "exception": false,
     "start_time": "2021-05-20T17:32:17.343633",
     "status": "completed"
    },
    "tags": []
   },
   "outputs": [],
   "source": [
    "aug_X_train, aug_Y_train = augment_train_w2v(X_train, y_train[:,0], y_train[:,1], times = 5)"
   ]
  },
  {
   "cell_type": "markdown",
   "id": "wooden-yahoo",
   "metadata": {
    "papermill": {
     "duration": 34.331457,
     "end_time": "2021-05-20T17:35:22.686733",
     "exception": false,
     "start_time": "2021-05-20T17:34:48.355276",
     "status": "completed"
    },
    "tags": []
   },
   "source": [
    "We decided to shuffle again the new augmented training set by keeping the information on the sample-target couple. That's what the following method ```shuffle_couples``` does. "
   ]
  },
  {
   "cell_type": "code",
   "execution_count": 28,
   "id": "mexican-smith",
   "metadata": {
    "execution": {
     "iopub.execute_input": "2021-05-20T17:36:31.271455Z",
     "iopub.status.busy": "2021-05-20T17:36:31.270844Z",
     "iopub.status.idle": "2021-05-20T17:36:31.273700Z",
     "shell.execute_reply": "2021-05-20T17:36:31.273241Z"
    },
    "papermill": {
     "duration": 34.111542,
     "end_time": "2021-05-20T17:36:31.273905",
     "exception": false,
     "start_time": "2021-05-20T17:35:57.162363",
     "status": "completed"
    },
    "tags": []
   },
   "outputs": [],
   "source": [
    "def shuffle_couples(a, b):\n",
    "    assert len(a) == len(b)\n",
    "    p = np.random.permutation(len(a))\n",
    "    return a[p], b[p]"
   ]
  },
  {
   "cell_type": "code",
   "execution_count": 29,
   "id": "initial-montgomery",
   "metadata": {
    "execution": {
     "iopub.execute_input": "2021-05-20T17:37:39.943905Z",
     "iopub.status.busy": "2021-05-20T17:37:39.943307Z",
     "iopub.status.idle": "2021-05-20T17:37:39.962360Z",
     "shell.execute_reply": "2021-05-20T17:37:39.961878Z"
    },
    "papermill": {
     "duration": 34.448727,
     "end_time": "2021-05-20T17:37:39.962501",
     "exception": false,
     "start_time": "2021-05-20T17:37:05.513774",
     "status": "completed"
    },
    "tags": []
   },
   "outputs": [],
   "source": [
    "aug_X_train, aug_Y_train = shuffle_couples(aug_X_train, aug_Y_train)"
   ]
  },
  {
   "cell_type": "markdown",
   "id": "conventional-robert",
   "metadata": {
    "papermill": {
     "duration": 34.489595,
     "end_time": "2021-05-20T17:38:48.528078",
     "exception": false,
     "start_time": "2021-05-20T17:38:14.038483",
     "status": "completed"
    },
    "tags": []
   },
   "source": [
    "Now let's see if the previously seen structure still exist ( you can try to change the parameter ```times``` of ```augment_train_w2v``` to see weather it affects something or not) "
   ]
  },
  {
   "cell_type": "code",
   "execution_count": 30,
   "id": "appreciated-italic",
   "metadata": {
    "execution": {
     "iopub.execute_input": "2021-05-20T17:39:57.028568Z",
     "iopub.status.busy": "2021-05-20T17:39:57.027871Z",
     "iopub.status.idle": "2021-05-20T17:40:44.904166Z",
     "shell.execute_reply": "2021-05-20T17:40:44.904639Z"
    },
    "papermill": {
     "duration": 82.077662,
     "end_time": "2021-05-20T17:40:44.904829",
     "exception": false,
     "start_time": "2021-05-20T17:39:22.827167",
     "status": "completed"
    },
    "tags": []
   },
   "outputs": [],
   "source": [
    "mapper_2 = umap.UMAP(n_neighbors= 15, n_components = 2, min_dist = 0.1, target_metric = 'l1' , n_epochs = 1000).fit(aug_X_train)#, y=aug_Y_train)"
   ]
  },
  {
   "cell_type": "code",
   "execution_count": 31,
   "id": "ideal-crack",
   "metadata": {
    "execution": {
     "iopub.execute_input": "2021-05-20T17:41:54.145861Z",
     "iopub.status.busy": "2021-05-20T17:41:54.145302Z",
     "iopub.status.idle": "2021-05-20T17:42:12.986014Z",
     "shell.execute_reply": "2021-05-20T17:42:12.985424Z"
    },
    "papermill": {
     "duration": 53.340348,
     "end_time": "2021-05-20T17:42:12.986183",
     "exception": false,
     "start_time": "2021-05-20T17:41:19.645835",
     "status": "completed"
    },
    "tags": []
   },
   "outputs": [],
   "source": [
    "val_embedding_2 = mapper_2.transform(X_val)"
   ]
  },
  {
   "cell_type": "code",
   "execution_count": 32,
   "id": "large-eating",
   "metadata": {
    "execution": {
     "iopub.execute_input": "2021-05-20T17:43:21.231131Z",
     "iopub.status.busy": "2021-05-20T17:43:21.230512Z",
     "iopub.status.idle": "2021-05-20T17:43:21.514085Z",
     "shell.execute_reply": "2021-05-20T17:43:21.501597Z"
    },
    "papermill": {
     "duration": 34.484478,
     "end_time": "2021-05-20T17:43:21.514244",
     "exception": false,
     "start_time": "2021-05-20T17:42:47.029766",
     "status": "completed"
    },
    "tags": []
   },
   "outputs": [
    {
     "data": {
      "text/plain": [
       "[None, None, None, None, None, None, None, None, None, None]"
      ]
     },
     "execution_count": 32,
     "metadata": {},
     "output_type": "execute_result"
    },
    {
     "data": {
      "image/png": "[encoded data removed]",
      "text/plain": [
       "<Figure size 1008x720 with 2 Axes>"
      ]
     },
     "metadata": {
      "needs_background": "light"
     },
     "output_type": "display_data"
    }
   ],
   "source": [
    "fig, ax = plt.subplots(1, figsize=(14, 10))\n",
    "plt.scatter(*mapper_2.embedding_.T, s=3, c=aug_Y_train, cmap='Spectral', alpha=1.0)\n",
    "plt.setp(ax, xticks=[], yticks=[])\n",
    "ax.patch.set_facecolor('black')\n",
    "fg_color = 'black'\n",
    "cbar = plt.colorbar()\n",
    "plt.setp(plt.getp(cbar.ax.axes, 'yticklabels'), color=fg_color)"
   ]
  },
  {
   "cell_type": "code",
   "execution_count": 33,
   "id": "former-buffer",
   "metadata": {
    "execution": {
     "iopub.execute_input": "2021-05-20T17:44:29.855607Z",
     "iopub.status.busy": "2021-05-20T17:44:29.852836Z",
     "iopub.status.idle": "2021-05-20T17:44:29.982013Z",
     "shell.execute_reply": "2021-05-20T17:44:29.981567Z"
    },
    "papermill": {
     "duration": 34.544951,
     "end_time": "2021-05-20T17:44:29.982178",
     "exception": false,
     "start_time": "2021-05-20T17:43:55.437227",
     "status": "completed"
    },
    "tags": []
   },
   "outputs": [
    {
     "data": {
      "text/plain": [
       "[None, None, None, None, None, None, None, None, None, None]"
      ]
     },
     "execution_count": 33,
     "metadata": {},
     "output_type": "execute_result"
    },
    {
     "data": {
      "image/png": "[encoded data removed]",
      "text/plain": [
       "<Figure size 1008x720 with 2 Axes>"
      ]
     },
     "metadata": {
      "needs_background": "light"
     },
     "output_type": "display_data"
    }
   ],
   "source": [
    "fig, ax = plt.subplots(1, figsize=(14, 10))\n",
    "plt.scatter(*val_embedding_2.T, s=3, c=y_val[:,0], cmap='Spectral', alpha=1.0)\n",
    "plt.setp(ax, xticks=[], yticks=[])\n",
    "ax.patch.set_facecolor('black')\n",
    "fg_color = 'black'\n",
    "cbar = plt.colorbar()\n",
    "plt.setp(plt.getp(cbar.ax.axes, 'yticklabels'), color=fg_color)"
   ]
  },
  {
   "cell_type": "markdown",
   "id": "occasional-annex",
   "metadata": {
    "papermill": {
     "duration": 34.427535,
     "end_time": "2021-05-20T17:45:38.911771",
     "exception": false,
     "start_time": "2021-05-20T17:45:04.484236",
     "status": "completed"
    },
    "tags": []
   },
   "source": [
    "Apparently the structure is affected by this augmentation strategy. After that we can take a look at the ```rmse``` score, maybe we can get a better result"
   ]
  },
  {
   "cell_type": "code",
   "execution_count": 34,
   "id": "religious-stranger",
   "metadata": {
    "execution": {
     "iopub.execute_input": "2021-05-20T17:46:47.311012Z",
     "iopub.status.busy": "2021-05-20T17:46:47.310454Z",
     "iopub.status.idle": "2021-05-20T17:48:29.251994Z",
     "shell.execute_reply": "2021-05-20T17:48:29.252430Z"
    },
    "papermill": {
     "duration": 136.244362,
     "end_time": "2021-05-20T17:48:29.252619",
     "exception": false,
     "start_time": "2021-05-20T17:46:13.008257",
     "status": "completed"
    },
    "tags": []
   },
   "outputs": [
    {
     "data": {
      "text/plain": [
       "XGBRegressor(alpha=10, base_score=0.5, booster='gbtree', colsample_bylevel=1,\n",
       "             colsample_bynode=1, colsample_bytree=0.5, gamma=0, gpu_id=-1,\n",
       "             importance_type='gain', interaction_constraints='',\n",
       "             learning_rate=0.1, max_delta_step=0, max_depth=5,\n",
       "             min_child_weight=1, missing=nan, monotone_constraints='()',\n",
       "             n_estimators=1000, n_jobs=4, num_parallel_tree=1, random_state=0,\n",
       "             reg_alpha=10, reg_lambda=1, scale_pos_weight=1, subsample=1,\n",
       "             tree_method='exact', validate_parameters=1, verbosity=1)"
      ]
     },
     "execution_count": 34,
     "metadata": {},
     "output_type": "execute_result"
    }
   ],
   "source": [
    "xg_reg = xgb.XGBRegressor(objective ='reg:squarederror', colsample_bytree = 0.5, learning_rate = 0.1,\n",
    "                max_depth = 5, alpha = 10, n_estimators = 1000, verbosity = 1)\n",
    "\n",
    "xg_reg.fit(aug_X_train, aug_Y_train)"
   ]
  },
  {
   "cell_type": "code",
   "execution_count": 35,
   "id": "later-seafood",
   "metadata": {
    "execution": {
     "iopub.execute_input": "2021-05-20T17:49:37.668208Z",
     "iopub.status.busy": "2021-05-20T17:49:37.667474Z",
     "iopub.status.idle": "2021-05-20T17:49:37.674673Z",
     "shell.execute_reply": "2021-05-20T17:49:37.675115Z"
    },
    "papermill": {
     "duration": 34.349513,
     "end_time": "2021-05-20T17:49:37.675281",
     "exception": false,
     "start_time": "2021-05-20T17:49:03.325768",
     "status": "completed"
    },
    "tags": []
   },
   "outputs": [],
   "source": [
    "preds = xg_reg.predict(X_val)"
   ]
  },
  {
   "cell_type": "code",
   "execution_count": 36,
   "id": "productive-assurance",
   "metadata": {
    "execution": {
     "iopub.execute_input": "2021-05-20T17:50:51.125583Z",
     "iopub.status.busy": "2021-05-20T17:50:51.124897Z",
     "iopub.status.idle": "2021-05-20T17:50:51.130193Z",
     "shell.execute_reply": "2021-05-20T17:50:51.130596Z"
    },
    "papermill": {
     "duration": 39.259835,
     "end_time": "2021-05-20T17:50:51.130762",
     "exception": false,
     "start_time": "2021-05-20T17:50:11.870927",
     "status": "completed"
    },
    "tags": []
   },
   "outputs": [
    {
     "data": {
      "text/plain": [
       "0.6792162014766102"
      ]
     },
     "execution_count": 36,
     "metadata": {},
     "output_type": "execute_result"
    }
   ],
   "source": [
    "np.sqrt(mse(y_val[:,0], preds))"
   ]
  },
  {
   "cell_type": "markdown",
   "id": "moral-syntax",
   "metadata": {
    "papermill": {
     "duration": 34.040762,
     "end_time": "2021-05-20T17:51:59.693291",
     "exception": false,
     "start_time": "2021-05-20T17:51:25.652529",
     "status": "completed"
    },
    "tags": []
   },
   "source": [
    "The result is pretty much the same, we need to devise a better augmentation strategy, maybe by exploiting the information gained with ```UMAP```\n"
   ]
  },
  {
   "cell_type": "markdown",
   "id": "arbitrary-edmonton",
   "metadata": {
    "papermill": {
     "duration": 34.535069,
     "end_time": "2021-05-20T17:53:08.416180",
     "exception": false,
     "start_time": "2021-05-20T17:52:33.881111",
     "status": "completed"
    },
    "tags": []
   },
   "source": [
    "# Test Data\n",
    "\n",
    "Preparing submission with test data by basically re-doing the previously seen operations."
   ]
  },
  {
   "cell_type": "code",
   "execution_count": 37,
   "id": "arctic-mortgage",
   "metadata": {
    "execution": {
     "iopub.execute_input": "2021-05-20T17:54:17.069826Z",
     "iopub.status.busy": "2021-05-20T17:54:17.069266Z",
     "iopub.status.idle": "2021-05-20T17:54:17.099664Z",
     "shell.execute_reply": "2021-05-20T17:54:17.100078Z"
    },
    "papermill": {
     "duration": 34.522018,
     "end_time": "2021-05-20T17:54:17.100251",
     "exception": false,
     "start_time": "2021-05-20T17:53:42.578233",
     "status": "completed"
    },
    "tags": []
   },
   "outputs": [
    {
     "data": {
      "text/html": [
       "<div>\n",
       "<style scoped>\n",
       "    .dataframe tbody tr th:only-of-type {\n",
       "        vertical-align: middle;\n",
       "    }\n",
       "\n",
       "    .dataframe tbody tr th {\n",
       "        vertical-align: top;\n",
       "    }\n",
       "\n",
       "    .dataframe thead th {\n",
       "        text-align: right;\n",
       "    }\n",
       "</style>\n",
       "<table border=\"1\" class=\"dataframe\">\n",
       "  <thead>\n",
       "    <tr style=\"text-align: right;\">\n",
       "      <th></th>\n",
       "      <th>id</th>\n",
       "      <th>url_legal</th>\n",
       "      <th>license</th>\n",
       "      <th>excerpt</th>\n",
       "    </tr>\n",
       "  </thead>\n",
       "  <tbody>\n",
       "    <tr>\n",
       "      <th>0</th>\n",
       "      <td>c0f722661</td>\n",
       "      <td>NaN</td>\n",
       "      <td>NaN</td>\n",
       "      <td>My hope lay in Jack's promise that he would ke...</td>\n",
       "    </tr>\n",
       "    <tr>\n",
       "      <th>1</th>\n",
       "      <td>f0953f0a5</td>\n",
       "      <td>NaN</td>\n",
       "      <td>NaN</td>\n",
       "      <td>Dotty continued to go to Mrs. Gray's every nig...</td>\n",
       "    </tr>\n",
       "    <tr>\n",
       "      <th>2</th>\n",
       "      <td>0df072751</td>\n",
       "      <td>NaN</td>\n",
       "      <td>NaN</td>\n",
       "      <td>It was a bright and cheerful scene that greete...</td>\n",
       "    </tr>\n",
       "    <tr>\n",
       "      <th>3</th>\n",
       "      <td>04caf4e0c</td>\n",
       "      <td>https://en.wikipedia.org/wiki/Cell_division</td>\n",
       "      <td>CC BY-SA 3.0</td>\n",
       "      <td>Cell division is the process by which a parent...</td>\n",
       "    </tr>\n",
       "    <tr>\n",
       "      <th>4</th>\n",
       "      <td>0e63f8bea</td>\n",
       "      <td>https://en.wikipedia.org/wiki/Debugging</td>\n",
       "      <td>CC BY-SA 3.0</td>\n",
       "      <td>Debugging is the process of finding and resolv...</td>\n",
       "    </tr>\n",
       "  </tbody>\n",
       "</table>\n",
       "</div>"
      ],
      "text/plain": [
       "          id                                    url_legal       license  \\\n",
       "0  c0f722661                                          NaN           NaN   \n",
       "1  f0953f0a5                                          NaN           NaN   \n",
       "2  0df072751                                          NaN           NaN   \n",
       "3  04caf4e0c  https://en.wikipedia.org/wiki/Cell_division  CC BY-SA 3.0   \n",
       "4  0e63f8bea      https://en.wikipedia.org/wiki/Debugging  CC BY-SA 3.0   \n",
       "\n",
       "                                             excerpt  \n",
       "0  My hope lay in Jack's promise that he would ke...  \n",
       "1  Dotty continued to go to Mrs. Gray's every nig...  \n",
       "2  It was a bright and cheerful scene that greete...  \n",
       "3  Cell division is the process by which a parent...  \n",
       "4  Debugging is the process of finding and resolv...  "
      ]
     },
     "execution_count": 37,
     "metadata": {},
     "output_type": "execute_result"
    }
   ],
   "source": [
    "test_data =  pd.read_csv(\"/kaggle/input/commonlitreadabilityprize/test.csv\")\n",
    "test_data.head()"
   ]
  },
  {
   "cell_type": "code",
   "execution_count": 38,
   "id": "continuing-benefit",
   "metadata": {
    "execution": {
     "iopub.execute_input": "2021-05-20T17:55:25.695880Z",
     "iopub.status.busy": "2021-05-20T17:55:25.695318Z",
     "iopub.status.idle": "2021-05-20T17:55:25.703324Z",
     "shell.execute_reply": "2021-05-20T17:55:25.702796Z"
    },
    "papermill": {
     "duration": 34.341143,
     "end_time": "2021-05-20T17:55:25.703463",
     "exception": false,
     "start_time": "2021-05-20T17:54:51.362320",
     "status": "completed"
    },
    "tags": []
   },
   "outputs": [
    {
     "name": "stdout",
     "output_type": "stream",
     "text": [
      "Replaced 0 words with characters with an ordinal >= 128 in the test data.\n"
     ]
    }
   ],
   "source": [
    "test_data.excerpt = test_data['excerpt'].apply(str)\n",
    "non_ascii_words = remove_ascii_words(test_data)\n",
    "\n",
    "print(\"Replaced {} words with characters with an ordinal >= 128 in the test data.\".format(\n",
    "    len(non_ascii_words)))"
   ]
  },
  {
   "cell_type": "code",
   "execution_count": 39,
   "id": "appropriate-success",
   "metadata": {
    "execution": {
     "iopub.execute_input": "2021-05-20T17:56:34.212156Z",
     "iopub.status.busy": "2021-05-20T17:56:34.211265Z",
     "iopub.status.idle": "2021-05-20T17:56:34.213954Z",
     "shell.execute_reply": "2021-05-20T17:56:34.213515Z"
    },
    "papermill": {
     "duration": 34.302724,
     "end_time": "2021-05-20T17:56:34.214107",
     "exception": false,
     "start_time": "2021-05-20T17:55:59.911383",
     "status": "completed"
    },
    "tags": []
   },
   "outputs": [],
   "source": [
    "w2v_preprocessing(test_data)"
   ]
  },
  {
   "cell_type": "code",
   "execution_count": 40,
   "id": "owned-suggestion",
   "metadata": {
    "execution": {
     "iopub.execute_input": "2021-05-20T17:57:42.672037Z",
     "iopub.status.busy": "2021-05-20T17:57:42.671214Z",
     "iopub.status.idle": "2021-05-20T17:57:42.673718Z",
     "shell.execute_reply": "2021-05-20T17:57:42.673194Z"
    },
    "papermill": {
     "duration": 34.105056,
     "end_time": "2021-05-20T17:57:42.673845",
     "exception": false,
     "start_time": "2021-05-20T17:57:08.568789",
     "status": "completed"
    },
    "tags": []
   },
   "outputs": [],
   "source": [
    "test_data.drop(test_data[test_data.tokenized_sentences.str.len() == 0].index, inplace= True) "
   ]
  },
  {
   "cell_type": "code",
   "execution_count": 41,
   "id": "genuine-chuck",
   "metadata": {
    "execution": {
     "iopub.execute_input": "2021-05-20T17:58:51.315346Z",
     "iopub.status.busy": "2021-05-20T17:58:51.314636Z",
     "iopub.status.idle": "2021-05-20T17:58:51.318109Z",
     "shell.execute_reply": "2021-05-20T17:58:51.318479Z"
    },
    "papermill": {
     "duration": 34.297236,
     "end_time": "2021-05-20T17:58:51.318652",
     "exception": false,
     "start_time": "2021-05-20T17:58:17.021416",
     "status": "completed"
    },
    "tags": []
   },
   "outputs": [
    {
     "name": "stdout",
     "output_type": "stream",
     "text": [
      "Number of sentences: 25633.\n",
      "Number of texts: 7.\n"
     ]
    }
   ],
   "source": [
    "#create dictionary with all sentences\n",
    "sentences_test = []\n",
    "for sentence_group in test_data.tokenized_sentences:\n",
    "    sentences_test.extend(sentence_group)\n",
    "\n",
    "print(\"Number of sentences: {}.\".format(len(sentences)))\n",
    "print(\"Number of texts: {}.\".format(len(test_data)))"
   ]
  },
  {
   "cell_type": "code",
   "execution_count": 42,
   "id": "informed-divorce",
   "metadata": {
    "execution": {
     "iopub.execute_input": "2021-05-20T18:00:00.202540Z",
     "iopub.status.busy": "2021-05-20T18:00:00.201920Z",
     "iopub.status.idle": "2021-05-20T18:00:04.127631Z",
     "shell.execute_reply": "2021-05-20T18:00:04.128228Z"
    },
    "papermill": {
     "duration": 38.727493,
     "end_time": "2021-05-20T18:00:04.128509",
     "exception": false,
     "start_time": "2021-05-20T17:59:25.401016",
     "status": "completed"
    },
    "tags": []
   },
   "outputs": [],
   "source": [
    "test_data['w2v_features'] = list(map(lambda sen_group:\n",
    "                                     get_w2v_features(W2Vmodel, sen_group),\n",
    "                                     test_data.tokenized_sentences))"
   ]
  },
  {
   "cell_type": "code",
   "execution_count": 43,
   "id": "gorgeous-backing",
   "metadata": {
    "execution": {
     "iopub.execute_input": "2021-05-20T18:01:12.788697Z",
     "iopub.status.busy": "2021-05-20T18:01:12.787859Z",
     "iopub.status.idle": "2021-05-20T18:01:12.790873Z",
     "shell.execute_reply": "2021-05-20T18:01:12.790463Z"
    },
    "papermill": {
     "duration": 34.411229,
     "end_time": "2021-05-20T18:01:12.791002",
     "exception": false,
     "start_time": "2021-05-20T18:00:38.379773",
     "status": "completed"
    },
    "tags": []
   },
   "outputs": [],
   "source": [
    "test_data[\"w2v_resh_features\"] = test_data[\"w2v_features\"].apply(lambda x : x.reshape(1,-1) )"
   ]
  },
  {
   "cell_type": "code",
   "execution_count": 44,
   "id": "equivalent-humor",
   "metadata": {
    "execution": {
     "iopub.execute_input": "2021-05-20T18:02:21.120595Z",
     "iopub.status.busy": "2021-05-20T18:02:21.119974Z",
     "iopub.status.idle": "2021-05-20T18:02:21.122107Z",
     "shell.execute_reply": "2021-05-20T18:02:21.122534Z"
    },
    "papermill": {
     "duration": 34.21501,
     "end_time": "2021-05-20T18:02:21.122687",
     "exception": false,
     "start_time": "2021-05-20T18:01:46.907677",
     "status": "completed"
    },
    "tags": []
   },
   "outputs": [],
   "source": [
    "arr_w2v_test = test_data.w2v_resh_features[0]\n",
    "for i in range(1, len(test_data)):\n",
    "    arr_w2v_test = np.vstack((arr_w2v_test, test_data.w2v_resh_features[i]))"
   ]
  }
 ],
 "metadata": {
  "kernelspec": {
   "display_name": "Python 3",
   "language": "python",
   "name": "python3"
  },
  "language_info": {
   "codemirror_mode": {
    "name": "ipython",
    "version": 3
   },
   "file_extension": ".py",
   "mimetype": "text/x-python",
   "name": "python",
   "nbconvert_exporter": "python",
   "pygments_lexer": "ipython3",
   "version": "3.7.10"
  },
  "papermill": {
   "default_parameters": {},
   "duration": 6272.836049,
   "end_time": "2021-05-20T18:02:58.466764",
   "environment_variables": {},
   "exception": null,
   "input_path": "__notebook__.ipynb",
   "output_path": "__notebook__.ipynb",
   "parameters": {},
   "start_time": "2021-05-20T16:18:25.630715",
   "version": "2.3.3"
  }
 },
 "nbformat": 4,
 "nbformat_minor": 5
}
