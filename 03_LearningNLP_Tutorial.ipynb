{
  "nbformat": 4,
  "nbformat_minor": 0,
  "metadata": {
    "colab": {
      "name": "03_LearningNLP_Tutorial.ipynb",
      "provenance": [],
      "collapsed_sections": []
    },
    "kernelspec": {
      "name": "python3",
      "display_name": "Python 3"
    },
    "language_info": {
      "name": "python"
    }
  },
  "cells": [
    {
      "cell_type": "markdown",
      "metadata": {
        "id": "bbGB3GbueYUF"
      },
      "source": [
        "# Learning NLP Tutorial Series \n",
        "## Tutorial 3 : More on Word Embedding + Vectorized Biases\n",
        "\n",
        "Topics include: \n",
        "* Exploring alternative techniques to Word2Vec, namely: GloVe and FastText\n",
        "\n",
        "* Fairness in Word Embedding: spotting biases (WEAT, ...)\n",
        "\n",
        "---\n",
        "\n",
        "## **Overview**\n",
        "\n",
        "* [Distributional Hypothesis](#section0)\n",
        "\n",
        "* [FastText](#section1)\n",
        "  \n",
        "* [GloVe](#section2)\n",
        "\n",
        "\n",
        "* [Word Embedding Fairness Evaluation (WEFE)](#section3)\n",
        "\n",
        "* [References & Additional Material](#section4)\n",
        "\n",
        "---"
      ]
    },
    {
      "cell_type": "markdown",
      "metadata": {
        "id": "Kr7-ZX0KfZ4V"
      },
      "source": [
        "### Distributional Hypothesis \n",
        "*A word is characterized by the company it keeps*"
      ]
    },
    {
      "cell_type": "markdown",
      "metadata": {
        "id": "_hL6YBZZfN_s"
      },
      "source": [
        "## FastText \n",
        "\n"
      ]
    },
    {
      "cell_type": "code",
      "metadata": {
        "id": "9g5nTRWceKyX"
      },
      "source": [
        "## FastText"
      ],
      "execution_count": null,
      "outputs": []
    }
  ]
}