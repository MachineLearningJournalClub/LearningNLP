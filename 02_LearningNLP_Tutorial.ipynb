{
  "nbformat": 4,
  "nbformat_minor": 0,
  "metadata": {
    "colab": {
      "name": "LearningNLP_Tutorial2-da uploadare...!!.ipynb",
      "provenance": []
    },
    "kernelspec": {
      "display_name": "Python 3",
      "name": "python3"
    },
    "language_info": {
      "name": "python"
    }
  },
  "cells": [
    {
      "cell_type": "markdown",
      "metadata": {
        "id": "3FWrjjMd52BP"
      },
      "source": [
        "# Learning NLP Tutorial Series\n",
        "## Tutorial 2: Topics on Application of NLP Techniques (on gender framing, parties' political communication, and so on)\n",
        "\n",
        "\n",
        "\n",
        "## **Overview**\n",
        "* [Kaggle's API](#section0)\n",
        "* [Gender framing in political tweets](#section1)\n",
        "* [Party affiliation prediction](#section2)\n",
        "* [Topic Modeling](#section3)\n",
        "\n",
        "\n",
        "\n",
        "\n",
        "\n"
      ]
    },
    {
      "cell_type": "markdown",
      "metadata": {
        "id": "A45NWvvMJ2tQ"
      },
      "source": [
        "<a id=\"@section0\"></a>\n",
        "# **Kaggle's API**\n",
        "\n",
        "In the last tutorial we've seen how to download a kaggle dataset by employing Kaggle's API. Here, we decided to create a [new dataset](https://www.kaggle.com/marinar/tweets-some-of-house-of-representative) so that we can download it in the same way :) "
      ]
    },
    {
      "cell_type": "code",
      "metadata": {
        "id": "5N9-6--mOHAv"
      },
      "source": [
        "!pip install -q kaggle #"
      ],
      "execution_count": 1,
      "outputs": []
    },
    {
      "cell_type": "code",
      "metadata": {
        "id": "TejKX-QuOHG0"
      },
      "source": [
        "from google.colab import files"
      ],
      "execution_count": 2,
      "outputs": []
    },
    {
      "cell_type": "code",
      "metadata": {
        "colab": {
          "resources": {
            "http://localhost:8080/nbextensions/google.colab/files.js": {
              "data": "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",
              "ok": true,
              "headers": [
                [
                  "content-type",
                  "application/javascript"
                ]
              ],
              "status": 200,
              "status_text": ""
            }
          },
          "base_uri": "https://localhost:8080/",
          "height": 89
        },
        "id": "dxf63q3LOHUP",
        "outputId": "571e1422-8560-486a-d64b-0af61386a762"
      },
      "source": [
        "files.upload()"
      ],
      "execution_count": 3,
      "outputs": [
        {
          "output_type": "display_data",
          "data": {
            "text/html": [
              "\n",
              "     <input type=\"file\" id=\"files-0d3b7890-e447-4e5c-a168-c75d5235f006\" name=\"files[]\" multiple disabled\n",
              "        style=\"border:none\" />\n",
              "     <output id=\"result-0d3b7890-e447-4e5c-a168-c75d5235f006\">\n",
              "      Upload widget is only available when the cell has been executed in the\n",
              "      current browser session. Please rerun this cell to enable.\n",
              "      </output>\n",
              "      <script src=\"/nbextensions/google.colab/files.js\"></script> "
            ],
            "text/plain": [
              "<IPython.core.display.HTML object>"
            ]
          },
          "metadata": {
            "tags": []
          }
        },
        {
          "output_type": "stream",
          "text": [
            "Saving kaggle.json to kaggle.json\n"
          ],
          "name": "stdout"
        },
        {
          "output_type": "execute_result",
          "data": {
            "text/plain": [
              "{'kaggle.json': b'{\"username\":\"simoneazeglio\",\"key\":\"3a5fefa94bd409405f76f65a43ce9b64\"}'}"
            ]
          },
          "metadata": {
            "tags": []
          },
          "execution_count": 3
        }
      ]
    },
    {
      "cell_type": "code",
      "metadata": {
        "id": "lwRVsjfgOlx6"
      },
      "source": [
        "!mkdir ~/.kaggle"
      ],
      "execution_count": 4,
      "outputs": []
    },
    {
      "cell_type": "code",
      "metadata": {
        "id": "PeQ1yeVGOlzW"
      },
      "source": [
        "!cp kaggle.json ~/.kaggle/"
      ],
      "execution_count": 5,
      "outputs": []
    },
    {
      "cell_type": "markdown",
      "metadata": {
        "id": "PxETK7A3E9PI"
      },
      "source": [
        "What is chmod 600? [Here](https://chmodcommand.com/chmod-600/) some more clarity"
      ]
    },
    {
      "cell_type": "code",
      "metadata": {
        "id": "GWpLhBvcOl4t"
      },
      "source": [
        "!chmod 600 ~/.kaggle/kaggle.json "
      ],
      "execution_count": 6,
      "outputs": []
    },
    {
      "cell_type": "code",
      "metadata": {
        "colab": {
          "base_uri": "https://localhost:8080/"
        },
        "id": "WYykpRGeO1gd",
        "outputId": "363b2ddf-7699-48c5-b383-e6b38c04d434"
      },
      "source": [
        "!kaggle datasets list"
      ],
      "execution_count": 7,
      "outputs": [
        {
          "output_type": "stream",
          "text": [
            "Warning: Looks like you're using an outdated API Version, please consider updating (server 1.5.12 / client 1.5.4)\n",
            "ref                                                         title                                              size  lastUpdated          downloadCount  \n",
            "----------------------------------------------------------  ------------------------------------------------  -----  -------------------  -------------  \n",
            "gpreda/reddit-vaccine-myths                                 Reddit Vaccine Myths                              227KB  2021-04-27 07:28:41           3708  \n",
            "crowww/a-large-scale-fish-dataset                           A Large Scale Fish Dataset                          3GB  2021-02-17 16:10:44           2141  \n",
            "promptcloud/careerbuilder-job-listing-2020                  Careerbuilder Job Listing 2020                     42MB  2021-03-05 06:59:52            451  \n",
            "dhruvildave/wikibooks-dataset                               Wikibooks Dataset                                   1GB  2021-02-18 10:08:27           1377  \n",
            "mathurinache/twitter-edge-nodes                             Twitter Edge Nodes                                342MB  2021-03-08 06:43:04            202  \n",
            "imsparsh/musicnet-dataset                                   MusicNet Dataset                                   22GB  2021-02-18 14:12:19            765  \n",
            "simiotic/github-code-snippets                               GitHub Code Snippets                                7GB  2021-03-03 11:34:39             79  \n",
            "nickuzmenkov/nih-chest-xrays-tfrecords                      NIH Chest X-rays TFRecords                         11GB  2021-03-09 04:49:23            311  \n",
            "alsgroup/end-als                                            End ALS Kaggle Challenge                           12GB  2021-04-08 12:16:37            513  \n",
            "fatiimaezzahra/famous-iconic-women                          Famous Iconic Women                               838MB  2021-02-28 14:56:00            458  \n",
            "landrykezebou/lvzhdr-tone-mapping-benchmark-dataset-tmonet  LVZ-HDR Tone Mapping Benchmark Dataset (TMO-Net)   24GB  2021-03-01 05:03:40             49  \n",
            "coloradokb/dandelionimages                                  DandelionImages                                     4GB  2021-02-19 20:03:47            196  \n",
            "mathurinache/the-lj-speech-dataset                          The LJ Speech Dataset                               3GB  2021-02-15 09:19:54            103  \n",
            "nickuzmenkov/ranzcr-clip-kfold-tfrecords                    RANZCR CLiP KFold TFRecords                         2GB  2021-02-21 13:29:51             63  \n",
            "stuartjames/lights                                          LightS: Light Specularity Dataset                  18GB  2021-02-18 14:32:26             36  \n",
            "imsparsh/accentdb-core-extended                             AccentDB - Core & Extended                          6GB  2021-02-17 14:22:54             44  \n",
            "datasnaek/youtube-new                                       Trending YouTube Video Statistics                 201MB  2019-06-03 00:56:47         137495  \n",
            "zynicide/wine-reviews                                       Wine Reviews                                       51MB  2017-11-27 17:08:04         134591  \n",
            "rtatman/188-million-us-wildfires                            1.88 Million US Wildfires                         168MB  2020-05-12 21:03:49          15108  \n",
            "datasnaek/chess                                             Chess Game Dataset (Lichess)                        3MB  2017-09-04 03:09:09          17178  \n"
          ],
          "name": "stdout"
        }
      ]
    },
    {
      "cell_type": "code",
      "metadata": {
        "colab": {
          "base_uri": "https://localhost:8080/"
        },
        "id": "ecLT-KWKO1h8",
        "outputId": "3cc78399-a23e-4e8a-de44-bcfeb9dac0e9"
      },
      "source": [
        "!kaggle datasets download -d marinar/tweets-some-of-house-of-representative"
      ],
      "execution_count": 8,
      "outputs": [
        {
          "output_type": "stream",
          "text": [
            "Downloading tweets-some-of-house-of-representative.zip to /content\n",
            "\r  0% 0.00/13.6M [00:00<?, ?B/s]\r 37% 5.00M/13.6M [00:00<00:00, 46.8MB/s]\n",
            "\r100% 13.6M/13.6M [00:00<00:00, 87.0MB/s]\n"
          ],
          "name": "stdout"
        }
      ]
    },
    {
      "cell_type": "code",
      "metadata": {
        "id": "-pqRBOXnPU8o"
      },
      "source": [
        "!mkdir train"
      ],
      "execution_count": 9,
      "outputs": []
    },
    {
      "cell_type": "code",
      "metadata": {
        "colab": {
          "base_uri": "https://localhost:8080/"
        },
        "id": "DC4gbe0UPU-H",
        "outputId": "04c42c2f-965a-47fd-d5d2-eeb3a643e716"
      },
      "source": [
        "!unzip tweets-some-of-house-of-representative.zip -d train"
      ],
      "execution_count": 10,
      "outputs": [
        {
          "output_type": "stream",
          "text": [
            "Archive:  tweets-some-of-house-of-representative.zip\n",
            "  inflating: train/tweets_house_represent_26Apr.csv  \n"
          ],
          "name": "stdout"
        }
      ]
    },
    {
      "cell_type": "markdown",
      "metadata": {
        "id": "R5spQ0q-FuSn"
      },
      "source": [
        "<a id=\"@section1\"></a>\n",
        "# **Gender framing, in political tweets**"
      ]
    },
    {
      "cell_type": "markdown",
      "metadata": {
        "id": "8QXb8F3q6Qmt"
      },
      "source": [
        "## Notebook Introduction\n",
        "\n",
        "In this notebook, we are going to use some of the techniques we used for text classification, in order to gain some insights about the the way some topics or situation are framed in political communication and speeches.\n",
        "\n",
        "In particular, we are going to use a datasets of Tweets tweeted by politicians belonging to the House of Representative in the US. \n",
        "\n",
        "The first type of analysis tries to replicate the type of analysis done in the paper \"Gendered Language on the Economics Job Market Rumors Forum\" by Alice Wu (available here: https://scholar.harvard.edu/files/alicewu/files/gendered_language_2018.pdf). In her paper, Alice This paper examines the existence of an unwelcoming or stereotypical culture using evidence on how women and men are portrayed in anonymous discussions on the Economics Job Market Rumors forum (EJMR) (a forum where economists can discuss about different topics, from topics regarding economics, jobs, interviews, and beyond, with also post about topics unrelated to economics). She uses a Lasso-Logistic model to measure gendered language in EJMR postings, identifying the words that are most strongly associated with discussions about one gender or the other.  She finds that the words most predictive of a post about a woman are typically about physical appearance or personal information, whereas those most predictive of a post about a man tend to focus on academic or professional characteristics.\n",
        "\n",
        "\n",
        "Let's start our project!"
      ]
    },
    {
      "cell_type": "code",
      "metadata": {
        "colab": {
          "base_uri": "https://localhost:8080/"
        },
        "id": "iqrkCBRlhQtY",
        "outputId": "5a85329d-906c-4b70-ddfb-3d0fa063fa6b"
      },
      "source": [
        "import pandas as pd\n",
        "import numpy as np\n",
        "import spacy \n",
        "import gensim\n",
        "\n",
        "import re\n",
        "import string\n",
        "import nltk\n",
        "from nltk.corpus import stopwords\n",
        "nltk.download('stopwords')"
      ],
      "execution_count": 11,
      "outputs": [
        {
          "output_type": "stream",
          "text": [
            "[nltk_data] Downloading package stopwords to /root/nltk_data...\n",
            "[nltk_data]   Unzipping corpora/stopwords.zip.\n"
          ],
          "name": "stdout"
        },
        {
          "output_type": "execute_result",
          "data": {
            "text/plain": [
              "True"
            ]
          },
          "metadata": {
            "tags": []
          },
          "execution_count": 11
        }
      ]
    },
    {
      "cell_type": "code",
      "metadata": {
        "colab": {
          "base_uri": "https://localhost:8080/"
        },
        "id": "XUzQ0AE8hfjg",
        "outputId": "dbf2f30c-8f42-4522-d57e-6c90fb883f7b"
      },
      "source": [
        "df_all = pd.read_csv('train/tweets_house_represent_26Apr.csv')\n",
        "len(df_all)"
      ],
      "execution_count": 12,
      "outputs": [
        {
          "output_type": "stream",
          "text": [
            "/usr/local/lib/python3.7/dist-packages/IPython/core/interactiveshell.py:2718: DtypeWarning: Columns (6,10,29,31) have mixed types.Specify dtype option on import or set low_memory=False.\n",
            "  interactivity=interactivity, compiler=compiler, result=result)\n"
          ],
          "name": "stderr"
        },
        {
          "output_type": "execute_result",
          "data": {
            "text/plain": [
              "126334"
            ]
          },
          "metadata": {
            "tags": []
          },
          "execution_count": 12
        }
      ]
    },
    {
      "cell_type": "markdown",
      "metadata": {
        "id": "DJB81kK6997M"
      },
      "source": [
        "First of all, we are going to analyze our dataset, and see how many politicians we have. From the list below, we can see that we have a different number of tweets for each politician."
      ]
    },
    {
      "cell_type": "code",
      "metadata": {
        "colab": {
          "base_uri": "https://localhost:8080/"
        },
        "id": "nN2wDR9khgS1",
        "outputId": "3c37c7f4-293e-45dd-ef86-d0da984bd416"
      },
      "source": [
        "print(df_all['screen_name'].value_counts())\n",
        "\n",
        "print('\\nThe total number of politicians in this dataset is ' + str(df_all['screen_name'].nunique()))"
      ],
      "execution_count": 13,
      "outputs": [
        {
          "output_type": "stream",
          "text": [
            "RepGallagher     3250\n",
            "RepJoshG         3250\n",
            "RepJayapal       3249\n",
            "repmarkpocan     3249\n",
            "RepMcEachin      3248\n",
            "                 ... \n",
            "RepTroyNehls       66\n",
            "RepMrvan           57\n",
            "RepBentz           43\n",
            "voteloucorrea      35\n",
            "DonaldPayneJr      35\n",
            "Name: screen_name, Length: 109, dtype: int64\n",
            "\n",
            "The total number of politicians in this dataset is 109\n"
          ],
          "name": "stdout"
        }
      ]
    },
    {
      "cell_type": "markdown",
      "metadata": {
        "id": "9_ar1cIr-YWz"
      },
      "source": [
        "As done in the first tutorial, we are going to preprocess the text, in order to optimize our predictive performances. The steps we are going to follow are: putting all the text in lowercases, removing punctuation, words containing numbers, and text in square brackets. Finally, we are going to reduce each word to its characteristic stem."
      ]
    },
    {
      "cell_type": "code",
      "metadata": {
        "id": "T9keingMtr04"
      },
      "source": [
        "#### Preprocessing\n",
        "\n",
        "def clean_text(text):\n",
        "#''', , and '''\n",
        "#Make text lowercase   \n",
        " text = text.lower()\n",
        "#remove text in square brackets\n",
        " text = re.sub(r'\\[.*?\\]', '', text)\n",
        "#remove punctuation   \n",
        " text = re.sub(r'[%s]' % re.escape(string.punctuation), '', text) \n",
        "#remove words containing numbers\n",
        " text = re.sub(r'\\w*\\d\\w*', '', text)\n",
        "\n",
        "#Stemming\n",
        " return gensim.parsing.preprocessing.stem_text(text)\n",
        "#return text\n"
      ],
      "execution_count": 14,
      "outputs": []
    },
    {
      "cell_type": "code",
      "metadata": {
        "colab": {
          "base_uri": "https://localhost:8080/",
          "height": 363
        },
        "id": "UZHZwODbLh4b",
        "outputId": "9c904d57-d865-48e7-bf4b-e1a3d6100a46"
      },
      "source": [
        "df_all.head(4)"
      ],
      "execution_count": 15,
      "outputs": [
        {
          "output_type": "execute_result",
          "data": {
            "text/html": [
              "<div>\n",
              "<style scoped>\n",
              "    .dataframe tbody tr th:only-of-type {\n",
              "        vertical-align: middle;\n",
              "    }\n",
              "\n",
              "    .dataframe tbody tr th {\n",
              "        vertical-align: top;\n",
              "    }\n",
              "\n",
              "    .dataframe thead th {\n",
              "        text-align: right;\n",
              "    }\n",
              "</style>\n",
              "<table border=\"1\" class=\"dataframe\">\n",
              "  <thead>\n",
              "    <tr style=\"text-align: right;\">\n",
              "      <th></th>\n",
              "      <th>Unnamed: 0</th>\n",
              "      <th>Unnamed: 0.1</th>\n",
              "      <th>Unnamed: 0.1.1</th>\n",
              "      <th>text</th>\n",
              "      <th>Created_at</th>\n",
              "      <th>Tweet_ID</th>\n",
              "      <th>Geo</th>\n",
              "      <th>favorite_count</th>\n",
              "      <th>Language</th>\n",
              "      <th>retweet_count</th>\n",
              "      <th>coordinates</th>\n",
              "      <th>if_retweet</th>\n",
              "      <th>screen_name</th>\n",
              "      <th>User_name</th>\n",
              "      <th>User_location</th>\n",
              "      <th>User_description</th>\n",
              "      <th>followers_count</th>\n",
              "      <th>verified_user</th>\n",
              "      <th>url_user</th>\n",
              "      <th>id_user</th>\n",
              "      <th>hashtags</th>\n",
              "      <th>urls</th>\n",
              "      <th>user_name</th>\n",
              "      <th>twitter_id</th>\n",
              "      <th>party_name</th>\n",
              "      <th>state</th>\n",
              "      <th>office_title</th>\n",
              "      <th>account_type</th>\n",
              "      <th>first_name</th>\n",
              "      <th>middle_name</th>\n",
              "      <th>last_name</th>\n",
              "      <th>suffix</th>\n",
              "      <th>status</th>\n",
              "      <th>collecting</th>\n",
              "      <th>showing</th>\n",
              "      <th>bioguide_id</th>\n",
              "      <th>gender</th>\n",
              "      <th>fec_candidate_id</th>\n",
              "      <th>district</th>\n",
              "      <th>branch</th>\n",
              "      <th>_merge</th>\n",
              "    </tr>\n",
              "  </thead>\n",
              "  <tbody>\n",
              "    <tr>\n",
              "      <th>0</th>\n",
              "      <td>0</td>\n",
              "      <td>0</td>\n",
              "      <td>0</td>\n",
              "      <td>b'Maintaining trust with the public is the mos...</td>\n",
              "      <td>2021-03-26 19:34:35</td>\n",
              "      <td>1375531646867374083</td>\n",
              "      <td>NaN</td>\n",
              "      <td>82</td>\n",
              "      <td>en</td>\n",
              "      <td>52</td>\n",
              "      <td>NaN</td>\n",
              "      <td>False</td>\n",
              "      <td>RepFitzgerald</td>\n",
              "      <td>Rep. Scott Fitzgerald</td>\n",
              "      <td>Juneau, Wisconsin</td>\n",
              "      <td>Official account for Congressman Scott Fitzger...</td>\n",
              "      <td>8598</td>\n",
              "      <td>True</td>\n",
              "      <td>https://t.co/7rWSAAN9xM</td>\n",
              "      <td>1004891731</td>\n",
              "      <td>[]</td>\n",
              "      <td>[{'url': 'https://t.co/WuKSjiJZC9', 'expanded_...</td>\n",
              "      <td>RepFitzgerald</td>\n",
              "      <td>1004891731</td>\n",
              "      <td>Republican</td>\n",
              "      <td>WI</td>\n",
              "      <td>House Representative</td>\n",
              "      <td>official</td>\n",
              "      <td>Scott</td>\n",
              "      <td>NaN</td>\n",
              "      <td>Fitzgerald</td>\n",
              "      <td>NaN</td>\n",
              "      <td>1</td>\n",
              "      <td>True</td>\n",
              "      <td>True</td>\n",
              "      <td>F000471</td>\n",
              "      <td>M</td>\n",
              "      <td>H0WI05113</td>\n",
              "      <td>5.0</td>\n",
              "      <td>H</td>\n",
              "      <td>both</td>\n",
              "    </tr>\n",
              "    <tr>\n",
              "      <th>1</th>\n",
              "      <td>1</td>\n",
              "      <td>1</td>\n",
              "      <td>1</td>\n",
              "      <td>b'Tune into @newsmax this morning at 7:50 ET\\x...</td>\n",
              "      <td>2021-03-26 11:10:39</td>\n",
              "      <td>1375404829812621313</td>\n",
              "      <td>NaN</td>\n",
              "      <td>4</td>\n",
              "      <td>en</td>\n",
              "      <td>0</td>\n",
              "      <td>NaN</td>\n",
              "      <td>False</td>\n",
              "      <td>RepFitzgerald</td>\n",
              "      <td>Rep. Scott Fitzgerald</td>\n",
              "      <td>Juneau, Wisconsin</td>\n",
              "      <td>Official account for Congressman Scott Fitzger...</td>\n",
              "      <td>8598</td>\n",
              "      <td>True</td>\n",
              "      <td>https://t.co/7rWSAAN9xM</td>\n",
              "      <td>1004891731</td>\n",
              "      <td>[]</td>\n",
              "      <td>[{'url': 'https://t.co/TBIsZAxWuM', 'expanded_...</td>\n",
              "      <td>RepFitzgerald</td>\n",
              "      <td>1004891731</td>\n",
              "      <td>Republican</td>\n",
              "      <td>WI</td>\n",
              "      <td>House Representative</td>\n",
              "      <td>official</td>\n",
              "      <td>Scott</td>\n",
              "      <td>NaN</td>\n",
              "      <td>Fitzgerald</td>\n",
              "      <td>NaN</td>\n",
              "      <td>1</td>\n",
              "      <td>True</td>\n",
              "      <td>True</td>\n",
              "      <td>F000471</td>\n",
              "      <td>M</td>\n",
              "      <td>H0WI05113</td>\n",
              "      <td>5.0</td>\n",
              "      <td>H</td>\n",
              "      <td>both</td>\n",
              "    </tr>\n",
              "    <tr>\n",
              "      <th>2</th>\n",
              "      <td>2</td>\n",
              "      <td>2</td>\n",
              "      <td>2</td>\n",
              "      <td>b'Reminder to #WI05 artists \\xf0\\x9f\\x91\\x89 t...</td>\n",
              "      <td>2021-03-25 13:38:07</td>\n",
              "      <td>1375079551991230465</td>\n",
              "      <td>NaN</td>\n",
              "      <td>2</td>\n",
              "      <td>en</td>\n",
              "      <td>0</td>\n",
              "      <td>NaN</td>\n",
              "      <td>False</td>\n",
              "      <td>RepFitzgerald</td>\n",
              "      <td>Rep. Scott Fitzgerald</td>\n",
              "      <td>Juneau, Wisconsin</td>\n",
              "      <td>Official account for Congressman Scott Fitzger...</td>\n",
              "      <td>8598</td>\n",
              "      <td>True</td>\n",
              "      <td>https://t.co/7rWSAAN9xM</td>\n",
              "      <td>1004891731</td>\n",
              "      <td>[{'text': 'WI05', 'indices': [12, 17]}]</td>\n",
              "      <td>[{'url': 'https://t.co/UQeizLcojB', 'expanded_...</td>\n",
              "      <td>RepFitzgerald</td>\n",
              "      <td>1004891731</td>\n",
              "      <td>Republican</td>\n",
              "      <td>WI</td>\n",
              "      <td>House Representative</td>\n",
              "      <td>official</td>\n",
              "      <td>Scott</td>\n",
              "      <td>NaN</td>\n",
              "      <td>Fitzgerald</td>\n",
              "      <td>NaN</td>\n",
              "      <td>1</td>\n",
              "      <td>True</td>\n",
              "      <td>True</td>\n",
              "      <td>F000471</td>\n",
              "      <td>M</td>\n",
              "      <td>H0WI05113</td>\n",
              "      <td>5.0</td>\n",
              "      <td>H</td>\n",
              "      <td>both</td>\n",
              "    </tr>\n",
              "    <tr>\n",
              "      <th>3</th>\n",
              "      <td>3</td>\n",
              "      <td>3</td>\n",
              "      <td>3</td>\n",
              "      <td>b'\\xf0\\x9f\\xa7\\xb5Great thread from my colleag...</td>\n",
              "      <td>2021-03-24 20:28:22</td>\n",
              "      <td>1374820406868205579</td>\n",
              "      <td>NaN</td>\n",
              "      <td>4</td>\n",
              "      <td>en</td>\n",
              "      <td>0</td>\n",
              "      <td>NaN</td>\n",
              "      <td>False</td>\n",
              "      <td>RepFitzgerald</td>\n",
              "      <td>Rep. Scott Fitzgerald</td>\n",
              "      <td>Juneau, Wisconsin</td>\n",
              "      <td>Official account for Congressman Scott Fitzger...</td>\n",
              "      <td>8598</td>\n",
              "      <td>True</td>\n",
              "      <td>https://t.co/7rWSAAN9xM</td>\n",
              "      <td>1004891731</td>\n",
              "      <td>[]</td>\n",
              "      <td>[{'url': 'https://t.co/TNcrCFgvMV', 'expanded_...</td>\n",
              "      <td>RepFitzgerald</td>\n",
              "      <td>1004891731</td>\n",
              "      <td>Republican</td>\n",
              "      <td>WI</td>\n",
              "      <td>House Representative</td>\n",
              "      <td>official</td>\n",
              "      <td>Scott</td>\n",
              "      <td>NaN</td>\n",
              "      <td>Fitzgerald</td>\n",
              "      <td>NaN</td>\n",
              "      <td>1</td>\n",
              "      <td>True</td>\n",
              "      <td>True</td>\n",
              "      <td>F000471</td>\n",
              "      <td>M</td>\n",
              "      <td>H0WI05113</td>\n",
              "      <td>5.0</td>\n",
              "      <td>H</td>\n",
              "      <td>both</td>\n",
              "    </tr>\n",
              "  </tbody>\n",
              "</table>\n",
              "</div>"
            ],
            "text/plain": [
              "   Unnamed: 0  Unnamed: 0.1  Unnamed: 0.1.1  ... district branch  _merge\n",
              "0           0             0               0  ...      5.0      H    both\n",
              "1           1             1               1  ...      5.0      H    both\n",
              "2           2             2               2  ...      5.0      H    both\n",
              "3           3             3               3  ...      5.0      H    both\n",
              "\n",
              "[4 rows x 41 columns]"
            ]
          },
          "metadata": {
            "tags": []
          },
          "execution_count": 15
        }
      ]
    },
    {
      "cell_type": "markdown",
      "metadata": {
        "id": "dq-FeBAuAmWV"
      },
      "source": [
        "Now, I want to select those tweets that mention or talk about women.\n",
        "\n",
        "In order to do so, for each tweets I will check whether the text of the tweets contains the following words:  \n",
        "*'woman', 'women', 'girl', 'girlfriend', 'mother', 'daughter', 'actress', 'wife', 'chairwoman', 'spokewoman', 'aunt', 'bride', 'female', 'fiancee', 'granddaughter', 'grandma', 'grandmother', 'herself', 'lady', 'ladies', 'niece', 'sister', 'waitress'*.\n",
        "\n",
        "This approach is similar to the approach used in the study of **Neal Caren** of 2013. Neal applied a gender-based analysis of text to New York Times articles to see whether male and female words appear in different contexts, and she found that this is actually the case. She stated that \"if your knowledge of men's and women's roles in society came just from reading last weeks's New York Times, you would think that men play sports and run the government. Women do feminine and domestic things\".\n",
        "(The article is called \"Using Python to see how the Times write about men and women\" (2013) by Neal Caren, and you can find the notebook of her analysis here: https://nbviewer.jupyter.org/gist/nealcaren/5105037  )\n",
        "\n",
        "We will categorized tweets that mention one of these words with a dummy, equal to 1 if one of these words appear, and zero otherwise."
      ]
    },
    {
      "cell_type": "code",
      "metadata": {
        "id": "avUIWdpPwpj6"
      },
      "source": [
        "### Preprocessing:\n",
        "df_all['text_clean'] = pd.DataFrame(df_all.text.apply(lambda x: clean_text(x)))"
      ],
      "execution_count": 16,
      "outputs": []
    },
    {
      "cell_type": "code",
      "metadata": {
        "id": "AOwXhZCThFXi"
      },
      "source": [
        "list_female = ['woman', 'women', 'girl', 'girlfriend', 'mother', 'daughter', 'actress', 'wife', 'chairwoman', 'spokewoman', 'aunt', 'bride', 'female', 'fiancee', 'granddaughter', 'grandma', 'grandmother', 'herself', 'lady', 'ladies', 'niece', 'sister', 'waitress']\n",
        "list_female = [clean_text(i) for i in list_female]\n",
        "\n",
        "def word_in_phrase_female(data):\n",
        "  for i in list_female:\n",
        "    if i in data['text_clean']:\n",
        "      return 1\n",
        "  else:\n",
        "    return 0"
      ],
      "execution_count": 17,
      "outputs": []
    },
    {
      "cell_type": "code",
      "metadata": {
        "colab": {
          "base_uri": "https://localhost:8080/"
        },
        "id": "bG9F8b8VhFU_",
        "outputId": "993c16af-e4a1-4dd2-947a-8b71b61e5db1"
      },
      "source": [
        "df_all['female_talking'] = df_all.apply(word_in_phrase_female, axis = 1)\n",
        "print(df_all['female_talking'].value_counts())"
      ],
      "execution_count": 18,
      "outputs": [
        {
          "output_type": "stream",
          "text": [
            "0    122675\n",
            "1      3659\n",
            "Name: female_talking, dtype: int64\n"
          ],
          "name": "stdout"
        }
      ]
    },
    {
      "cell_type": "markdown",
      "metadata": {
        "id": "MHWOJhppAQSY"
      },
      "source": [
        "Let's explore which kind of tweets are selected:"
      ]
    },
    {
      "cell_type": "code",
      "metadata": {
        "colab": {
          "base_uri": "https://localhost:8080/",
          "height": 771
        },
        "id": "ozTp3ZxRk6pL",
        "outputId": "19af9e7d-76fe-44e8-8347-1b71bb0a4fd1"
      },
      "source": [
        "pd.set_option('display.max_colwidth', -1)\n",
        "df_female_talk = df_all[df_all['female_talking']==1]\n",
        "df_female_talk.head(4)"
      ],
      "execution_count": 19,
      "outputs": [
        {
          "output_type": "stream",
          "text": [
            "/usr/local/lib/python3.7/dist-packages/ipykernel_launcher.py:1: FutureWarning: Passing a negative integer is deprecated in version 1.0 and will not be supported in future version. Instead, use None to not limit the column width.\n",
            "  \"\"\"Entry point for launching an IPython kernel.\n"
          ],
          "name": "stderr"
        },
        {
          "output_type": "execute_result",
          "data": {
            "text/html": [
              "<div>\n",
              "<style scoped>\n",
              "    .dataframe tbody tr th:only-of-type {\n",
              "        vertical-align: middle;\n",
              "    }\n",
              "\n",
              "    .dataframe tbody tr th {\n",
              "        vertical-align: top;\n",
              "    }\n",
              "\n",
              "    .dataframe thead th {\n",
              "        text-align: right;\n",
              "    }\n",
              "</style>\n",
              "<table border=\"1\" class=\"dataframe\">\n",
              "  <thead>\n",
              "    <tr style=\"text-align: right;\">\n",
              "      <th></th>\n",
              "      <th>Unnamed: 0</th>\n",
              "      <th>Unnamed: 0.1</th>\n",
              "      <th>Unnamed: 0.1.1</th>\n",
              "      <th>text</th>\n",
              "      <th>Created_at</th>\n",
              "      <th>Tweet_ID</th>\n",
              "      <th>Geo</th>\n",
              "      <th>favorite_count</th>\n",
              "      <th>Language</th>\n",
              "      <th>retweet_count</th>\n",
              "      <th>coordinates</th>\n",
              "      <th>if_retweet</th>\n",
              "      <th>screen_name</th>\n",
              "      <th>User_name</th>\n",
              "      <th>User_location</th>\n",
              "      <th>User_description</th>\n",
              "      <th>followers_count</th>\n",
              "      <th>verified_user</th>\n",
              "      <th>url_user</th>\n",
              "      <th>id_user</th>\n",
              "      <th>hashtags</th>\n",
              "      <th>urls</th>\n",
              "      <th>user_name</th>\n",
              "      <th>twitter_id</th>\n",
              "      <th>party_name</th>\n",
              "      <th>state</th>\n",
              "      <th>office_title</th>\n",
              "      <th>account_type</th>\n",
              "      <th>first_name</th>\n",
              "      <th>middle_name</th>\n",
              "      <th>last_name</th>\n",
              "      <th>suffix</th>\n",
              "      <th>status</th>\n",
              "      <th>collecting</th>\n",
              "      <th>showing</th>\n",
              "      <th>bioguide_id</th>\n",
              "      <th>gender</th>\n",
              "      <th>fec_candidate_id</th>\n",
              "      <th>district</th>\n",
              "      <th>branch</th>\n",
              "      <th>_merge</th>\n",
              "      <th>text_clean</th>\n",
              "      <th>female_talking</th>\n",
              "    </tr>\n",
              "  </thead>\n",
              "  <tbody>\n",
              "    <tr>\n",
              "      <th>130</th>\n",
              "      <td>130</td>\n",
              "      <td>130</td>\n",
              "      <td>130</td>\n",
              "      <td>b'This bill puts working men, women, and families of our state first, by extending a lifeline to the recently unemplo\\xe2\\x80\\xa6 https://t.co/5lubw7yxzG'</td>\n",
              "      <td>2020-04-15 17:26:37</td>\n",
              "      <td>1250475630275096576</td>\n",
              "      <td>NaN</td>\n",
              "      <td>3</td>\n",
              "      <td>en</td>\n",
              "      <td>2</td>\n",
              "      <td>NaN</td>\n",
              "      <td>False</td>\n",
              "      <td>RepFitzgerald</td>\n",
              "      <td>Rep. Scott Fitzgerald</td>\n",
              "      <td>Juneau, Wisconsin</td>\n",
              "      <td>Official account for Congressman Scott Fitzgerald, proudly serving Wisconsin’s Fifth District. #WI05</td>\n",
              "      <td>8598</td>\n",
              "      <td>True</td>\n",
              "      <td>https://t.co/7rWSAAN9xM</td>\n",
              "      <td>1004891731</td>\n",
              "      <td>[]</td>\n",
              "      <td>[{'url': 'https://t.co/5lubw7yxzG', 'expanded_url': 'https://twitter.com/i/web/status/1250475630275096576', 'display_url': 'twitter.com/i/web/status/1…', 'indices': [117, 140]}]</td>\n",
              "      <td>RepFitzgerald</td>\n",
              "      <td>1004891731</td>\n",
              "      <td>Republican</td>\n",
              "      <td>WI</td>\n",
              "      <td>House Representative</td>\n",
              "      <td>official</td>\n",
              "      <td>Scott</td>\n",
              "      <td>NaN</td>\n",
              "      <td>Fitzgerald</td>\n",
              "      <td>NaN</td>\n",
              "      <td>1</td>\n",
              "      <td>True</td>\n",
              "      <td>True</td>\n",
              "      <td>F000471</td>\n",
              "      <td>M</td>\n",
              "      <td>H0WI05113</td>\n",
              "      <td>5.0</td>\n",
              "      <td>H</td>\n",
              "      <td>both</td>\n",
              "      <td>bthi bill put work men women and famili of our state first by extend a lifelin to the recent</td>\n",
              "      <td>1</td>\n",
              "    </tr>\n",
              "    <tr>\n",
              "      <th>185</th>\n",
              "      <td>185</td>\n",
              "      <td>185</td>\n",
              "      <td>185</td>\n",
              "      <td>b'As a veteran, I was honored to work with some of the finest men and women serving the nation. Thank you to all who\\xe2\\x80\\xa6 https://t.co/YANZIE7Rrg'</td>\n",
              "      <td>2019-11-11 19:59:20</td>\n",
              "      <td>1193981556186124298</td>\n",
              "      <td>NaN</td>\n",
              "      <td>10</td>\n",
              "      <td>en</td>\n",
              "      <td>9</td>\n",
              "      <td>NaN</td>\n",
              "      <td>False</td>\n",
              "      <td>RepFitzgerald</td>\n",
              "      <td>Rep. Scott Fitzgerald</td>\n",
              "      <td>Juneau, Wisconsin</td>\n",
              "      <td>Official account for Congressman Scott Fitzgerald, proudly serving Wisconsin’s Fifth District. #WI05</td>\n",
              "      <td>8598</td>\n",
              "      <td>True</td>\n",
              "      <td>https://t.co/7rWSAAN9xM</td>\n",
              "      <td>1004891731</td>\n",
              "      <td>[]</td>\n",
              "      <td>[{'url': 'https://t.co/YANZIE7Rrg', 'expanded_url': 'https://twitter.com/i/web/status/1193981556186124298', 'display_url': 'twitter.com/i/web/status/1…', 'indices': [116, 139]}]</td>\n",
              "      <td>RepFitzgerald</td>\n",
              "      <td>1004891731</td>\n",
              "      <td>Republican</td>\n",
              "      <td>WI</td>\n",
              "      <td>House Representative</td>\n",
              "      <td>official</td>\n",
              "      <td>Scott</td>\n",
              "      <td>NaN</td>\n",
              "      <td>Fitzgerald</td>\n",
              "      <td>NaN</td>\n",
              "      <td>1</td>\n",
              "      <td>True</td>\n",
              "      <td>True</td>\n",
              "      <td>F000471</td>\n",
              "      <td>M</td>\n",
              "      <td>H0WI05113</td>\n",
              "      <td>5.0</td>\n",
              "      <td>H</td>\n",
              "      <td>both</td>\n",
              "      <td>ba a veteran i wa honor to work with some of the finest men and women serv the nation thank you to all</td>\n",
              "      <td>1</td>\n",
              "    </tr>\n",
              "    <tr>\n",
              "      <th>335</th>\n",
              "      <td>335</td>\n",
              "      <td>335</td>\n",
              "      <td>335</td>\n",
              "      <td>b\"Congratulations to Juliet Nowak from @angelslci who won the Governor's Trailblazer Award for Woman in Business! Hop\\xe2\\x80\\xa6 https://t.co/Ygpy4lxCMt\"</td>\n",
              "      <td>2018-05-23 21:40:09</td>\n",
              "      <td>999404642952990721</td>\n",
              "      <td>NaN</td>\n",
              "      <td>1</td>\n",
              "      <td>en</td>\n",
              "      <td>1</td>\n",
              "      <td>NaN</td>\n",
              "      <td>False</td>\n",
              "      <td>RepFitzgerald</td>\n",
              "      <td>Rep. Scott Fitzgerald</td>\n",
              "      <td>Juneau, Wisconsin</td>\n",
              "      <td>Official account for Congressman Scott Fitzgerald, proudly serving Wisconsin’s Fifth District. #WI05</td>\n",
              "      <td>8598</td>\n",
              "      <td>True</td>\n",
              "      <td>https://t.co/7rWSAAN9xM</td>\n",
              "      <td>1004891731</td>\n",
              "      <td>[]</td>\n",
              "      <td>[{'url': 'https://t.co/Ygpy4lxCMt', 'expanded_url': 'https://twitter.com/i/web/status/999404642952990721', 'display_url': 'twitter.com/i/web/status/9…', 'indices': [117, 140]}]</td>\n",
              "      <td>RepFitzgerald</td>\n",
              "      <td>1004891731</td>\n",
              "      <td>Republican</td>\n",
              "      <td>WI</td>\n",
              "      <td>House Representative</td>\n",
              "      <td>official</td>\n",
              "      <td>Scott</td>\n",
              "      <td>NaN</td>\n",
              "      <td>Fitzgerald</td>\n",
              "      <td>NaN</td>\n",
              "      <td>1</td>\n",
              "      <td>True</td>\n",
              "      <td>True</td>\n",
              "      <td>F000471</td>\n",
              "      <td>M</td>\n",
              "      <td>H0WI05113</td>\n",
              "      <td>5.0</td>\n",
              "      <td>H</td>\n",
              "      <td>both</td>\n",
              "      <td>bcongratul to juliet nowak from angelslci who won the governor trailblaz award for woman in busi</td>\n",
              "      <td>1</td>\n",
              "    </tr>\n",
              "    <tr>\n",
              "      <th>561</th>\n",
              "      <td>561</td>\n",
              "      <td>561</td>\n",
              "      <td>561</td>\n",
              "      <td>b'Congrats to the \"cookie ladies\" on a sweet ruling today. I hope that @WisDOJ will choose not to appeal this decisio\\xe2\\x80\\xa6 https://t.co/Sx69o2uBtn'</td>\n",
              "      <td>2017-06-01 02:21:55</td>\n",
              "      <td>870103082658562049</td>\n",
              "      <td>NaN</td>\n",
              "      <td>10</td>\n",
              "      <td>en</td>\n",
              "      <td>9</td>\n",
              "      <td>NaN</td>\n",
              "      <td>False</td>\n",
              "      <td>RepFitzgerald</td>\n",
              "      <td>Rep. Scott Fitzgerald</td>\n",
              "      <td>Juneau, Wisconsin</td>\n",
              "      <td>Official account for Congressman Scott Fitzgerald, proudly serving Wisconsin’s Fifth District. #WI05</td>\n",
              "      <td>8598</td>\n",
              "      <td>True</td>\n",
              "      <td>https://t.co/7rWSAAN9xM</td>\n",
              "      <td>1004891731</td>\n",
              "      <td>[]</td>\n",
              "      <td>[{'url': 'https://t.co/Sx69o2uBtn', 'expanded_url': 'https://twitter.com/i/web/status/870103082658562049', 'display_url': 'twitter.com/i/web/status/8…', 'indices': [117, 140]}]</td>\n",
              "      <td>RepFitzgerald</td>\n",
              "      <td>1004891731</td>\n",
              "      <td>Republican</td>\n",
              "      <td>WI</td>\n",
              "      <td>House Representative</td>\n",
              "      <td>official</td>\n",
              "      <td>Scott</td>\n",
              "      <td>NaN</td>\n",
              "      <td>Fitzgerald</td>\n",
              "      <td>NaN</td>\n",
              "      <td>1</td>\n",
              "      <td>True</td>\n",
              "      <td>True</td>\n",
              "      <td>F000471</td>\n",
              "      <td>M</td>\n",
              "      <td>H0WI05113</td>\n",
              "      <td>5.0</td>\n",
              "      <td>H</td>\n",
              "      <td>both</td>\n",
              "      <td>bcongrat to the cooki ladi on a sweet rule todai i hope that wisdoj will choos not to appeal thi</td>\n",
              "      <td>1</td>\n",
              "    </tr>\n",
              "  </tbody>\n",
              "</table>\n",
              "</div>"
            ],
            "text/plain": [
              "     Unnamed: 0  ...  female_talking\n",
              "130  130         ...  1             \n",
              "185  185         ...  1             \n",
              "335  335         ...  1             \n",
              "561  561         ...  1             \n",
              "\n",
              "[4 rows x 43 columns]"
            ]
          },
          "metadata": {
            "tags": []
          },
          "execution_count": 19
        }
      ]
    },
    {
      "cell_type": "markdown",
      "metadata": {
        "id": "DdilmN07Hzch"
      },
      "source": [
        "We are now going to prepare the dataset, in order to predict to which category the tweets belong to, based on his words."
      ]
    },
    {
      "cell_type": "code",
      "metadata": {
        "colab": {
          "base_uri": "https://localhost:8080/",
          "height": 173
        },
        "id": "X9zzVNYG5FWq",
        "outputId": "6ec08014-e80c-43b5-956c-54ad5931ab75"
      },
      "source": [
        "df_short = df_all[['text_clean','female_talking']]\n",
        "df_short.head(4)"
      ],
      "execution_count": 20,
      "outputs": [
        {
          "output_type": "execute_result",
          "data": {
            "text/html": [
              "<div>\n",
              "<style scoped>\n",
              "    .dataframe tbody tr th:only-of-type {\n",
              "        vertical-align: middle;\n",
              "    }\n",
              "\n",
              "    .dataframe tbody tr th {\n",
              "        vertical-align: top;\n",
              "    }\n",
              "\n",
              "    .dataframe thead th {\n",
              "        text-align: right;\n",
              "    }\n",
              "</style>\n",
              "<table border=\"1\" class=\"dataframe\">\n",
              "  <thead>\n",
              "    <tr style=\"text-align: right;\">\n",
              "      <th></th>\n",
              "      <th>text_clean</th>\n",
              "      <th>female_talking</th>\n",
              "    </tr>\n",
              "  </thead>\n",
              "  <tbody>\n",
              "    <tr>\n",
              "      <th>0</th>\n",
              "      <td>bmaintain trust with the public is the most fundament respons of govern dure time of crisi</td>\n",
              "      <td>0</td>\n",
              "    </tr>\n",
              "    <tr>\n",
              "      <th>1</th>\n",
              "      <td>btune into newsmax thi morn at be speak with finnertyusa about the ever httpstcotbiszaxwum</td>\n",
              "      <td>0</td>\n",
              "    </tr>\n",
              "    <tr>\n",
              "      <th>2</th>\n",
              "      <td>bremind to artist the deadlin for the annual congression art competit is quickli httpstcouqeizlcojb</td>\n",
              "      <td>0</td>\n",
              "    </tr>\n",
              "    <tr>\n",
              "      <th>3</th>\n",
              "      <td>thread from my colleagu warrendavidson detail the import of the nation personnel record httpstcotncrcfgvmv</td>\n",
              "      <td>0</td>\n",
              "    </tr>\n",
              "  </tbody>\n",
              "</table>\n",
              "</div>"
            ],
            "text/plain": [
              "                                                                                                   text_clean  female_talking\n",
              "0  bmaintain trust with the public is the most fundament respons of govern dure time of crisi                  0             \n",
              "1  btune into newsmax thi morn at be speak with finnertyusa about the ever httpstcotbiszaxwum                  0             \n",
              "2  bremind to artist the deadlin for the annual congression art competit is quickli httpstcouqeizlcojb         0             \n",
              "3  thread from my colleagu warrendavidson detail the import of the nation personnel record httpstcotncrcfgvmv  0             "
            ]
          },
          "metadata": {
            "tags": []
          },
          "execution_count": 20
        }
      ]
    },
    {
      "cell_type": "markdown",
      "metadata": {
        "id": "dosJrScEH7_B"
      },
      "source": [
        "One important thing we have to consider (and we must NOT forget!!) is that we have to eliminate the words that represent women/female, that we used in order to categorize the tweets. If we keep them and we train the model on the text, the exercise is pretty \"trivial\", since it's enough to find one of the words we used to categorized the tweets as \"female talking\" in order to predict its category."
      ]
    },
    {
      "cell_type": "code",
      "metadata": {
        "id": "WxJ5q_WLHHVx"
      },
      "source": [
        "#list_female = ['woman', 'women', 'girl', 'girlfriend', 'mother', 'daughter', 'actress', 'wife', 'chairwoman', 'spokewoman', 'aunt', 'bride', 'female', 'fiancee', 'granddaughter', 'grandma', 'grandmother', 'herself', 'lady', 'ladies', 'niece', 'sister', 'waitress']\n",
        "\n",
        "def cleaning_text(text):\n",
        "  for word in list_female:\n",
        "    text = re.sub(word, '', text)\n",
        "  return text"
      ],
      "execution_count": 21,
      "outputs": []
    },
    {
      "cell_type": "code",
      "metadata": {
        "colab": {
          "base_uri": "https://localhost:8080/",
          "height": 771
        },
        "id": "uIrjLKXRHmiC",
        "outputId": "8be83af8-0143-48a5-8e9d-c40c4e6a010b"
      },
      "source": [
        "df_short['text_clean02'] = df_short['text_clean'].apply(cleaning_text)\n",
        "df_short[df_short['female_talking']==1].head(20)"
      ],
      "execution_count": 22,
      "outputs": [
        {
          "output_type": "stream",
          "text": [
            "/usr/local/lib/python3.7/dist-packages/ipykernel_launcher.py:1: SettingWithCopyWarning: \n",
            "A value is trying to be set on a copy of a slice from a DataFrame.\n",
            "Try using .loc[row_indexer,col_indexer] = value instead\n",
            "\n",
            "See the caveats in the documentation: https://pandas.pydata.org/pandas-docs/stable/user_guide/indexing.html#returning-a-view-versus-a-copy\n",
            "  \"\"\"Entry point for launching an IPython kernel.\n"
          ],
          "name": "stderr"
        },
        {
          "output_type": "execute_result",
          "data": {
            "text/html": [
              "<div>\n",
              "<style scoped>\n",
              "    .dataframe tbody tr th:only-of-type {\n",
              "        vertical-align: middle;\n",
              "    }\n",
              "\n",
              "    .dataframe tbody tr th {\n",
              "        vertical-align: top;\n",
              "    }\n",
              "\n",
              "    .dataframe thead th {\n",
              "        text-align: right;\n",
              "    }\n",
              "</style>\n",
              "<table border=\"1\" class=\"dataframe\">\n",
              "  <thead>\n",
              "    <tr style=\"text-align: right;\">\n",
              "      <th></th>\n",
              "      <th>text_clean</th>\n",
              "      <th>female_talking</th>\n",
              "      <th>text_clean02</th>\n",
              "    </tr>\n",
              "  </thead>\n",
              "  <tbody>\n",
              "    <tr>\n",
              "      <th>130</th>\n",
              "      <td>bthi bill put work men women and famili of our state first by extend a lifelin to the recent</td>\n",
              "      <td>1</td>\n",
              "      <td>bthi bill put work men  and famili of our state first by extend a lifelin to the recent</td>\n",
              "    </tr>\n",
              "    <tr>\n",
              "      <th>185</th>\n",
              "      <td>ba a veteran i wa honor to work with some of the finest men and women serv the nation thank you to all</td>\n",
              "      <td>1</td>\n",
              "      <td>ba a veteran i wa honor to work with some of the finest men and  serv the nation thank you to all</td>\n",
              "    </tr>\n",
              "    <tr>\n",
              "      <th>335</th>\n",
              "      <td>bcongratul to juliet nowak from angelslci who won the governor trailblaz award for woman in busi</td>\n",
              "      <td>1</td>\n",
              "      <td>bcongratul to juliet nowak from angelslci who won the governor trailblaz award for  in busi</td>\n",
              "    </tr>\n",
              "    <tr>\n",
              "      <th>561</th>\n",
              "      <td>bcongrat to the cooki ladi on a sweet rule todai i hope that wisdoj will choos not to appeal thi</td>\n",
              "      <td>1</td>\n",
              "      <td>bcongrat to the cooki  on a sweet rule todai i hope that wisdoj will choos not to appeal thi</td>\n",
              "    </tr>\n",
              "    <tr>\n",
              "      <th>724</th>\n",
              "      <td>bhappi internationalwomensdai get to know some of the import women who have made wisconsin histori</td>\n",
              "      <td>1</td>\n",
              "      <td>bhappi internationalsdai get to know some of the import  who have made wisconsin histori</td>\n",
              "    </tr>\n",
              "    <tr>\n",
              "      <th>759</th>\n",
              "      <td>bbest wish to my local citi clerk gladi mckai as she move to the next step in her career</td>\n",
              "      <td>1</td>\n",
              "      <td>bbest wish to my local citi clerk g mckai as she move to the next step in her career</td>\n",
              "    </tr>\n",
              "    <tr>\n",
              "      <th>1172</th>\n",
              "      <td>brt travelwi at state park you just see mother natur meet her facetofac travelwi</td>\n",
              "      <td>1</td>\n",
              "      <td>brt travelwi at state park you just see  natur meet her facetofac travelwi</td>\n",
              "    </tr>\n",
              "    <tr>\n",
              "      <th>1347</th>\n",
              "      <td>bthi is a great stori of a hardwork amp compassion young person amp daughter of on of my colleagu johnjagl</td>\n",
              "      <td>1</td>\n",
              "      <td>bthi is a great stori of a hardwork amp compassion young person amp  of on of my colleagu johnjagl</td>\n",
              "    </tr>\n",
              "    <tr>\n",
              "      <th>1589</th>\n",
              "      <td>bwho happi now wisconsin dairi cow get the edg on their bovin sister in california via lacrossetribun</td>\n",
              "      <td>1</td>\n",
              "      <td>bwho happi now wisconsin dairi cow get the edg on their bovin  in california via lacrossetribun</td>\n",
              "    </tr>\n",
              "    <tr>\n",
              "      <th>1934</th>\n",
              "      <td>brt wdnr good morn hunter the gundeer season is under wai stai safe out there and have a fun hunt wardengirl wihunt</td>\n",
              "      <td>1</td>\n",
              "      <td>brt wdnr good morn hunter the gundeer season is under wai stai safe out there and have a fun hunt warden wihunt</td>\n",
              "    </tr>\n",
              "    <tr>\n",
              "      <th>1937</th>\n",
              "      <td>btodai wdnr chat discuss program to get more women and youth involv in wi outdoor sport tune in at noon</td>\n",
              "      <td>1</td>\n",
              "      <td>btodai wdnr chat discuss program to get more  and youth involv in wi outdoor sport tune in at noon</td>\n",
              "    </tr>\n",
              "    <tr>\n",
              "      <th>1939</th>\n",
              "      <td>btodai is snowplow driver appreci dai in wi thank to the over men amp women who help keep our road safe</td>\n",
              "      <td>1</td>\n",
              "      <td>btodai is snowplow driver appreci dai in wi thank to the over men amp  who help keep our road safe</td>\n",
              "    </tr>\n",
              "    <tr>\n",
              "      <th>1957</th>\n",
              "      <td>bgreat visit thi morn with some of the watertown girl scout thank for your thought question gsbadgerland httptcoptscmjmset</td>\n",
              "      <td>1</td>\n",
              "      <td>bgreat visit thi morn with some of the watertown  scout thank for your thought question gsbadgerland httptcoptscmjmset</td>\n",
              "    </tr>\n",
              "    <tr>\n",
              "      <th>2035</th>\n",
              "      <td>bthe wisconsin senat just pass the oral chemotherapi bill watch the remaind of our floor session at</td>\n",
              "      <td>1</td>\n",
              "      <td>bthe wisconsin senat just pass the oral cheapi bill watch the remaind of our floor session at</td>\n",
              "    </tr>\n",
              "    <tr>\n",
              "      <th>2037</th>\n",
              "      <td>brt mikelowereport bipartisan prais for senfitzgerald allow the vote to treat oral chemotherapi the same as tradit iv chemo</td>\n",
              "      <td>1</td>\n",
              "      <td>brt mikelowereport bipartisan prais for senfitzgerald allow the vote to treat oral cheapi the same as tradit iv chemo</td>\n",
              "    </tr>\n",
              "    <tr>\n",
              "      <th>2120</th>\n",
              "      <td>brt chairwoman lauri boivin of the menomine tribe deliv state of the tribe address</td>\n",
              "      <td>1</td>\n",
              "      <td>brt chair lauri boivin of the menomine tribe deliv state of the tribe address</td>\n",
              "    </tr>\n",
              "    <tr>\n",
              "      <th>2173</th>\n",
              "      <td>bin honor of histori month thi week we highlight four women in variou branch of creativ art</td>\n",
              "      <td>1</td>\n",
              "      <td>bin honor of histori month thi week we highlight four  in variou branch of creativ art</td>\n",
              "    </tr>\n",
              "    <tr>\n",
              "      <th>2180</th>\n",
              "      <td>bin honor of histori month thi week we highlight four trailblaz who pave the wai for women in httpstcorpewckjunc</td>\n",
              "      <td>1</td>\n",
              "      <td>bin honor of histori month thi week we highlight four trailblaz who pave the wai for  in httpstcorpewckjunc</td>\n",
              "    </tr>\n",
              "    <tr>\n",
              "      <th>2182</th>\n",
              "      <td>bthe violenc against women act is lifesav legisl that maintain the safeti resourc and protect</td>\n",
              "      <td>1</td>\n",
              "      <td>bthe violenc against  act is lifesav legisl that maintain the safeti resourc and protect</td>\n",
              "    </tr>\n",
              "    <tr>\n",
              "      <th>2184</th>\n",
              "      <td>bin honor of womenxcaxbb histori month thi week we highlight four trailblaz who pave the wai for women in httpstcohfsuftneqo</td>\n",
              "      <td>1</td>\n",
              "      <td>bin honor of xcaxbb histori month thi week we highlight four trailblaz who pave the wai for  in httpstcohfsuftneqo</td>\n",
              "    </tr>\n",
              "  </tbody>\n",
              "</table>\n",
              "</div>"
            ],
            "text/plain": [
              "                                                                                                                        text_clean  ...                                                                                                            text_clean02\n",
              "130   bthi bill put work men women and famili of our state first by extend a lifelin to the recent                                  ...  bthi bill put work men  and famili of our state first by extend a lifelin to the recent                               \n",
              "185   ba a veteran i wa honor to work with some of the finest men and women serv the nation thank you to all                        ...  ba a veteran i wa honor to work with some of the finest men and  serv the nation thank you to all                     \n",
              "335   bcongratul to juliet nowak from angelslci who won the governor trailblaz award for woman in busi                              ...  bcongratul to juliet nowak from angelslci who won the governor trailblaz award for  in busi                           \n",
              "561   bcongrat to the cooki ladi on a sweet rule todai i hope that wisdoj will choos not to appeal thi                              ...  bcongrat to the cooki  on a sweet rule todai i hope that wisdoj will choos not to appeal thi                          \n",
              "724   bhappi internationalwomensdai get to know some of the import women who have made wisconsin histori                            ...  bhappi internationalsdai get to know some of the import  who have made wisconsin histori                              \n",
              "759   bbest wish to my local citi clerk gladi mckai as she move to the next step in her career                                      ...  bbest wish to my local citi clerk g mckai as she move to the next step in her career                                  \n",
              "1172  brt travelwi at state park you just see mother natur meet her facetofac travelwi                                              ...  brt travelwi at state park you just see  natur meet her facetofac travelwi                                            \n",
              "1347  bthi is a great stori of a hardwork amp compassion young person amp daughter of on of my colleagu johnjagl                    ...  bthi is a great stori of a hardwork amp compassion young person amp  of on of my colleagu johnjagl                    \n",
              "1589  bwho happi now wisconsin dairi cow get the edg on their bovin sister in california via lacrossetribun                         ...  bwho happi now wisconsin dairi cow get the edg on their bovin  in california via lacrossetribun                       \n",
              "1934  brt wdnr good morn hunter the gundeer season is under wai stai safe out there and have a fun hunt wardengirl wihunt           ...  brt wdnr good morn hunter the gundeer season is under wai stai safe out there and have a fun hunt warden wihunt       \n",
              "1937  btodai wdnr chat discuss program to get more women and youth involv in wi outdoor sport tune in at noon                       ...  btodai wdnr chat discuss program to get more  and youth involv in wi outdoor sport tune in at noon                    \n",
              "1939  btodai is snowplow driver appreci dai in wi thank to the over men amp women who help keep our road safe                       ...  btodai is snowplow driver appreci dai in wi thank to the over men amp  who help keep our road safe                    \n",
              "1957  bgreat visit thi morn with some of the watertown girl scout thank for your thought question gsbadgerland httptcoptscmjmset    ...  bgreat visit thi morn with some of the watertown  scout thank for your thought question gsbadgerland httptcoptscmjmset\n",
              "2035  bthe wisconsin senat just pass the oral chemotherapi bill watch the remaind of our floor session at                           ...  bthe wisconsin senat just pass the oral cheapi bill watch the remaind of our floor session at                         \n",
              "2037  brt mikelowereport bipartisan prais for senfitzgerald allow the vote to treat oral chemotherapi the same as tradit iv chemo   ...  brt mikelowereport bipartisan prais for senfitzgerald allow the vote to treat oral cheapi the same as tradit iv chemo \n",
              "2120  brt chairwoman lauri boivin of the menomine tribe deliv state of the tribe address                                            ...  brt chair lauri boivin of the menomine tribe deliv state of the tribe address                                         \n",
              "2173  bin honor of histori month thi week we highlight four women in variou branch of creativ art                                   ...  bin honor of histori month thi week we highlight four  in variou branch of creativ art                                \n",
              "2180  bin honor of histori month thi week we highlight four trailblaz who pave the wai for women in httpstcorpewckjunc              ...  bin honor of histori month thi week we highlight four trailblaz who pave the wai for  in httpstcorpewckjunc           \n",
              "2182  bthe violenc against women act is lifesav legisl that maintain the safeti resourc and protect                                 ...  bthe violenc against  act is lifesav legisl that maintain the safeti resourc and protect                              \n",
              "2184  bin honor of womenxcaxbb histori month thi week we highlight four trailblaz who pave the wai for women in httpstcohfsuftneqo  ...  bin honor of xcaxbb histori month thi week we highlight four trailblaz who pave the wai for  in httpstcohfsuftneqo    \n",
              "\n",
              "[20 rows x 3 columns]"
            ]
          },
          "metadata": {
            "tags": []
          },
          "execution_count": 22
        }
      ]
    },
    {
      "cell_type": "markdown",
      "metadata": {
        "id": "8JYj-ymmJhYJ"
      },
      "source": [
        "We are now going to start the usual process for supervised machine learning: that is, splitting the dataset in training and test dataset, training the model in the training dataset, and then apply the model in the test dataset, to see how well it predict our dependent variable.\n",
        "\n",
        "Let's underline that the aim of this project/exercise is not to predict the category based on the text, but to understand which are the contexts in which women are mention in political tweets and debates.\n",
        "\n",
        " **Question:** How do you expect we are going to deal with this aim of the project.....?"
      ]
    },
    {
      "cell_type": "code",
      "metadata": {
        "id": "Xd8ph94XwI79"
      },
      "source": [
        "###!! Random sample, del primo gruppo"
      ],
      "execution_count": 23,
      "outputs": []
    },
    {
      "cell_type": "code",
      "metadata": {
        "colab": {
          "base_uri": "https://localhost:8080/",
          "height": 419
        },
        "id": "sjsqBdKFyj2p",
        "outputId": "94c4920a-4d38-403c-f6ce-d706ce3d738b"
      },
      "source": [
        "df_nonfemale =  df_short.query(\"female_talking == 0\").sample(n = 3659) \n",
        "#df_short[df_short[\"female_talking\"] == 0].sample(n= 3659) #is it the same???\n",
        "df_nonfemale"
      ],
      "execution_count": 28,
      "outputs": [
        {
          "output_type": "execute_result",
          "data": {
            "text/html": [
              "<div>\n",
              "<style scoped>\n",
              "    .dataframe tbody tr th:only-of-type {\n",
              "        vertical-align: middle;\n",
              "    }\n",
              "\n",
              "    .dataframe tbody tr th {\n",
              "        vertical-align: top;\n",
              "    }\n",
              "\n",
              "    .dataframe thead th {\n",
              "        text-align: right;\n",
              "    }\n",
              "</style>\n",
              "<table border=\"1\" class=\"dataframe\">\n",
              "  <thead>\n",
              "    <tr style=\"text-align: right;\">\n",
              "      <th></th>\n",
              "      <th>text_clean</th>\n",
              "      <th>female_talking</th>\n",
              "      <th>text_clean02</th>\n",
              "    </tr>\n",
              "  </thead>\n",
              "  <tbody>\n",
              "    <tr>\n",
              "      <th>52989</th>\n",
              "      <td>bim proud to be a cosponsor of the grai wolf state manag act that pass the hous natur resourc</td>\n",
              "      <td>0</td>\n",
              "      <td>bim proud to be a cosponsor of the grai wolf state manag act that pass the hous natur resourc</td>\n",
              "    </tr>\n",
              "    <tr>\n",
              "      <th>12696</th>\n",
              "      <td>bcspanwj look forward to it</td>\n",
              "      <td>0</td>\n",
              "      <td>bcspanwj look forward to it</td>\n",
              "    </tr>\n",
              "    <tr>\n",
              "      <th>91053</th>\n",
              "      <td>brt mvharper proud ill get to see my friend state sen jimbank address in washington dc on march</td>\n",
              "      <td>0</td>\n",
              "      <td>brt mvharper proud ill get to see my friend state sen jimbank address in washington dc on march</td>\n",
              "    </tr>\n",
              "    <tr>\n",
              "      <th>49253</th>\n",
              "      <td>bwatch the full convo here make sure to subscrib on your favorit podcast platform</td>\n",
              "      <td>0</td>\n",
              "      <td>bwatch the full convo here make sure to subscrib on your favorit podcast platform</td>\n",
              "    </tr>\n",
              "    <tr>\n",
              "      <th>79625</th>\n",
              "      <td>bitsrllyramon kkelseymcd karaforcongress did he sai that while murder folk in south america</td>\n",
              "      <td>0</td>\n",
              "      <td>bitsrllyramon kkelseymcd karaforcongress did he sai that while murder folk in south america</td>\n",
              "    </tr>\n",
              "    <tr>\n",
              "      <th>...</th>\n",
              "      <td>...</td>\n",
              "      <td>...</td>\n",
              "      <td>...</td>\n",
              "    </tr>\n",
              "    <tr>\n",
              "      <th>110375</th>\n",
              "      <td>bsee the full letter here</td>\n",
              "      <td>0</td>\n",
              "      <td>bsee the full letter here</td>\n",
              "    </tr>\n",
              "    <tr>\n",
              "      <th>78213</th>\n",
              "      <td>bsouth asian american also have a much greater chanc of have a heart attack befor ag and have emerg as</td>\n",
              "      <td>0</td>\n",
              "      <td>bsouth asian american also have a much greater chanc of have a heart attack befor ag and have emerg as</td>\n",
              "    </tr>\n",
              "    <tr>\n",
              "      <th>15178</th>\n",
              "      <td>bproud to have my constitu write so lucidli in support of scienc and truth look forward to work with you</td>\n",
              "      <td>0</td>\n",
              "      <td>bproud to have my constitu write so lucidli in support of scienc and truth look forward to work with you</td>\n",
              "    </tr>\n",
              "    <tr>\n",
              "      <th>76822</th>\n",
              "      <td>bfinal took my first walk after my isol and im feel great thank so much to everyon who ha</td>\n",
              "      <td>0</td>\n",
              "      <td>bfinal took my first walk after my isol and im feel great thank so much to everyon who ha</td>\n",
              "    </tr>\n",
              "    <tr>\n",
              "      <th>37814</th>\n",
              "      <td>bi am disappoint and dismai that repmarymil would refer hitler as a role model or someon who wa</td>\n",
              "      <td>0</td>\n",
              "      <td>bi am disappoint and dismai that repmarymil would refer hitler as a role model or someon who wa</td>\n",
              "    </tr>\n",
              "  </tbody>\n",
              "</table>\n",
              "<p>3659 rows × 3 columns</p>\n",
              "</div>"
            ],
            "text/plain": [
              "                                                                                                      text_clean  ...                                                                                              text_clean02\n",
              "52989   bim proud to be a cosponsor of the grai wolf state manag act that pass the hous natur resourc             ...  bim proud to be a cosponsor of the grai wolf state manag act that pass the hous natur resourc           \n",
              "12696   bcspanwj look forward to it                                                                               ...  bcspanwj look forward to it                                                                             \n",
              "91053   brt mvharper proud ill get to see my friend state sen jimbank address in washington dc on march           ...  brt mvharper proud ill get to see my friend state sen jimbank address in washington dc on march         \n",
              "49253   bwatch the full convo here make sure to subscrib on your favorit podcast platform                         ...  bwatch the full convo here make sure to subscrib on your favorit podcast platform                       \n",
              "79625   bitsrllyramon kkelseymcd karaforcongress did he sai that while murder folk in south america               ...  bitsrllyramon kkelseymcd karaforcongress did he sai that while murder folk in south america             \n",
              "...                                                                                             ...               ...                                                                                          ...             \n",
              "110375  bsee the full letter here                                                                                 ...  bsee the full letter here                                                                               \n",
              "78213   bsouth asian american also have a much greater chanc of have a heart attack befor ag and have emerg as    ...  bsouth asian american also have a much greater chanc of have a heart attack befor ag and have emerg as  \n",
              "15178   bproud to have my constitu write so lucidli in support of scienc and truth look forward to work with you  ...  bproud to have my constitu write so lucidli in support of scienc and truth look forward to work with you\n",
              "76822   bfinal took my first walk after my isol and im feel great thank so much to everyon who ha                 ...  bfinal took my first walk after my isol and im feel great thank so much to everyon who ha               \n",
              "37814   bi am disappoint and dismai that repmarymil would refer hitler as a role model or someon who wa           ...  bi am disappoint and dismai that repmarymil would refer hitler as a role model or someon who wa         \n",
              "\n",
              "[3659 rows x 3 columns]"
            ]
          },
          "metadata": {
            "tags": []
          },
          "execution_count": 28
        }
      ]
    },
    {
      "cell_type": "code",
      "metadata": {
        "colab": {
          "base_uri": "https://localhost:8080/",
          "height": 419
        },
        "id": "gWGi2lgozqXc",
        "outputId": "29076390-f0b2-4a98-97a1-e206d92f5e8a"
      },
      "source": [
        "df_female = df_short[df_short['female_talking'] == 1]\n",
        "df_female"
      ],
      "execution_count": 29,
      "outputs": [
        {
          "output_type": "execute_result",
          "data": {
            "text/html": [
              "<div>\n",
              "<style scoped>\n",
              "    .dataframe tbody tr th:only-of-type {\n",
              "        vertical-align: middle;\n",
              "    }\n",
              "\n",
              "    .dataframe tbody tr th {\n",
              "        vertical-align: top;\n",
              "    }\n",
              "\n",
              "    .dataframe thead th {\n",
              "        text-align: right;\n",
              "    }\n",
              "</style>\n",
              "<table border=\"1\" class=\"dataframe\">\n",
              "  <thead>\n",
              "    <tr style=\"text-align: right;\">\n",
              "      <th></th>\n",
              "      <th>text_clean</th>\n",
              "      <th>female_talking</th>\n",
              "      <th>text_clean02</th>\n",
              "    </tr>\n",
              "  </thead>\n",
              "  <tbody>\n",
              "    <tr>\n",
              "      <th>130</th>\n",
              "      <td>bthi bill put work men women and famili of our state first by extend a lifelin to the recent</td>\n",
              "      <td>1</td>\n",
              "      <td>bthi bill put work men  and famili of our state first by extend a lifelin to the recent</td>\n",
              "    </tr>\n",
              "    <tr>\n",
              "      <th>185</th>\n",
              "      <td>ba a veteran i wa honor to work with some of the finest men and women serv the nation thank you to all</td>\n",
              "      <td>1</td>\n",
              "      <td>ba a veteran i wa honor to work with some of the finest men and  serv the nation thank you to all</td>\n",
              "    </tr>\n",
              "    <tr>\n",
              "      <th>335</th>\n",
              "      <td>bcongratul to juliet nowak from angelslci who won the governor trailblaz award for woman in busi</td>\n",
              "      <td>1</td>\n",
              "      <td>bcongratul to juliet nowak from angelslci who won the governor trailblaz award for  in busi</td>\n",
              "    </tr>\n",
              "    <tr>\n",
              "      <th>561</th>\n",
              "      <td>bcongrat to the cooki ladi on a sweet rule todai i hope that wisdoj will choos not to appeal thi</td>\n",
              "      <td>1</td>\n",
              "      <td>bcongrat to the cooki  on a sweet rule todai i hope that wisdoj will choos not to appeal thi</td>\n",
              "    </tr>\n",
              "    <tr>\n",
              "      <th>724</th>\n",
              "      <td>bhappi internationalwomensdai get to know some of the import women who have made wisconsin histori</td>\n",
              "      <td>1</td>\n",
              "      <td>bhappi internationalsdai get to know some of the import  who have made wisconsin histori</td>\n",
              "    </tr>\n",
              "    <tr>\n",
              "      <th>...</th>\n",
              "      <td>...</td>\n",
              "      <td>...</td>\n",
              "      <td>...</td>\n",
              "    </tr>\n",
              "    <tr>\n",
              "      <th>126104</th>\n",
              "      <td>bincred thank for everi man and woman who ha worn america uniform thank you for your sacrific and httpstcogrjttvxpoh</td>\n",
              "      <td>1</td>\n",
              "      <td>bincred thank for everi man and  who ha worn america uniform thank you for your sacrific and httpstcogrjttvxpoh</td>\n",
              "    </tr>\n",
              "    <tr>\n",
              "      <th>126111</th>\n",
              "      <td>boctob is breastcancerawarenessmonth in everi women will be diagnos dure their lifetim togeth we</td>\n",
              "      <td>1</td>\n",
              "      <td>boctob is breastcancerawarenessmonth in everi  will be diagnos dure their lifetim togeth we</td>\n",
              "    </tr>\n",
              "    <tr>\n",
              "      <th>126151</th>\n",
              "      <td>benjoi meet kid staff amp volunt at the boi amp girl club bgccan thi afternoon in selma</td>\n",
              "      <td>1</td>\n",
              "      <td>benjoi meet kid staff amp volunt at the boi amp  club bgccan thi afternoon in selma</td>\n",
              "    </tr>\n",
              "    <tr>\n",
              "      <th>126189</th>\n",
              "      <td>bstart my week work w some of the strongest leader discuss critic issu impact women</td>\n",
              "      <td>1</td>\n",
              "      <td>bstart my week work w some of the strongest leader discuss critic issu impact</td>\n",
              "    </tr>\n",
              "    <tr>\n",
              "      <th>126326</th>\n",
              "      <td>bhappi anniversari to the love of my life terra you ar the best wife and friend a gui could ask for</td>\n",
              "      <td>1</td>\n",
              "      <td>bhappi anniversari to the love of my life terra you ar the best  and friend a gui could ask for</td>\n",
              "    </tr>\n",
              "  </tbody>\n",
              "</table>\n",
              "<p>3659 rows × 3 columns</p>\n",
              "</div>"
            ],
            "text/plain": [
              "                                                                                                                  text_clean  ...                                                                                                     text_clean02\n",
              "130     bthi bill put work men women and famili of our state first by extend a lifelin to the recent                          ...  bthi bill put work men  and famili of our state first by extend a lifelin to the recent                        \n",
              "185     ba a veteran i wa honor to work with some of the finest men and women serv the nation thank you to all                ...  ba a veteran i wa honor to work with some of the finest men and  serv the nation thank you to all              \n",
              "335     bcongratul to juliet nowak from angelslci who won the governor trailblaz award for woman in busi                      ...  bcongratul to juliet nowak from angelslci who won the governor trailblaz award for  in busi                    \n",
              "561     bcongrat to the cooki ladi on a sweet rule todai i hope that wisdoj will choos not to appeal thi                      ...  bcongrat to the cooki  on a sweet rule todai i hope that wisdoj will choos not to appeal thi                   \n",
              "724     bhappi internationalwomensdai get to know some of the import women who have made wisconsin histori                    ...  bhappi internationalsdai get to know some of the import  who have made wisconsin histori                       \n",
              "...                                                                                                    ...                    ...                                                                                       ...                       \n",
              "126104  bincred thank for everi man and woman who ha worn america uniform thank you for your sacrific and httpstcogrjttvxpoh  ...  bincred thank for everi man and  who ha worn america uniform thank you for your sacrific and httpstcogrjttvxpoh\n",
              "126111  boctob is breastcancerawarenessmonth in everi women will be diagnos dure their lifetim togeth we                      ...  boctob is breastcancerawarenessmonth in everi  will be diagnos dure their lifetim togeth we                    \n",
              "126151  benjoi meet kid staff amp volunt at the boi amp girl club bgccan thi afternoon in selma                               ...  benjoi meet kid staff amp volunt at the boi amp  club bgccan thi afternoon in selma                            \n",
              "126189  bstart my week work w some of the strongest leader discuss critic issu impact women                                   ...  bstart my week work w some of the strongest leader discuss critic issu impact                                  \n",
              "126326  bhappi anniversari to the love of my life terra you ar the best wife and friend a gui could ask for                   ...  bhappi anniversari to the love of my life terra you ar the best  and friend a gui could ask for                \n",
              "\n",
              "[3659 rows x 3 columns]"
            ]
          },
          "metadata": {
            "tags": []
          },
          "execution_count": 29
        }
      ]
    },
    {
      "cell_type": "code",
      "metadata": {
        "colab": {
          "base_uri": "https://localhost:8080/",
          "height": 419
        },
        "id": "lUW_ZoQvz1bB",
        "outputId": "5869d1c2-22c3-403b-c42b-b8eb33796bb5"
      },
      "source": [
        "df_definit = df_female.append(df_nonfemale).sample(frac =1).reset_index(drop=True)\n",
        "df_definit"
      ],
      "execution_count": 30,
      "outputs": [
        {
          "output_type": "execute_result",
          "data": {
            "text/html": [
              "<div>\n",
              "<style scoped>\n",
              "    .dataframe tbody tr th:only-of-type {\n",
              "        vertical-align: middle;\n",
              "    }\n",
              "\n",
              "    .dataframe tbody tr th {\n",
              "        vertical-align: top;\n",
              "    }\n",
              "\n",
              "    .dataframe thead th {\n",
              "        text-align: right;\n",
              "    }\n",
              "</style>\n",
              "<table border=\"1\" class=\"dataframe\">\n",
              "  <thead>\n",
              "    <tr style=\"text-align: right;\">\n",
              "      <th></th>\n",
              "      <th>text_clean</th>\n",
              "      <th>female_talking</th>\n",
              "      <th>text_clean02</th>\n",
              "    </tr>\n",
              "  </thead>\n",
              "  <tbody>\n",
              "    <tr>\n",
              "      <th>0</th>\n",
              "      <td>bi am down on the border todai with some member of homelandgopnnw have been speak with cbp agent all dai</td>\n",
              "      <td>0</td>\n",
              "      <td>bi am down on the border todai with some member of homelandgopnnw have been speak with cbp agent all dai</td>\n",
              "    </tr>\n",
              "    <tr>\n",
              "      <th>1</th>\n",
              "      <td>brt nationalservic thank you repmichaelwaltz and rephoulahan for your leadership and support of nation servic</td>\n",
              "      <td>0</td>\n",
              "      <td>brt nationalservic thank you repmichaelwaltz and rephoulahan for your leadership and support of nation servic</td>\n",
              "    </tr>\n",
              "    <tr>\n",
              "      <th>2</th>\n",
              "      <td>brt bqdiocesepress thank you to congresswoman nmalliotaki for take part in the great diocesan read aloud sponsor by ctnbrooklyn</td>\n",
              "      <td>1</td>\n",
              "      <td>brt bqdiocesepress thank you to congress nmalliotaki for take part in the great diocesan read aloud sponsor by ctnbrooklyn</td>\n",
              "    </tr>\n",
              "    <tr>\n",
              "      <th>3</th>\n",
              "      <td>bthi is great the brave men and women who fought in vietnam did not receiv the welcom home thei deserv and httpstcolbsrwawdgi</td>\n",
              "      <td>1</td>\n",
              "      <td>bthi is great the brave men and  who fought in vietnam did not receiv the welcom home thei deserv and httpstcolbsrwawdgi</td>\n",
              "    </tr>\n",
              "    <tr>\n",
              "      <th>4</th>\n",
              "      <td>bthe hous of repres must return to washington and continu the work of the peopl to combat thi viru</td>\n",
              "      <td>0</td>\n",
              "      <td>bthe hous of repres must return to washington and continu the work of the peopl to combat thi viru</td>\n",
              "    </tr>\n",
              "    <tr>\n",
              "      <th>...</th>\n",
              "      <td>...</td>\n",
              "      <td>...</td>\n",
              "      <td>...</td>\n",
              "    </tr>\n",
              "    <tr>\n",
              "      <th>7313</th>\n",
              "      <td>bin fda approv the first birth control pill todai were fight to ensur everyon woman ha access to</td>\n",
              "      <td>1</td>\n",
              "      <td>bin fda approv the first birth control pill todai were fight to ensur everyon  ha access to</td>\n",
              "    </tr>\n",
              "    <tr>\n",
              "      <th>7314</th>\n",
              "      <td>bproud to have the support of medicareright for our bill to help senior afford health care and prescript</td>\n",
              "      <td>0</td>\n",
              "      <td>bproud to have the support of medicareright for our bill to help senior afford health care and prescript</td>\n",
              "    </tr>\n",
              "    <tr>\n",
              "      <th>7315</th>\n",
              "      <td>bthe evergreen state ha a long histori of power women lead the wai as we celebr</td>\n",
              "      <td>1</td>\n",
              "      <td>bthe evergreen state ha a long histori of power  lead the wai as we celebr</td>\n",
              "    </tr>\n",
              "    <tr>\n",
              "      <th>7316</th>\n",
              "      <td>bcelebr womenshistorymonth with the women of wtnh</td>\n",
              "      <td>1</td>\n",
              "      <td>bcelebr shistorymonth with the  of wtnh</td>\n",
              "    </tr>\n",
              "    <tr>\n",
              "      <th>7317</th>\n",
              "      <td>bon thi memorialdai we rememb all the brave men and women who have made the ultim sacrific in the pursuit</td>\n",
              "      <td>1</td>\n",
              "      <td>bon thi memorialdai we rememb all the brave men and  who have made the ultim sacrific in the pursuit</td>\n",
              "    </tr>\n",
              "  </tbody>\n",
              "</table>\n",
              "<p>7318 rows × 3 columns</p>\n",
              "</div>"
            ],
            "text/plain": [
              "                                                                                                                           text_clean  ...                                                                                                                text_clean02\n",
              "0     bi am down on the border todai with some member of homelandgopnnw have been speak with cbp agent all dai                         ...  bi am down on the border todai with some member of homelandgopnnw have been speak with cbp agent all dai                  \n",
              "1     brt nationalservic thank you repmichaelwaltz and rephoulahan for your leadership and support of nation servic                    ...  brt nationalservic thank you repmichaelwaltz and rephoulahan for your leadership and support of nation servic             \n",
              "2     brt bqdiocesepress thank you to congresswoman nmalliotaki for take part in the great diocesan read aloud sponsor by ctnbrooklyn  ...  brt bqdiocesepress thank you to congress nmalliotaki for take part in the great diocesan read aloud sponsor by ctnbrooklyn\n",
              "3     bthi is great the brave men and women who fought in vietnam did not receiv the welcom home thei deserv and httpstcolbsrwawdgi    ...  bthi is great the brave men and  who fought in vietnam did not receiv the welcom home thei deserv and httpstcolbsrwawdgi  \n",
              "4     bthe hous of repres must return to washington and continu the work of the peopl to combat thi viru                               ...  bthe hous of repres must return to washington and continu the work of the peopl to combat thi viru                        \n",
              "...                                                                                                  ...                               ...                                                                                                 ...                        \n",
              "7313  bin fda approv the first birth control pill todai were fight to ensur everyon woman ha access to                                 ...  bin fda approv the first birth control pill todai were fight to ensur everyon  ha access to                               \n",
              "7314  bproud to have the support of medicareright for our bill to help senior afford health care and prescript                         ...  bproud to have the support of medicareright for our bill to help senior afford health care and prescript                  \n",
              "7315  bthe evergreen state ha a long histori of power women lead the wai as we celebr                                                  ...  bthe evergreen state ha a long histori of power  lead the wai as we celebr                                                \n",
              "7316  bcelebr womenshistorymonth with the women of wtnh                                                                                ...  bcelebr shistorymonth with the  of wtnh                                                                                   \n",
              "7317  bon thi memorialdai we rememb all the brave men and women who have made the ultim sacrific in the pursuit                        ...  bon thi memorialdai we rememb all the brave men and  who have made the ultim sacrific in the pursuit                      \n",
              "\n",
              "[7318 rows x 3 columns]"
            ]
          },
          "metadata": {
            "tags": []
          },
          "execution_count": 30
        }
      ]
    },
    {
      "cell_type": "code",
      "metadata": {
        "id": "KlPlrfYJ5FJJ"
      },
      "source": [
        "### I now split in training and test dataset\n",
        "from sklearn.model_selection import train_test_split\n",
        "X_train, X_test, y_train, y_test = train_test_split(df_definit['text_clean02'], df_definit['female_talking'], test_size=0.25, random_state=35)"
      ],
      "execution_count": 31,
      "outputs": []
    },
    {
      "cell_type": "code",
      "metadata": {
        "colab": {
          "base_uri": "https://localhost:8080/"
        },
        "id": "DAhr4fCs8NCF",
        "outputId": "e17bab93-9485-4e58-b8b2-a334c000f237"
      },
      "source": [
        "X_train.head(4)"
      ],
      "execution_count": 32,
      "outputs": [
        {
          "output_type": "execute_result",
          "data": {
            "text/plain": [
              "7088    focus on help peopl and busi get through thi if you run a busi and ar struggl to keep         \n",
              "5094    bfor month we were told thi is the of meanwhil violent protest accru almost billion in        \n",
              "2394    bi introduc a resolut condemn the forc amp unnecessari procedur perform on immigr  it also    \n",
              "6913    bsarcasmtasti hei there thi account is manag by the congress feder staff as note in the bio we\n",
              "Name: text_clean02, dtype: object"
            ]
          },
          "metadata": {
            "tags": []
          },
          "execution_count": 32
        }
      ]
    },
    {
      "cell_type": "code",
      "metadata": {
        "colab": {
          "base_uri": "https://localhost:8080/"
        },
        "id": "GTRxv-xP8M6B",
        "outputId": "aecc6542-5716-4e45-d129-8ccc4c532844"
      },
      "source": [
        "y_train.head(4)"
      ],
      "execution_count": 33,
      "outputs": [
        {
          "output_type": "execute_result",
          "data": {
            "text/plain": [
              "7088    0\n",
              "5094    0\n",
              "2394    1\n",
              "6913    1\n",
              "Name: female_talking, dtype: int64"
            ]
          },
          "metadata": {
            "tags": []
          },
          "execution_count": 33
        }
      ]
    },
    {
      "cell_type": "code",
      "metadata": {
        "id": "69mnKblw8Mq9"
      },
      "source": [
        "### We create the dictionary\n",
        "from sklearn.feature_extraction.text import CountVectorizer, TfidfTransformer"
      ],
      "execution_count": 34,
      "outputs": []
    },
    {
      "cell_type": "code",
      "metadata": {
        "colab": {
          "base_uri": "https://localhost:8080/"
        },
        "id": "5JUoeJpF_jyo",
        "outputId": "6cd34c1c-df6b-4e6e-912e-80ffa65e55a8"
      },
      "source": [
        "vectorizer = CountVectorizer()\n",
        "X_train_counts = vectorizer.fit_transform(X_train)\n",
        "features_name = vectorizer.get_feature_names()\n",
        "features_name[:10]"
      ],
      "execution_count": 35,
      "outputs": [
        {
          "output_type": "execute_result",
          "data": {
            "text/plain": [
              "['aa',\n",
              " 'aaf',\n",
              " 'aapi',\n",
              " 'aapiequalpai',\n",
              " 'aaron',\n",
              " 'aarp',\n",
              " 'aarpca',\n",
              " 'aarpillinoi',\n",
              " 'aauwactionfund',\n",
              " 'abandon']"
            ]
          },
          "metadata": {
            "tags": []
          },
          "execution_count": 35
        }
      ]
    },
    {
      "cell_type": "code",
      "metadata": {
        "colab": {
          "base_uri": "https://localhost:8080/"
        },
        "id": "haB1zmhS_jpA",
        "outputId": "25aa1d00-2b20-40c6-fdd6-1eeb2902e1a6"
      },
      "source": [
        "len(features_name)"
      ],
      "execution_count": 36,
      "outputs": [
        {
          "output_type": "execute_result",
          "data": {
            "text/plain": [
              "10518"
            ]
          },
          "metadata": {
            "tags": []
          },
          "execution_count": 36
        }
      ]
    },
    {
      "cell_type": "code",
      "metadata": {
        "colab": {
          "base_uri": "https://localhost:8080/"
        },
        "id": "Jz1Sm0fIASA_",
        "outputId": "e0779142-611e-4045-ac29-87b0ce180513"
      },
      "source": [
        "X_train_counts"
      ],
      "execution_count": 37,
      "outputs": [
        {
          "output_type": "execute_result",
          "data": {
            "text/plain": [
              "<5488x10518 sparse matrix of type '<class 'numpy.int64'>'\n",
              "\twith 84853 stored elements in Compressed Sparse Row format>"
            ]
          },
          "metadata": {
            "tags": []
          },
          "execution_count": 37
        }
      ]
    },
    {
      "cell_type": "code",
      "metadata": {
        "id": "3ZisOfie8Mn0"
      },
      "source": [
        "tfidf_transformer = TfidfTransformer()\n",
        "X_train_tfidf = tfidf_transformer.fit_transform(X_train_counts)"
      ],
      "execution_count": 38,
      "outputs": []
    },
    {
      "cell_type": "code",
      "metadata": {
        "colab": {
          "base_uri": "https://localhost:8080/"
        },
        "id": "ke8b-U2F8Ng-",
        "outputId": "da456cdc-3051-4cd1-efcb-8015629423c2"
      },
      "source": [
        "### Train a Classifier - Fitting the model\n",
        "from sklearn.linear_model import LogisticRegression\n",
        "regression = LogisticRegression()\n",
        "regression.fit(X_train_tfidf, y_train)"
      ],
      "execution_count": 57,
      "outputs": [
        {
          "output_type": "execute_result",
          "data": {
            "text/plain": [
              "LogisticRegression(C=1.0, class_weight=None, dual=False, fit_intercept=True,\n",
              "                   intercept_scaling=1, l1_ratio=None, max_iter=100,\n",
              "                   multi_class='auto', n_jobs=None, penalty='l2',\n",
              "                   random_state=None, solver='lbfgs', tol=0.0001, verbose=0,\n",
              "                   warm_start=False)"
            ]
          },
          "metadata": {
            "tags": []
          },
          "execution_count": 57
        }
      ]
    },
    {
      "cell_type": "markdown",
      "metadata": {
        "id": "qWZ4uKFYLJfu"
      },
      "source": [
        "Ww now proceed with the usual prediction exercise"
      ]
    },
    {
      "cell_type": "code",
      "metadata": {
        "colab": {
          "base_uri": "https://localhost:8080/"
        },
        "id": "YIq_SrskByCS",
        "outputId": "b5202e35-0f74-4f81-a231-3c1047d81252"
      },
      "source": [
        "### Prediction\n",
        "X_test_counts = vectorizer.transform(X_test)\n",
        "features_name = vectorizer.get_feature_names()\n",
        "features_name[:10]"
      ],
      "execution_count": 58,
      "outputs": [
        {
          "output_type": "execute_result",
          "data": {
            "text/plain": [
              "['aa',\n",
              " 'aaf',\n",
              " 'aapi',\n",
              " 'aapiequalpai',\n",
              " 'aaron',\n",
              " 'aarp',\n",
              " 'aarpca',\n",
              " 'aarpillinoi',\n",
              " 'aauwactionfund',\n",
              " 'abandon']"
            ]
          },
          "metadata": {
            "tags": []
          },
          "execution_count": 58
        }
      ]
    },
    {
      "cell_type": "code",
      "metadata": {
        "id": "3Pk4H01oBz1x"
      },
      "source": [
        "X_test_tfidf = tfidf_transformer.transform(X_test_counts)\n",
        "prediction = regression.predict(X_test_tfidf)"
      ],
      "execution_count": 59,
      "outputs": []
    },
    {
      "cell_type": "code",
      "metadata": {
        "colab": {
          "base_uri": "https://localhost:8080/"
        },
        "id": "cXbMA8hDBzsn",
        "outputId": "4093bf6a-a74b-46dd-a26e-50500b7514d2"
      },
      "source": [
        "##### evaluation\n",
        "np.mean(prediction == y_test)"
      ],
      "execution_count": 60,
      "outputs": [
        {
          "output_type": "execute_result",
          "data": {
            "text/plain": [
              "0.780327868852459"
            ]
          },
          "metadata": {
            "tags": []
          },
          "execution_count": 60
        }
      ]
    },
    {
      "cell_type": "markdown",
      "metadata": {
        "id": "Ely2qXed18af"
      },
      "source": [
        "Try to make the prediction on the whole dataset!! (excluding training dataset)\n",
        "(or try to do the training dataset with different percentage of the \"0\" category)"
      ]
    },
    {
      "cell_type": "markdown",
      "metadata": {
        "id": "vPdxMKCZLPGS"
      },
      "source": [
        "We can see that, using only the text of the tweets, we can predict with an accuracy of 80% whether the tweets is mentioning women."
      ]
    },
    {
      "cell_type": "markdown",
      "metadata": {
        "id": "YFSEihWpLblo"
      },
      "source": [
        "### **Most predictive words for category classification**\n",
        "(i.e., features importance)\n",
        "\n",
        "In order to see what are the words that are most used when women are mentioned, we are going to analyze features importance (that is, the size of the associated coefficient, which is proportional to the marginal effect of the word, in predicting the category).\n",
        "\n",
        "More information about how to calculate features importance can be found here: https://machinelearningmastery.com/calculate-feature-importance-with-python/"
      ]
    },
    {
      "cell_type": "code",
      "metadata": {
        "id": "VS_461klCoyg"
      },
      "source": [
        "#### Features importance\n",
        "importance = regression.coef_[0]"
      ],
      "execution_count": 61,
      "outputs": []
    },
    {
      "cell_type": "code",
      "metadata": {
        "colab": {
          "base_uri": "https://localhost:8080/"
        },
        "id": "994YferhCooE",
        "outputId": "f58324a4-0712-4497-c430-1d946ae3aaf5"
      },
      "source": [
        "importance"
      ],
      "execution_count": 62,
      "outputs": [
        {
          "output_type": "execute_result",
          "data": {
            "text/plain": [
              "array([ 0.19051298,  0.19804936,  0.10296   , ..., -0.09723692,\n",
              "       -0.16529838,  0.1803349 ])"
            ]
          },
          "metadata": {
            "tags": []
          },
          "execution_count": 62
        }
      ]
    },
    {
      "cell_type": "code",
      "metadata": {
        "colab": {
          "base_uri": "https://localhost:8080/"
        },
        "id": "l9tjQ5KrDC7m",
        "outputId": "682b44cb-1908-4891-bb70-bc02474dcdfe"
      },
      "source": [
        "len(importance)"
      ],
      "execution_count": 63,
      "outputs": [
        {
          "output_type": "execute_result",
          "data": {
            "text/plain": [
              "10518"
            ]
          },
          "metadata": {
            "tags": []
          },
          "execution_count": 63
        }
      ]
    },
    {
      "cell_type": "code",
      "metadata": {
        "id": "zxsOFdzyDHiI"
      },
      "source": [
        "df_importance = pd.DataFrame(features_name, importance)"
      ],
      "execution_count": 64,
      "outputs": []
    },
    {
      "cell_type": "code",
      "metadata": {
        "colab": {
          "base_uri": "https://localhost:8080/",
          "height": 419
        },
        "id": "r0LefREPDRSK",
        "outputId": "f3be7e55-14b1-491a-9c0f-816c336a9009"
      },
      "source": [
        "df_importance"
      ],
      "execution_count": 65,
      "outputs": [
        {
          "output_type": "execute_result",
          "data": {
            "text/html": [
              "<div>\n",
              "<style scoped>\n",
              "    .dataframe tbody tr th:only-of-type {\n",
              "        vertical-align: middle;\n",
              "    }\n",
              "\n",
              "    .dataframe tbody tr th {\n",
              "        vertical-align: top;\n",
              "    }\n",
              "\n",
              "    .dataframe thead th {\n",
              "        text-align: right;\n",
              "    }\n",
              "</style>\n",
              "<table border=\"1\" class=\"dataframe\">\n",
              "  <thead>\n",
              "    <tr style=\"text-align: right;\">\n",
              "      <th></th>\n",
              "      <th>0</th>\n",
              "    </tr>\n",
              "  </thead>\n",
              "  <tbody>\n",
              "    <tr>\n",
              "      <th>0.190513</th>\n",
              "      <td>aa</td>\n",
              "    </tr>\n",
              "    <tr>\n",
              "      <th>0.198049</th>\n",
              "      <td>aaf</td>\n",
              "    </tr>\n",
              "    <tr>\n",
              "      <th>0.102960</th>\n",
              "      <td>aapi</td>\n",
              "    </tr>\n",
              "    <tr>\n",
              "      <th>0.167253</th>\n",
              "      <td>aapiequalpai</td>\n",
              "    </tr>\n",
              "    <tr>\n",
              "      <th>-0.190711</th>\n",
              "      <td>aaron</td>\n",
              "    </tr>\n",
              "    <tr>\n",
              "      <th>...</th>\n",
              "      <td>...</td>\n",
              "    </tr>\n",
              "    <tr>\n",
              "      <th>0.038293</th>\n",
              "      <td>zink</td>\n",
              "    </tr>\n",
              "    <tr>\n",
              "      <th>-0.090187</th>\n",
              "      <td>zone</td>\n",
              "    </tr>\n",
              "    <tr>\n",
              "      <th>-0.097237</th>\n",
              "      <td>zoom</td>\n",
              "    </tr>\n",
              "    <tr>\n",
              "      <th>-0.165298</th>\n",
              "      <td>zuckerberg</td>\n",
              "    </tr>\n",
              "    <tr>\n",
              "      <th>0.180335</th>\n",
              "      <td>zur</td>\n",
              "    </tr>\n",
              "  </tbody>\n",
              "</table>\n",
              "<p>10518 rows × 1 columns</p>\n",
              "</div>"
            ],
            "text/plain": [
              "                      0\n",
              " 0.190513  aa          \n",
              " 0.198049  aaf         \n",
              " 0.102960  aapi        \n",
              " 0.167253  aapiequalpai\n",
              "-0.190711  aaron       \n",
              "...          ...       \n",
              " 0.038293  zink        \n",
              "-0.090187  zone        \n",
              "-0.097237  zoom        \n",
              "-0.165298  zuckerberg  \n",
              " 0.180335  zur         \n",
              "\n",
              "[10518 rows x 1 columns]"
            ]
          },
          "metadata": {
            "tags": []
          },
          "execution_count": 65
        }
      ]
    },
    {
      "cell_type": "code",
      "metadata": {
        "colab": {
          "base_uri": "https://localhost:8080/",
          "height": 419
        },
        "id": "tywcrvcZD9U2",
        "outputId": "66eadca4-ef1e-460a-9d27-bebff54ac966"
      },
      "source": [
        "df_importance['coef'] = df_importance.index\n",
        "df_importance\n",
        "df_importance.rename(columns={0: \"words\"})"
      ],
      "execution_count": 66,
      "outputs": [
        {
          "output_type": "execute_result",
          "data": {
            "text/html": [
              "<div>\n",
              "<style scoped>\n",
              "    .dataframe tbody tr th:only-of-type {\n",
              "        vertical-align: middle;\n",
              "    }\n",
              "\n",
              "    .dataframe tbody tr th {\n",
              "        vertical-align: top;\n",
              "    }\n",
              "\n",
              "    .dataframe thead th {\n",
              "        text-align: right;\n",
              "    }\n",
              "</style>\n",
              "<table border=\"1\" class=\"dataframe\">\n",
              "  <thead>\n",
              "    <tr style=\"text-align: right;\">\n",
              "      <th></th>\n",
              "      <th>words</th>\n",
              "      <th>coef</th>\n",
              "    </tr>\n",
              "  </thead>\n",
              "  <tbody>\n",
              "    <tr>\n",
              "      <th>0.190513</th>\n",
              "      <td>aa</td>\n",
              "      <td>0.190513</td>\n",
              "    </tr>\n",
              "    <tr>\n",
              "      <th>0.198049</th>\n",
              "      <td>aaf</td>\n",
              "      <td>0.198049</td>\n",
              "    </tr>\n",
              "    <tr>\n",
              "      <th>0.102960</th>\n",
              "      <td>aapi</td>\n",
              "      <td>0.102960</td>\n",
              "    </tr>\n",
              "    <tr>\n",
              "      <th>0.167253</th>\n",
              "      <td>aapiequalpai</td>\n",
              "      <td>0.167253</td>\n",
              "    </tr>\n",
              "    <tr>\n",
              "      <th>-0.190711</th>\n",
              "      <td>aaron</td>\n",
              "      <td>-0.190711</td>\n",
              "    </tr>\n",
              "    <tr>\n",
              "      <th>...</th>\n",
              "      <td>...</td>\n",
              "      <td>...</td>\n",
              "    </tr>\n",
              "    <tr>\n",
              "      <th>0.038293</th>\n",
              "      <td>zink</td>\n",
              "      <td>0.038293</td>\n",
              "    </tr>\n",
              "    <tr>\n",
              "      <th>-0.090187</th>\n",
              "      <td>zone</td>\n",
              "      <td>-0.090187</td>\n",
              "    </tr>\n",
              "    <tr>\n",
              "      <th>-0.097237</th>\n",
              "      <td>zoom</td>\n",
              "      <td>-0.097237</td>\n",
              "    </tr>\n",
              "    <tr>\n",
              "      <th>-0.165298</th>\n",
              "      <td>zuckerberg</td>\n",
              "      <td>-0.165298</td>\n",
              "    </tr>\n",
              "    <tr>\n",
              "      <th>0.180335</th>\n",
              "      <td>zur</td>\n",
              "      <td>0.180335</td>\n",
              "    </tr>\n",
              "  </tbody>\n",
              "</table>\n",
              "<p>10518 rows × 2 columns</p>\n",
              "</div>"
            ],
            "text/plain": [
              "                  words      coef\n",
              " 0.190513  aa            0.190513\n",
              " 0.198049  aaf           0.198049\n",
              " 0.102960  aapi          0.102960\n",
              " 0.167253  aapiequalpai  0.167253\n",
              "-0.190711  aaron        -0.190711\n",
              "...          ...              ...\n",
              " 0.038293  zink          0.038293\n",
              "-0.090187  zone         -0.090187\n",
              "-0.097237  zoom         -0.097237\n",
              "-0.165298  zuckerberg   -0.165298\n",
              " 0.180335  zur           0.180335\n",
              "\n",
              "[10518 rows x 2 columns]"
            ]
          },
          "metadata": {
            "tags": []
          },
          "execution_count": 66
        }
      ]
    },
    {
      "cell_type": "code",
      "metadata": {
        "id": "I-SIcU11Dm57"
      },
      "source": [
        "df_sort = df_importance.sort_values(by='coef', ascending=False)"
      ],
      "execution_count": 67,
      "outputs": []
    },
    {
      "cell_type": "code",
      "metadata": {
        "colab": {
          "base_uri": "https://localhost:8080/",
          "height": 1000
        },
        "id": "0QFyMY4SEmN9",
        "outputId": "a8e30e45-5b7d-402f-b672-a5a7e751ed3f"
      },
      "source": [
        "df_sort.head(50)"
      ],
      "execution_count": 68,
      "outputs": [
        {
          "output_type": "execute_result",
          "data": {
            "text/html": [
              "<div>\n",
              "<style scoped>\n",
              "    .dataframe tbody tr th:only-of-type {\n",
              "        vertical-align: middle;\n",
              "    }\n",
              "\n",
              "    .dataframe tbody tr th {\n",
              "        vertical-align: top;\n",
              "    }\n",
              "\n",
              "    .dataframe thead th {\n",
              "        text-align: right;\n",
              "    }\n",
              "</style>\n",
              "<table border=\"1\" class=\"dataframe\">\n",
              "  <thead>\n",
              "    <tr style=\"text-align: right;\">\n",
              "      <th></th>\n",
              "      <th>0</th>\n",
              "      <th>coef</th>\n",
              "    </tr>\n",
              "  </thead>\n",
              "  <tbody>\n",
              "    <tr>\n",
              "      <th>9.236560</th>\n",
              "      <td>men</td>\n",
              "      <td>9.236560</td>\n",
              "    </tr>\n",
              "    <tr>\n",
              "      <th>4.160704</th>\n",
              "      <td>congress</td>\n",
              "      <td>4.160704</td>\n",
              "    </tr>\n",
              "    <tr>\n",
              "      <th>3.939048</th>\n",
              "      <td>black</td>\n",
              "      <td>3.939048</td>\n",
              "    </tr>\n",
              "    <tr>\n",
              "      <th>3.280009</th>\n",
              "      <td>and</td>\n",
              "      <td>3.280009</td>\n",
              "    </tr>\n",
              "    <tr>\n",
              "      <th>3.123483</th>\n",
              "      <td>her</td>\n",
              "      <td>3.123483</td>\n",
              "    </tr>\n",
              "    <tr>\n",
              "      <th>3.083736</th>\n",
              "      <td>first</td>\n",
              "      <td>3.083736</td>\n",
              "    </tr>\n",
              "    <tr>\n",
              "      <th>3.054443</th>\n",
              "      <td>jimnstin</td>\n",
              "      <td>3.054443</td>\n",
              "    </tr>\n",
              "    <tr>\n",
              "      <th>2.987557</th>\n",
              "      <td>internationalsdai</td>\n",
              "      <td>2.987557</td>\n",
              "    </tr>\n",
              "    <tr>\n",
              "      <th>2.946819</th>\n",
              "      <td>shistorymonth</td>\n",
              "      <td>2.946819</td>\n",
              "    </tr>\n",
              "    <tr>\n",
              "      <th>2.814352</th>\n",
              "      <td>violenc</td>\n",
              "      <td>2.814352</td>\n",
              "    </tr>\n",
              "    <tr>\n",
              "      <th>2.705294</th>\n",
              "      <td>equal</td>\n",
              "      <td>2.705294</td>\n",
              "    </tr>\n",
              "    <tr>\n",
              "      <th>2.589210</th>\n",
              "      <td>histori</td>\n",
              "      <td>2.589210</td>\n",
              "    </tr>\n",
              "    <tr>\n",
              "      <th>2.496716</th>\n",
              "      <td>she</td>\n",
              "      <td>2.496716</td>\n",
              "    </tr>\n",
              "    <tr>\n",
              "      <th>2.488761</th>\n",
              "      <td>chair</td>\n",
              "      <td>2.488761</td>\n",
              "    </tr>\n",
              "    <tr>\n",
              "      <th>2.235993</th>\n",
              "      <td>who</td>\n",
              "      <td>2.235993</td>\n",
              "    </tr>\n",
              "    <tr>\n",
              "      <th>2.226649</th>\n",
              "      <td>brave</td>\n",
              "      <td>2.226649</td>\n",
              "    </tr>\n",
              "    <tr>\n",
              "      <th>2.182564</th>\n",
              "      <td>young</td>\n",
              "      <td>2.182564</td>\n",
              "    </tr>\n",
              "    <tr>\n",
              "      <th>2.028411</th>\n",
              "      <td>wa</td>\n",
              "      <td>2.028411</td>\n",
              "    </tr>\n",
              "    <tr>\n",
              "      <th>2.007606</th>\n",
              "      <td>brother</td>\n",
              "      <td>2.007606</td>\n",
              "    </tr>\n",
              "    <tr>\n",
              "      <th>1.976336</th>\n",
              "      <td>servicemen</td>\n",
              "      <td>1.976336</td>\n",
              "    </tr>\n",
              "    <tr>\n",
              "      <th>1.927839</th>\n",
              "      <td>of</td>\n",
              "      <td>1.927839</td>\n",
              "    </tr>\n",
              "    <tr>\n",
              "      <th>1.917176</th>\n",
              "      <td>mom</td>\n",
              "      <td>1.917176</td>\n",
              "    </tr>\n",
              "    <tr>\n",
              "      <th>1.822555</th>\n",
              "      <td>pai</td>\n",
              "      <td>1.822555</td>\n",
              "    </tr>\n",
              "    <tr>\n",
              "      <th>1.780692</th>\n",
              "      <td>serv</td>\n",
              "      <td>1.780692</td>\n",
              "    </tr>\n",
              "    <tr>\n",
              "      <th>1.756450</th>\n",
              "      <td>my</td>\n",
              "      <td>1.756450</td>\n",
              "    </tr>\n",
              "    <tr>\n",
              "      <th>1.736418</th>\n",
              "      <td>the</td>\n",
              "      <td>1.736418</td>\n",
              "    </tr>\n",
              "    <tr>\n",
              "      <th>1.736231</th>\n",
              "      <td>brt</td>\n",
              "      <td>1.736231</td>\n",
              "    </tr>\n",
              "    <tr>\n",
              "      <th>1.708750</th>\n",
              "      <td>own</td>\n",
              "      <td>1.708750</td>\n",
              "    </tr>\n",
              "    <tr>\n",
              "      <th>1.690452</th>\n",
              "      <td>pregnant</td>\n",
              "      <td>1.690452</td>\n",
              "    </tr>\n",
              "    <tr>\n",
              "      <th>1.675776</th>\n",
              "      <td>nasa</td>\n",
              "      <td>1.675776</td>\n",
              "    </tr>\n",
              "    <tr>\n",
              "      <th>1.621786</th>\n",
              "      <td>against</td>\n",
              "      <td>1.621786</td>\n",
              "    </tr>\n",
              "    <tr>\n",
              "      <th>1.610252</th>\n",
              "      <td>empow</td>\n",
              "      <td>1.610252</td>\n",
              "    </tr>\n",
              "    <tr>\n",
              "      <th>1.581818</th>\n",
              "      <td>their</td>\n",
              "      <td>1.581818</td>\n",
              "    </tr>\n",
              "    <tr>\n",
              "      <th>1.579202</th>\n",
              "      <td>as</td>\n",
              "      <td>1.579202</td>\n",
              "    </tr>\n",
              "    <tr>\n",
              "      <th>1.577537</th>\n",
              "      <td>housedem</td>\n",
              "      <td>1.577537</td>\n",
              "    </tr>\n",
              "    <tr>\n",
              "      <th>1.534831</th>\n",
              "      <td>btodai</td>\n",
              "      <td>1.534831</td>\n",
              "    </tr>\n",
              "    <tr>\n",
              "      <th>1.520874</th>\n",
              "      <td>right</td>\n",
              "      <td>1.520874</td>\n",
              "    </tr>\n",
              "    <tr>\n",
              "      <th>1.510147</th>\n",
              "      <td>inspir</td>\n",
              "      <td>1.510147</td>\n",
              "    </tr>\n",
              "    <tr>\n",
              "      <th>1.482959</th>\n",
              "      <td>ago</td>\n",
              "      <td>1.482959</td>\n",
              "    </tr>\n",
              "    <tr>\n",
              "      <th>1.459215</th>\n",
              "      <td>uniform</td>\n",
              "      <td>1.459215</td>\n",
              "    </tr>\n",
              "    <tr>\n",
              "      <th>1.446986</th>\n",
              "      <td>shero</td>\n",
              "      <td>1.446986</td>\n",
              "    </tr>\n",
              "    <tr>\n",
              "      <th>1.426277</th>\n",
              "      <td>earn</td>\n",
              "      <td>1.426277</td>\n",
              "    </tr>\n",
              "    <tr>\n",
              "      <th>1.417343</th>\n",
              "      <td>man</td>\n",
              "      <td>1.417343</td>\n",
              "    </tr>\n",
              "    <tr>\n",
              "      <th>1.403050</th>\n",
              "      <td>becam</td>\n",
              "      <td>1.403050</td>\n",
              "    </tr>\n",
              "    <tr>\n",
              "      <th>1.383889</th>\n",
              "      <td>be</td>\n",
              "      <td>1.383889</td>\n",
              "    </tr>\n",
              "    <tr>\n",
              "      <th>1.383720</th>\n",
              "      <td>sdai</td>\n",
              "      <td>1.383720</td>\n",
              "    </tr>\n",
              "    <tr>\n",
              "      <th>1.373101</th>\n",
              "      <td>color</td>\n",
              "      <td>1.373101</td>\n",
              "    </tr>\n",
              "    <tr>\n",
              "      <th>1.366866</th>\n",
              "      <td>amp</td>\n",
              "      <td>1.366866</td>\n",
              "    </tr>\n",
              "    <tr>\n",
              "      <th>1.351646</th>\n",
              "      <td>star</td>\n",
              "      <td>1.351646</td>\n",
              "    </tr>\n",
              "    <tr>\n",
              "      <th>1.330416</th>\n",
              "      <td>reauthor</td>\n",
              "      <td>1.330416</td>\n",
              "    </tr>\n",
              "  </tbody>\n",
              "</table>\n",
              "</div>"
            ],
            "text/plain": [
              "                          0      coef\n",
              "9.236560  men                9.236560\n",
              "4.160704  congress           4.160704\n",
              "3.939048  black              3.939048\n",
              "3.280009  and                3.280009\n",
              "3.123483  her                3.123483\n",
              "3.083736  first              3.083736\n",
              "3.054443  jimnstin           3.054443\n",
              "2.987557  internationalsdai  2.987557\n",
              "2.946819  shistorymonth      2.946819\n",
              "2.814352  violenc            2.814352\n",
              "2.705294  equal              2.705294\n",
              "2.589210  histori            2.589210\n",
              "2.496716  she                2.496716\n",
              "2.488761  chair              2.488761\n",
              "2.235993  who                2.235993\n",
              "2.226649  brave              2.226649\n",
              "2.182564  young              2.182564\n",
              "2.028411  wa                 2.028411\n",
              "2.007606  brother            2.007606\n",
              "1.976336  servicemen         1.976336\n",
              "1.927839  of                 1.927839\n",
              "1.917176  mom                1.917176\n",
              "1.822555  pai                1.822555\n",
              "1.780692  serv               1.780692\n",
              "1.756450  my                 1.756450\n",
              "1.736418  the                1.736418\n",
              "1.736231  brt                1.736231\n",
              "1.708750  own                1.708750\n",
              "1.690452  pregnant           1.690452\n",
              "1.675776  nasa               1.675776\n",
              "1.621786  against            1.621786\n",
              "1.610252  empow              1.610252\n",
              "1.581818  their              1.581818\n",
              "1.579202  as                 1.579202\n",
              "1.577537  housedem           1.577537\n",
              "1.534831  btodai             1.534831\n",
              "1.520874  right              1.520874\n",
              "1.510147  inspir             1.510147\n",
              "1.482959  ago                1.482959\n",
              "1.459215  uniform            1.459215\n",
              "1.446986  shero              1.446986\n",
              "1.426277  earn               1.426277\n",
              "1.417343  man                1.417343\n",
              "1.403050  becam              1.403050\n",
              "1.383889  be                 1.383889\n",
              "1.383720  sdai               1.383720\n",
              "1.373101  color              1.373101\n",
              "1.366866  amp                1.366866\n",
              "1.351646  star               1.351646\n",
              "1.330416  reauthor           1.330416"
            ]
          },
          "metadata": {
            "tags": []
          },
          "execution_count": 68
        }
      ]
    },
    {
      "cell_type": "markdown",
      "metadata": {
        "id": "7-07DBYWMc2Z"
      },
      "source": [
        "What can we understand from this list of words.....? (Discussion!!)"
      ]
    },
    {
      "cell_type": "markdown",
      "metadata": {
        "id": "JkohRHRwMhrP"
      },
      "source": [
        "**Question:** What is the difference between this approach, and simply to calculate the absolute frequencies of the most used words in the two categories?"
      ]
    },
    {
      "cell_type": "code",
      "metadata": {
        "id": "dejmTf4lFO_z"
      },
      "source": [
        "##################################################################"
      ],
      "execution_count": null,
      "outputs": []
    },
    {
      "cell_type": "markdown",
      "metadata": {
        "id": "b8PxdqDpKuRi"
      },
      "source": [
        "<a id=\"section2\"></a>\n",
        "# **Party Affiliation prediction**"
      ]
    },
    {
      "cell_type": "markdown",
      "metadata": {
        "id": "QvFblD1gNT8S"
      },
      "source": [
        "We now replicate the same type of exercise, with the difference that the category we want to predict is whether the politician that wrote the tweets belong to the Republican or Democratic party (and again, we want to see the \"relatively\" most used words by each party)."
      ]
    },
    {
      "cell_type": "code",
      "metadata": {
        "colab": {
          "base_uri": "https://localhost:8080/",
          "height": 173
        },
        "id": "HFY4uH82FGSu",
        "outputId": "4f8f51ea-e7e3-4a17-ca93-fe9a5649d95a"
      },
      "source": [
        "##### Prediction exercise, on detecting whether a tweets is written by a Repubblican:\n",
        "df_party = df_all[['text_clean', 'party_name']]\n",
        "df_party.head(4)"
      ],
      "execution_count": 69,
      "outputs": [
        {
          "output_type": "execute_result",
          "data": {
            "text/html": [
              "<div>\n",
              "<style scoped>\n",
              "    .dataframe tbody tr th:only-of-type {\n",
              "        vertical-align: middle;\n",
              "    }\n",
              "\n",
              "    .dataframe tbody tr th {\n",
              "        vertical-align: top;\n",
              "    }\n",
              "\n",
              "    .dataframe thead th {\n",
              "        text-align: right;\n",
              "    }\n",
              "</style>\n",
              "<table border=\"1\" class=\"dataframe\">\n",
              "  <thead>\n",
              "    <tr style=\"text-align: right;\">\n",
              "      <th></th>\n",
              "      <th>text_clean</th>\n",
              "      <th>party_name</th>\n",
              "    </tr>\n",
              "  </thead>\n",
              "  <tbody>\n",
              "    <tr>\n",
              "      <th>0</th>\n",
              "      <td>bmaintain trust with the public is the most fundament respons of govern dure time of crisi</td>\n",
              "      <td>Republican</td>\n",
              "    </tr>\n",
              "    <tr>\n",
              "      <th>1</th>\n",
              "      <td>btune into newsmax thi morn at be speak with finnertyusa about the ever httpstcotbiszaxwum</td>\n",
              "      <td>Republican</td>\n",
              "    </tr>\n",
              "    <tr>\n",
              "      <th>2</th>\n",
              "      <td>bremind to artist the deadlin for the annual congression art competit is quickli httpstcouqeizlcojb</td>\n",
              "      <td>Republican</td>\n",
              "    </tr>\n",
              "    <tr>\n",
              "      <th>3</th>\n",
              "      <td>thread from my colleagu warrendavidson detail the import of the nation personnel record httpstcotncrcfgvmv</td>\n",
              "      <td>Republican</td>\n",
              "    </tr>\n",
              "  </tbody>\n",
              "</table>\n",
              "</div>"
            ],
            "text/plain": [
              "                                                                                                   text_clean  party_name\n",
              "0  bmaintain trust with the public is the most fundament respons of govern dure time of crisi                  Republican\n",
              "1  btune into newsmax thi morn at be speak with finnertyusa about the ever httpstcotbiszaxwum                  Republican\n",
              "2  bremind to artist the deadlin for the annual congression art competit is quickli httpstcouqeizlcojb         Republican\n",
              "3  thread from my colleagu warrendavidson detail the import of the nation personnel record httpstcotncrcfgvmv  Republican"
            ]
          },
          "metadata": {
            "tags": []
          },
          "execution_count": 69
        }
      ]
    },
    {
      "cell_type": "code",
      "metadata": {
        "id": "C-uQc9arFGDB"
      },
      "source": [
        "def party_republ(data):\n",
        "  if data['party_name'] == 'Republican':\n",
        "    return 1\n",
        "  else:\n",
        "    return 0"
      ],
      "execution_count": 70,
      "outputs": []
    },
    {
      "cell_type": "code",
      "metadata": {
        "colab": {
          "base_uri": "https://localhost:8080/",
          "height": 275
        },
        "id": "y4mjR-CfGBmn",
        "outputId": "87356b0d-6ab1-46ac-a262-6d78f0edfc76"
      },
      "source": [
        "df_party['republican'] = df_party.apply(party_republ, axis=1)\n",
        "df_party.head(4)"
      ],
      "execution_count": 71,
      "outputs": [
        {
          "output_type": "stream",
          "text": [
            "/usr/local/lib/python3.7/dist-packages/ipykernel_launcher.py:1: SettingWithCopyWarning: \n",
            "A value is trying to be set on a copy of a slice from a DataFrame.\n",
            "Try using .loc[row_indexer,col_indexer] = value instead\n",
            "\n",
            "See the caveats in the documentation: https://pandas.pydata.org/pandas-docs/stable/user_guide/indexing.html#returning-a-view-versus-a-copy\n",
            "  \"\"\"Entry point for launching an IPython kernel.\n"
          ],
          "name": "stderr"
        },
        {
          "output_type": "execute_result",
          "data": {
            "text/html": [
              "<div>\n",
              "<style scoped>\n",
              "    .dataframe tbody tr th:only-of-type {\n",
              "        vertical-align: middle;\n",
              "    }\n",
              "\n",
              "    .dataframe tbody tr th {\n",
              "        vertical-align: top;\n",
              "    }\n",
              "\n",
              "    .dataframe thead th {\n",
              "        text-align: right;\n",
              "    }\n",
              "</style>\n",
              "<table border=\"1\" class=\"dataframe\">\n",
              "  <thead>\n",
              "    <tr style=\"text-align: right;\">\n",
              "      <th></th>\n",
              "      <th>text_clean</th>\n",
              "      <th>party_name</th>\n",
              "      <th>republican</th>\n",
              "    </tr>\n",
              "  </thead>\n",
              "  <tbody>\n",
              "    <tr>\n",
              "      <th>0</th>\n",
              "      <td>bmaintain trust with the public is the most fundament respons of govern dure time of crisi</td>\n",
              "      <td>Republican</td>\n",
              "      <td>1</td>\n",
              "    </tr>\n",
              "    <tr>\n",
              "      <th>1</th>\n",
              "      <td>btune into newsmax thi morn at be speak with finnertyusa about the ever httpstcotbiszaxwum</td>\n",
              "      <td>Republican</td>\n",
              "      <td>1</td>\n",
              "    </tr>\n",
              "    <tr>\n",
              "      <th>2</th>\n",
              "      <td>bremind to artist the deadlin for the annual congression art competit is quickli httpstcouqeizlcojb</td>\n",
              "      <td>Republican</td>\n",
              "      <td>1</td>\n",
              "    </tr>\n",
              "    <tr>\n",
              "      <th>3</th>\n",
              "      <td>thread from my colleagu warrendavidson detail the import of the nation personnel record httpstcotncrcfgvmv</td>\n",
              "      <td>Republican</td>\n",
              "      <td>1</td>\n",
              "    </tr>\n",
              "  </tbody>\n",
              "</table>\n",
              "</div>"
            ],
            "text/plain": [
              "                                                                                                   text_clean  ... republican\n",
              "0  bmaintain trust with the public is the most fundament respons of govern dure time of crisi                  ...  1        \n",
              "1  btune into newsmax thi morn at be speak with finnertyusa about the ever httpstcotbiszaxwum                  ...  1        \n",
              "2  bremind to artist the deadlin for the annual congression art competit is quickli httpstcouqeizlcojb         ...  1        \n",
              "3  thread from my colleagu warrendavidson detail the import of the nation personnel record httpstcotncrcfgvmv  ...  1        \n",
              "\n",
              "[4 rows x 3 columns]"
            ]
          },
          "metadata": {
            "tags": []
          },
          "execution_count": 71
        }
      ]
    },
    {
      "cell_type": "code",
      "metadata": {
        "colab": {
          "base_uri": "https://localhost:8080/"
        },
        "id": "Jv_kIYJ1GBfJ",
        "outputId": "47c4b43e-e92c-4a77-e872-46543a7d6e32"
      },
      "source": [
        "df_party.republican.value_counts()"
      ],
      "execution_count": 72,
      "outputs": [
        {
          "output_type": "execute_result",
          "data": {
            "text/plain": [
              "1    63453\n",
              "0    62881\n",
              "Name: republican, dtype: int64"
            ]
          },
          "metadata": {
            "tags": []
          },
          "execution_count": 72
        }
      ]
    },
    {
      "cell_type": "code",
      "metadata": {
        "id": "dMyTP9iGGWsc"
      },
      "source": [
        "X_train, X_test, y_train, y_test = train_test_split(df_party['text_clean'], df_party['republican'], test_size=0.25, random_state=35)"
      ],
      "execution_count": 73,
      "outputs": []
    },
    {
      "cell_type": "code",
      "metadata": {
        "id": "tpMdZCpaGWjk"
      },
      "source": [
        "vectorizer = CountVectorizer()\n",
        "X_train_counts = vectorizer.fit_transform(X_train)\n",
        "features_name = vectorizer.get_feature_names()\n",
        "features_name[:10]\n",
        "\n",
        "tfidf_transformer = TfidfTransformer()\n",
        "X_train_tfidf = tfidf_transformer.fit_transform(X_train_counts)"
      ],
      "execution_count": 78,
      "outputs": []
    },
    {
      "cell_type": "code",
      "metadata": {
        "colab": {
          "base_uri": "https://localhost:8080/"
        },
        "id": "HlqPRaZLGWfC",
        "outputId": "1b62bd51-c575-4b9d-dc64-b4fec17e6e94"
      },
      "source": [
        "regression = LogisticRegression()\n",
        "regression.fit(X_train_tfidf, y_train)\n",
        "importance = regression.coef_[0]"
      ],
      "execution_count": 79,
      "outputs": [
        {
          "output_type": "stream",
          "text": [
            "/usr/local/lib/python3.7/dist-packages/sklearn/linear_model/_logistic.py:940: ConvergenceWarning: lbfgs failed to converge (status=1):\n",
            "STOP: TOTAL NO. of ITERATIONS REACHED LIMIT.\n",
            "\n",
            "Increase the number of iterations (max_iter) or scale the data as shown in:\n",
            "    https://scikit-learn.org/stable/modules/preprocessing.html\n",
            "Please also refer to the documentation for alternative solver options:\n",
            "    https://scikit-learn.org/stable/modules/linear_model.html#logistic-regression\n",
            "  extra_warning_msg=_LOGISTIC_SOLVER_CONVERGENCE_MSG)\n"
          ],
          "name": "stderr"
        }
      ]
    },
    {
      "cell_type": "code",
      "metadata": {
        "id": "sZFPK_6eGWcA"
      },
      "source": [
        "### Prediction\n",
        "X_test_counts = vectorizer.transform(X_test)\n",
        "features_name = vectorizer.get_feature_names()\n",
        "features_name[:10]\n",
        "\n",
        "X_test_tfidf = tfidf_transformer.transform(X_test_counts)\n",
        "prediction = regression.predict(X_test_tfidf)"
      ],
      "execution_count": 80,
      "outputs": []
    },
    {
      "cell_type": "code",
      "metadata": {
        "colab": {
          "base_uri": "https://localhost:8080/"
        },
        "id": "I1obFLizGWYz",
        "outputId": "cfc8539b-a3cb-443e-9644-83f39281dae8"
      },
      "source": [
        "##### evaluation\n",
        "np.mean(prediction == y_test)"
      ],
      "execution_count": 81,
      "outputs": [
        {
          "output_type": "execute_result",
          "data": {
            "text/plain": [
              "0.8031281661600811"
            ]
          },
          "metadata": {
            "tags": []
          },
          "execution_count": 81
        }
      ]
    },
    {
      "cell_type": "code",
      "metadata": {
        "id": "zogIVEWtJo9L"
      },
      "source": [
        "##### Features importance:\n",
        "df_importance = pd.DataFrame(features_name, importance)\n",
        "df_importance['coef'] = df_importance.index\n",
        "df_importance\n",
        "df_importance.rename(columns={0: \"words\"})\n",
        "df_sort = df_importance.sort_values(by='coef', ascending=False)"
      ],
      "execution_count": 82,
      "outputs": []
    },
    {
      "cell_type": "code",
      "metadata": {
        "colab": {
          "base_uri": "https://localhost:8080/",
          "height": 1000
        },
        "id": "RynKwTHOJpuZ",
        "outputId": "6f82957e-8e80-470f-9247-266bebcf9a79"
      },
      "source": [
        "df_sort.head(50)"
      ],
      "execution_count": 83,
      "outputs": [
        {
          "output_type": "execute_result",
          "data": {
            "text/html": [
              "<div>\n",
              "<style scoped>\n",
              "    .dataframe tbody tr th:only-of-type {\n",
              "        vertical-align: middle;\n",
              "    }\n",
              "\n",
              "    .dataframe tbody tr th {\n",
              "        vertical-align: top;\n",
              "    }\n",
              "\n",
              "    .dataframe thead th {\n",
              "        text-align: right;\n",
              "    }\n",
              "</style>\n",
              "<table border=\"1\" class=\"dataframe\">\n",
              "  <thead>\n",
              "    <tr style=\"text-align: right;\">\n",
              "      <th></th>\n",
              "      <th>0</th>\n",
              "      <th>coef</th>\n",
              "    </tr>\n",
              "  </thead>\n",
              "  <tbody>\n",
              "    <tr>\n",
              "      <th>7.475461</th>\n",
              "      <td>mtpol</td>\n",
              "      <td>7.475461</td>\n",
              "    </tr>\n",
              "    <tr>\n",
              "      <th>6.427458</th>\n",
              "      <td>stevescalis</td>\n",
              "      <td>6.427458</td>\n",
              "    </tr>\n",
              "    <tr>\n",
              "      <th>6.093843</th>\n",
              "      <td>goplead</td>\n",
              "      <td>6.093843</td>\n",
              "    </tr>\n",
              "    <tr>\n",
              "      <th>5.941395</th>\n",
              "      <td>pelosi</td>\n",
              "      <td>5.941395</td>\n",
              "    </tr>\n",
              "    <tr>\n",
              "      <th>5.889676</th>\n",
              "      <td>donjbacon</td>\n",
              "      <td>5.889676</td>\n",
              "    </tr>\n",
              "    <tr>\n",
              "      <th>5.783495</th>\n",
              "      <td>reparrington</td>\n",
              "      <td>5.783495</td>\n",
              "    </tr>\n",
              "    <tr>\n",
              "      <th>5.756686</th>\n",
              "      <td>gopoversight</td>\n",
              "      <td>5.756686</td>\n",
              "    </tr>\n",
              "    <tr>\n",
              "      <th>5.651925</th>\n",
              "      <td>ccp</td>\n",
              "      <td>5.651925</td>\n",
              "    </tr>\n",
              "    <tr>\n",
              "      <th>5.275492</th>\n",
              "      <td>china</td>\n",
              "      <td>5.275492</td>\n",
              "    </tr>\n",
              "    <tr>\n",
              "      <th>5.126026</th>\n",
              "      <td>indiana</td>\n",
              "      <td>5.126026</td>\n",
              "    </tr>\n",
              "    <tr>\n",
              "      <th>5.064173</th>\n",
              "      <td>tennesse</td>\n",
              "      <td>5.064173</td>\n",
              "    </tr>\n",
              "    <tr>\n",
              "      <th>5.050671</th>\n",
              "      <td>housegop</td>\n",
              "      <td>5.050671</td>\n",
              "    </tr>\n",
              "    <tr>\n",
              "      <th>5.049883</th>\n",
              "      <td>wyom</td>\n",
              "      <td>5.049883</td>\n",
              "    </tr>\n",
              "    <tr>\n",
              "      <th>5.012850</th>\n",
              "      <td>biden</td>\n",
              "      <td>5.012850</td>\n",
              "    </tr>\n",
              "    <tr>\n",
              "      <th>4.887214</th>\n",
              "      <td>puertorico</td>\n",
              "      <td>4.887214</td>\n",
              "    </tr>\n",
              "    <tr>\n",
              "      <th>4.773886</th>\n",
              "      <td>democrat</td>\n",
              "      <td>4.773886</td>\n",
              "    </tr>\n",
              "    <tr>\n",
              "      <th>4.756951</th>\n",
              "      <td>repdonbacon</td>\n",
              "      <td>4.756951</td>\n",
              "    </tr>\n",
              "    <tr>\n",
              "      <th>4.586101</th>\n",
              "      <td>rural</td>\n",
              "      <td>4.586101</td>\n",
              "    </tr>\n",
              "    <tr>\n",
              "      <th>4.559373</th>\n",
              "      <td>bgreat</td>\n",
              "      <td>4.559373</td>\n",
              "    </tr>\n",
              "    <tr>\n",
              "      <th>4.468562</th>\n",
              "      <td>florida</td>\n",
              "      <td>4.468562</td>\n",
              "    </tr>\n",
              "    <tr>\n",
              "      <th>4.430146</th>\n",
              "      <td>transportgop</td>\n",
              "      <td>4.430146</td>\n",
              "    </tr>\n",
              "    <tr>\n",
              "      <th>4.392293</th>\n",
              "      <td>dem</td>\n",
              "      <td>4.392293</td>\n",
              "    </tr>\n",
              "    <tr>\n",
              "      <th>4.331252</th>\n",
              "      <td>mtgov</td>\n",
              "      <td>4.331252</td>\n",
              "    </tr>\n",
              "    <tr>\n",
              "      <th>4.329882</th>\n",
              "      <td>farmer</td>\n",
              "      <td>4.329882</td>\n",
              "    </tr>\n",
              "    <tr>\n",
              "      <th>4.271135</th>\n",
              "      <td>repjimbank</td>\n",
              "      <td>4.271135</td>\n",
              "    </tr>\n",
              "    <tr>\n",
              "      <th>4.236305</th>\n",
              "      <td>housesciencegop</td>\n",
              "      <td>4.236305</td>\n",
              "    </tr>\n",
              "    <tr>\n",
              "      <th>4.230688</th>\n",
              "      <td>repgallagh</td>\n",
              "      <td>4.230688</td>\n",
              "    </tr>\n",
              "    <tr>\n",
              "      <th>4.168217</th>\n",
              "      <td>prolif</td>\n",
              "      <td>4.168217</td>\n",
              "    </tr>\n",
              "    <tr>\n",
              "      <th>4.101064</th>\n",
              "      <td>bdemocrat</td>\n",
              "      <td>4.101064</td>\n",
              "    </tr>\n",
              "    <tr>\n",
              "      <th>4.039863</th>\n",
              "      <td>obamacar</td>\n",
              "      <td>4.039863</td>\n",
              "    </tr>\n",
              "    <tr>\n",
              "      <th>4.036614</th>\n",
              "      <td>karaforcongress</td>\n",
              "      <td>4.036614</td>\n",
              "    </tr>\n",
              "    <tr>\n",
              "      <th>4.021590</th>\n",
              "      <td>oppon</td>\n",
              "      <td>4.021590</td>\n",
              "    </tr>\n",
              "    <tr>\n",
              "      <th>3.980907</th>\n",
              "      <td>hoosier</td>\n",
              "      <td>3.980907</td>\n",
              "    </tr>\n",
              "    <tr>\n",
              "      <th>3.972414</th>\n",
              "      <td>realdonaldtrump</td>\n",
              "      <td>3.972414</td>\n",
              "    </tr>\n",
              "    <tr>\n",
              "      <th>3.954648</th>\n",
              "      <td>brianmastfl</td>\n",
              "      <td>3.954648</td>\n",
              "    </tr>\n",
              "    <tr>\n",
              "      <th>3.943451</th>\n",
              "      <td>homelandgop</td>\n",
              "      <td>3.943451</td>\n",
              "    </tr>\n",
              "    <tr>\n",
              "      <th>3.934076</th>\n",
              "      <td>reprwilliam</td>\n",
              "      <td>3.934076</td>\n",
              "    </tr>\n",
              "    <tr>\n",
              "      <th>3.929249</th>\n",
              "      <td>repandybiggsaz</td>\n",
              "      <td>3.929249</td>\n",
              "    </tr>\n",
              "    <tr>\n",
              "      <th>3.925454</th>\n",
              "      <td>ohio</td>\n",
              "      <td>3.925454</td>\n",
              "    </tr>\n",
              "    <tr>\n",
              "      <th>3.857444</th>\n",
              "      <td>bgoodnewsofthedai</td>\n",
              "      <td>3.857444</td>\n",
              "    </tr>\n",
              "    <tr>\n",
              "      <th>3.830506</th>\n",
              "      <td>waysandmeansgop</td>\n",
              "      <td>3.830506</td>\n",
              "    </tr>\n",
              "    <tr>\n",
              "      <th>3.808864</th>\n",
              "      <td>whitehous</td>\n",
              "      <td>3.808864</td>\n",
              "    </tr>\n",
              "    <tr>\n",
              "      <th>3.792442</th>\n",
              "      <td>bacon</td>\n",
              "      <td>3.792442</td>\n",
              "    </tr>\n",
              "    <tr>\n",
              "      <th>3.746416</th>\n",
              "      <td>repjenniff</td>\n",
              "      <td>3.746416</td>\n",
              "    </tr>\n",
              "    <tr>\n",
              "      <th>3.743130</th>\n",
              "      <td>regim</td>\n",
              "      <td>3.743130</td>\n",
              "    </tr>\n",
              "    <tr>\n",
              "      <th>3.735093</th>\n",
              "      <td>pasenatorgui</td>\n",
              "      <td>3.735093</td>\n",
              "    </tr>\n",
              "    <tr>\n",
              "      <th>3.718054</th>\n",
              "      <td>repfredkel</td>\n",
              "      <td>3.718054</td>\n",
              "    </tr>\n",
              "    <tr>\n",
              "      <th>3.706585</th>\n",
              "      <td>illeg</td>\n",
              "      <td>3.706585</td>\n",
              "    </tr>\n",
              "    <tr>\n",
              "      <th>3.619266</th>\n",
              "      <td>natresourc</td>\n",
              "      <td>3.619266</td>\n",
              "    </tr>\n",
              "    <tr>\n",
              "      <th>3.605305</th>\n",
              "      <td>benjoi</td>\n",
              "      <td>3.605305</td>\n",
              "    </tr>\n",
              "  </tbody>\n",
              "</table>\n",
              "</div>"
            ],
            "text/plain": [
              "                          0      coef\n",
              "7.475461  mtpol              7.475461\n",
              "6.427458  stevescalis        6.427458\n",
              "6.093843  goplead            6.093843\n",
              "5.941395  pelosi             5.941395\n",
              "5.889676  donjbacon          5.889676\n",
              "5.783495  reparrington       5.783495\n",
              "5.756686  gopoversight       5.756686\n",
              "5.651925  ccp                5.651925\n",
              "5.275492  china              5.275492\n",
              "5.126026  indiana            5.126026\n",
              "5.064173  tennesse           5.064173\n",
              "5.050671  housegop           5.050671\n",
              "5.049883  wyom               5.049883\n",
              "5.012850  biden              5.012850\n",
              "4.887214  puertorico         4.887214\n",
              "4.773886  democrat           4.773886\n",
              "4.756951  repdonbacon        4.756951\n",
              "4.586101  rural              4.586101\n",
              "4.559373  bgreat             4.559373\n",
              "4.468562  florida            4.468562\n",
              "4.430146  transportgop       4.430146\n",
              "4.392293  dem                4.392293\n",
              "4.331252  mtgov              4.331252\n",
              "4.329882  farmer             4.329882\n",
              "4.271135  repjimbank         4.271135\n",
              "4.236305  housesciencegop    4.236305\n",
              "4.230688  repgallagh         4.230688\n",
              "4.168217  prolif             4.168217\n",
              "4.101064  bdemocrat          4.101064\n",
              "4.039863  obamacar           4.039863\n",
              "4.036614  karaforcongress    4.036614\n",
              "4.021590  oppon              4.021590\n",
              "3.980907  hoosier            3.980907\n",
              "3.972414  realdonaldtrump    3.972414\n",
              "3.954648  brianmastfl        3.954648\n",
              "3.943451  homelandgop        3.943451\n",
              "3.934076  reprwilliam        3.934076\n",
              "3.929249  repandybiggsaz     3.929249\n",
              "3.925454  ohio               3.925454\n",
              "3.857444  bgoodnewsofthedai  3.857444\n",
              "3.830506  waysandmeansgop    3.830506\n",
              "3.808864  whitehous          3.808864\n",
              "3.792442  bacon              3.792442\n",
              "3.746416  repjenniff         3.746416\n",
              "3.743130  regim              3.743130\n",
              "3.735093  pasenatorgui       3.735093\n",
              "3.718054  repfredkel         3.718054\n",
              "3.706585  illeg              3.706585\n",
              "3.619266  natresourc         3.619266\n",
              "3.605305  benjoi             3.605305"
            ]
          },
          "metadata": {
            "tags": []
          },
          "execution_count": 83
        }
      ]
    },
    {
      "cell_type": "code",
      "metadata": {
        "colab": {
          "base_uri": "https://localhost:8080/",
          "height": 1000
        },
        "id": "ElJLdSKBJo6n",
        "outputId": "86038bca-167e-4137-c676-a8d51206f3e8"
      },
      "source": [
        "df_sort.tail(50)"
      ],
      "execution_count": 84,
      "outputs": [
        {
          "output_type": "execute_result",
          "data": {
            "text/html": [
              "<div>\n",
              "<style scoped>\n",
              "    .dataframe tbody tr th:only-of-type {\n",
              "        vertical-align: middle;\n",
              "    }\n",
              "\n",
              "    .dataframe tbody tr th {\n",
              "        vertical-align: top;\n",
              "    }\n",
              "\n",
              "    .dataframe thead th {\n",
              "        text-align: right;\n",
              "    }\n",
              "</style>\n",
              "<table border=\"1\" class=\"dataframe\">\n",
              "  <thead>\n",
              "    <tr style=\"text-align: right;\">\n",
              "      <th></th>\n",
              "      <th>0</th>\n",
              "      <th>coef</th>\n",
              "    </tr>\n",
              "  </thead>\n",
              "  <tbody>\n",
              "    <tr>\n",
              "      <th>-3.503641</th>\n",
              "      <td>usprogress</td>\n",
              "      <td>-3.503641</td>\n",
              "    </tr>\n",
              "    <tr>\n",
              "      <th>-3.544057</th>\n",
              "      <td>corpor</td>\n",
              "      <td>-3.544057</td>\n",
              "    </tr>\n",
              "    <tr>\n",
              "      <th>-3.594406</th>\n",
              "      <td>nicholsupris</td>\n",
              "      <td>-3.594406</td>\n",
              "    </tr>\n",
              "    <tr>\n",
              "      <th>-3.600403</th>\n",
              "      <td>ocean</td>\n",
              "      <td>-3.600403</td>\n",
              "    </tr>\n",
              "    <tr>\n",
              "      <th>-3.633231</th>\n",
              "      <td>repmg</td>\n",
              "      <td>-3.633231</td>\n",
              "    </tr>\n",
              "    <tr>\n",
              "      <th>-3.679036</th>\n",
              "      <td>lgbtq</td>\n",
              "      <td>-3.679036</td>\n",
              "    </tr>\n",
              "    <tr>\n",
              "      <th>-3.713409</th>\n",
              "      <td>repchrispappa</td>\n",
              "      <td>-3.713409</td>\n",
              "    </tr>\n",
              "    <tr>\n",
              "      <th>-3.759383</th>\n",
              "      <td>repvaldem</td>\n",
              "      <td>-3.759383</td>\n",
              "    </tr>\n",
              "    <tr>\n",
              "      <th>-3.759472</th>\n",
              "      <td>orang</td>\n",
              "      <td>-3.759472</td>\n",
              "    </tr>\n",
              "    <tr>\n",
              "      <th>-3.767019</th>\n",
              "      <td>hfacdemocrat</td>\n",
              "      <td>-3.767019</td>\n",
              "    </tr>\n",
              "    <tr>\n",
              "      <th>-3.767837</th>\n",
              "      <td>fscdem</td>\n",
              "      <td>-3.767837</td>\n",
              "    </tr>\n",
              "    <tr>\n",
              "      <th>-3.797507</th>\n",
              "      <td>reppresslei</td>\n",
              "      <td>-3.797507</td>\n",
              "    </tr>\n",
              "    <tr>\n",
              "      <th>-3.807825</th>\n",
              "      <td>btrump</td>\n",
              "      <td>-3.807825</td>\n",
              "    </tr>\n",
              "    <tr>\n",
              "      <th>-3.816757</th>\n",
              "      <td>energycommerc</td>\n",
              "      <td>-3.816757</td>\n",
              "    </tr>\n",
              "    <tr>\n",
              "      <th>-3.821898</th>\n",
              "      <td>censu</td>\n",
              "      <td>-3.821898</td>\n",
              "    </tr>\n",
              "    <tr>\n",
              "      <th>-3.828380</th>\n",
              "      <td>repdean</td>\n",
              "      <td>-3.828380</td>\n",
              "    </tr>\n",
              "    <tr>\n",
              "      <th>-3.843036</th>\n",
              "      <td>transportdem</td>\n",
              "      <td>-3.843036</td>\n",
              "    </tr>\n",
              "    <tr>\n",
              "      <th>-3.845333</th>\n",
              "      <td>repbarbarale</td>\n",
              "      <td>-3.845333</td>\n",
              "    </tr>\n",
              "    <tr>\n",
              "      <th>-3.847391</th>\n",
              "      <td>bronx</td>\n",
              "      <td>-3.847391</td>\n",
              "    </tr>\n",
              "    <tr>\n",
              "      <th>-3.854425</th>\n",
              "      <td>repgonzalez</td>\n",
              "      <td>-3.854425</td>\n",
              "    </tr>\n",
              "    <tr>\n",
              "      <th>-3.886125</th>\n",
              "      <td>repkclark</td>\n",
              "      <td>-3.886125</td>\n",
              "    </tr>\n",
              "    <tr>\n",
              "      <th>-3.902326</th>\n",
              "      <td>virginia</td>\n",
              "      <td>-3.902326</td>\n",
              "    </tr>\n",
              "    <tr>\n",
              "      <th>-3.905769</th>\n",
              "      <td>dreamer</td>\n",
              "      <td>-3.905769</td>\n",
              "    </tr>\n",
              "    <tr>\n",
              "      <th>-3.999570</th>\n",
              "      <td>trumpcar</td>\n",
              "      <td>-3.999570</td>\n",
              "    </tr>\n",
              "    <tr>\n",
              "      <th>-4.044695</th>\n",
              "      <td>trump</td>\n",
              "      <td>-4.044695</td>\n",
              "    </tr>\n",
              "    <tr>\n",
              "      <th>-4.100925</th>\n",
              "      <td>houseforeign</td>\n",
              "      <td>-4.100925</td>\n",
              "    </tr>\n",
              "    <tr>\n",
              "      <th>-4.101449</th>\n",
              "      <td>san</td>\n",
              "      <td>-4.101449</td>\n",
              "    </tr>\n",
              "    <tr>\n",
              "      <th>-4.191105</th>\n",
              "      <td>ilhanmn</td>\n",
              "      <td>-4.191105</td>\n",
              "    </tr>\n",
              "    <tr>\n",
              "      <th>-4.196057</th>\n",
              "      <td>repjahanahay</td>\n",
              "      <td>-4.196057</td>\n",
              "    </tr>\n",
              "    <tr>\n",
              "      <th>-4.237343</th>\n",
              "      <td>repdonaldpayn</td>\n",
              "      <td>-4.237343</td>\n",
              "    </tr>\n",
              "    <tr>\n",
              "      <th>-4.254510</th>\n",
              "      <td>newark</td>\n",
              "      <td>-4.254510</td>\n",
              "    </tr>\n",
              "    <tr>\n",
              "      <th>-4.393162</th>\n",
              "      <td>housedemocrat</td>\n",
              "      <td>-4.393162</td>\n",
              "    </tr>\n",
              "    <tr>\n",
              "      <th>-4.427638</th>\n",
              "      <td>ilhan</td>\n",
              "      <td>-4.427638</td>\n",
              "    </tr>\n",
              "    <tr>\n",
              "      <th>-4.496363</th>\n",
              "      <td>americanrescueplan</td>\n",
              "      <td>-4.496363</td>\n",
              "    </tr>\n",
              "    <tr>\n",
              "      <th>-4.810481</th>\n",
              "      <td>forthepeopl</td>\n",
              "      <td>-4.810481</td>\n",
              "    </tr>\n",
              "    <tr>\n",
              "      <th>-4.886885</th>\n",
              "      <td>hampshir</td>\n",
              "      <td>-4.886885</td>\n",
              "    </tr>\n",
              "    <tr>\n",
              "      <th>-5.093051</th>\n",
              "      <td>hispaniccaucu</td>\n",
              "      <td>-5.093051</td>\n",
              "    </tr>\n",
              "    <tr>\n",
              "      <th>-5.164124</th>\n",
              "      <td>nrdem</td>\n",
              "      <td>-5.164124</td>\n",
              "    </tr>\n",
              "    <tr>\n",
              "      <th>-5.369752</th>\n",
              "      <td>repmceachin</td>\n",
              "      <td>-5.369752</td>\n",
              "    </tr>\n",
              "    <tr>\n",
              "      <th>-5.448910</th>\n",
              "      <td>black</td>\n",
              "      <td>-5.448910</td>\n",
              "    </tr>\n",
              "    <tr>\n",
              "      <th>-5.511943</th>\n",
              "      <td>climat</td>\n",
              "      <td>-5.511943</td>\n",
              "    </tr>\n",
              "    <tr>\n",
              "      <th>-5.512842</th>\n",
              "      <td>housejudiciari</td>\n",
              "      <td>-5.512842</td>\n",
              "    </tr>\n",
              "    <tr>\n",
              "      <th>-5.783397</th>\n",
              "      <td>diego</td>\n",
              "      <td>-5.783397</td>\n",
              "    </tr>\n",
              "    <tr>\n",
              "      <th>-5.988785</th>\n",
              "      <td>rephuffman</td>\n",
              "      <td>-5.988785</td>\n",
              "    </tr>\n",
              "    <tr>\n",
              "      <th>-5.993378</th>\n",
              "      <td>nj</td>\n",
              "      <td>-5.993378</td>\n",
              "    </tr>\n",
              "    <tr>\n",
              "      <th>-6.336338</th>\n",
              "      <td>repmarkpocan</td>\n",
              "      <td>-6.336338</td>\n",
              "    </tr>\n",
              "    <tr>\n",
              "      <th>-7.266448</th>\n",
              "      <td>repjayap</td>\n",
              "      <td>-7.266448</td>\n",
              "    </tr>\n",
              "    <tr>\n",
              "      <th>-7.700174</th>\n",
              "      <td>jersei</td>\n",
              "      <td>-7.700174</td>\n",
              "    </tr>\n",
              "    <tr>\n",
              "      <th>-7.744470</th>\n",
              "      <td>repchuygarcia</td>\n",
              "      <td>-7.744470</td>\n",
              "    </tr>\n",
              "    <tr>\n",
              "      <th>-8.124886</th>\n",
              "      <td>repeliotengel</td>\n",
              "      <td>-8.124886</td>\n",
              "    </tr>\n",
              "  </tbody>\n",
              "</table>\n",
              "</div>"
            ],
            "text/plain": [
              "                            0      coef\n",
              "-3.503641  usprogress         -3.503641\n",
              "-3.544057  corpor             -3.544057\n",
              "-3.594406  nicholsupris       -3.594406\n",
              "-3.600403  ocean              -3.600403\n",
              "-3.633231  repmg              -3.633231\n",
              "-3.679036  lgbtq              -3.679036\n",
              "-3.713409  repchrispappa      -3.713409\n",
              "-3.759383  repvaldem          -3.759383\n",
              "-3.759472  orang              -3.759472\n",
              "-3.767019  hfacdemocrat       -3.767019\n",
              "-3.767837  fscdem             -3.767837\n",
              "-3.797507  reppresslei        -3.797507\n",
              "-3.807825  btrump             -3.807825\n",
              "-3.816757  energycommerc      -3.816757\n",
              "-3.821898  censu              -3.821898\n",
              "-3.828380  repdean            -3.828380\n",
              "-3.843036  transportdem       -3.843036\n",
              "-3.845333  repbarbarale       -3.845333\n",
              "-3.847391  bronx              -3.847391\n",
              "-3.854425  repgonzalez        -3.854425\n",
              "-3.886125  repkclark          -3.886125\n",
              "-3.902326  virginia           -3.902326\n",
              "-3.905769  dreamer            -3.905769\n",
              "-3.999570  trumpcar           -3.999570\n",
              "-4.044695  trump              -4.044695\n",
              "-4.100925  houseforeign       -4.100925\n",
              "-4.101449  san                -4.101449\n",
              "-4.191105  ilhanmn            -4.191105\n",
              "-4.196057  repjahanahay       -4.196057\n",
              "-4.237343  repdonaldpayn      -4.237343\n",
              "-4.254510  newark             -4.254510\n",
              "-4.393162  housedemocrat      -4.393162\n",
              "-4.427638  ilhan              -4.427638\n",
              "-4.496363  americanrescueplan -4.496363\n",
              "-4.810481  forthepeopl        -4.810481\n",
              "-4.886885  hampshir           -4.886885\n",
              "-5.093051  hispaniccaucu      -5.093051\n",
              "-5.164124  nrdem              -5.164124\n",
              "-5.369752  repmceachin        -5.369752\n",
              "-5.448910  black              -5.448910\n",
              "-5.511943  climat             -5.511943\n",
              "-5.512842  housejudiciari     -5.512842\n",
              "-5.783397  diego              -5.783397\n",
              "-5.988785  rephuffman         -5.988785\n",
              "-5.993378  nj                 -5.993378\n",
              "-6.336338  repmarkpocan       -6.336338\n",
              "-7.266448  repjayap           -7.266448\n",
              "-7.700174  jersei             -7.700174\n",
              "-7.744470  repchuygarcia      -7.744470\n",
              "-8.124886  repeliotengel      -8.124886"
            ]
          },
          "metadata": {
            "tags": []
          },
          "execution_count": 84
        }
      ]
    },
    {
      "cell_type": "markdown",
      "metadata": {
        "id": "qKizIzU4OeOm"
      },
      "source": [
        "What are the topics most used by each party....??"
      ]
    },
    {
      "cell_type": "markdown",
      "metadata": {
        "id": "sPYkNFxf-jNQ"
      },
      "source": [
        "**Question:** What's the differenc between this approach (i.e., ranking words on the base of their coefficient in the logistic regresson, i.e. their marginal effect) and the approach that simply compare frequencies of words??\n",
        "\n"
      ]
    },
    {
      "cell_type": "markdown",
      "metadata": {
        "id": "lCsstcbz70ze"
      },
      "source": [
        "For simplicity of analysis, in this tutorial we used only Logistic Regression to perform such analysis. As a robustness check, or also to see whether other model perform better, you can use other models to do the same type of exercise (for example, Naive Bayes, Lasso, and so on). Can you think about other models that can be used in this analysis?? :)"
      ]
    },
    {
      "cell_type": "markdown",
      "metadata": {
        "id": "XI2LuPKM7LAS"
      },
      "source": [
        "## **What's Next?**\n",
        "\n",
        "This part of the notebook was an introduction on how you can use classification techniques to gain insights on the way people talk about certain topics. We analyzed in which context politicians mention women, and which words are the ones that characterize the most Republicans VS Democrats.\n",
        "\n",
        "Of course, these methods can be used to analyze how other topics are framed: for example, what are the contexts in which Repubblican and Democrats talk about immigration? What about the contexts in which Repubican and Democrats talk about health issues, or about the economy, fiscal budgets and government spending?\n",
        "\n",
        "What are other topics you would like to analyze?"
      ]
    },
    {
      "cell_type": "markdown",
      "metadata": {
        "id": "djEayp947M8w"
      },
      "source": [
        "<a id=\"section3\"></a>\n",
        "# **Topic Modeling**\n",
        "\n",
        "We are now going to explore one method often used in text analysis. This method is called Topic Modeling, and it is a unsupervised method, in the sense that you don't need to have \"pre-labelled\" texts, but the model will learn by itself which are the topics that are covered in the tweets. The precise model we are going to use is called \"Latent Dirichlet Allocation\" (LDA) (Wikipedia: https://en.wikipedia.org/wiki/Latent_Dirichlet_allocation paper that describe it: https://www.jmlr.org/papers/volume3/blei03a/blei03a.pdf )\n",
        "\n",
        "\n",
        "Two references on Topic Modeling are:\n",
        "- https://en.wikipedia.org/wiki/Topic_model\n",
        "- https://monkeylearn.com/blog/introduction-to-topic-modeling/"
      ]
    },
    {
      "cell_type": "code",
      "metadata": {
        "id": "GioFB38bRhLE"
      },
      "source": [
        "## also: https://towardsdatascience.com/topic-modeling-and-latent-dirichlet-allocation-in-python-9bf156893c24"
      ],
      "execution_count": null,
      "outputs": []
    },
    {
      "cell_type": "markdown",
      "metadata": {
        "id": "ufborzLo7wyj"
      },
      "source": [
        "We start dividing the dataset between Republican and Democrats,and visualizing the most used words by these two groups:"
      ]
    },
    {
      "cell_type": "code",
      "metadata": {
        "id": "IcFPTAkb7Qd-"
      },
      "source": [
        "df_democr = df_all[df_all['party_name']=='Democrat']\n",
        "df_repubbl = df_all[df_all['party_name']=='Republican']"
      ],
      "execution_count": 85,
      "outputs": []
    },
    {
      "cell_type": "code",
      "metadata": {
        "colab": {
          "base_uri": "https://localhost:8080/",
          "height": 400
        },
        "id": "ulv1ngH28jeP",
        "outputId": "4c19b6fa-a041-4b23-c832-e4ae9f69dcb7"
      },
      "source": [
        "import matplotlib.pyplot as plt\n",
        "\n",
        "import matplotlib as mpl\n",
        "from subprocess import check_output\n",
        "from wordcloud import WordCloud, STOPWORDS\n",
        "mpl.rcParams['figure.figsize']=(12.0,12.0)  \n",
        "mpl.rcParams['font.size']=12            \n",
        "mpl.rcParams['savefig.dpi']=100             \n",
        "mpl.rcParams['figure.subplot.bottom']=.1 \n",
        "stopwords = set(STOPWORDS)\n",
        "wordcloud = WordCloud(\n",
        "                          background_color='white',\n",
        "                          stopwords=stopwords,\n",
        "                          max_words=500,\n",
        "                          max_font_size=40, \n",
        "                          random_state=100\n",
        "                         ).generate(str(df_democr.text_clean))\n",
        "print(\"Word Cloud (i.e., most used words), for tweets of Democrats:\")\n",
        "print(wordcloud)\n",
        "fig = plt.figure(1)\n",
        "plt.imshow(wordcloud)\n",
        "plt.axis('off')\n",
        "plt.show();"
      ],
      "execution_count": 86,
      "outputs": [
        {
          "output_type": "stream",
          "text": [
            "Word Cloud (i.e., most used words), for tweets of Democrats:\n",
            "<wordcloud.wordcloud.WordCloud object at 0x7fe81d2738d0>\n"
          ],
          "name": "stdout"
        },
        {
          "output_type": "display_data",
          "data": {
            "image/png": "[encoded data removed]",
            "text/plain": [
              "<Figure size 864x864 with 1 Axes>"
            ]
          },
          "metadata": {
            "tags": [],
            "needs_background": "light"
          }
        }
      ]
    },
    {
      "cell_type": "code",
      "metadata": {
        "colab": {
          "base_uri": "https://localhost:8080/",
          "height": 400
        },
        "id": "0Ee_JAZK8kEL",
        "outputId": "ae7cd472-5b03-41a8-a268-881b7e084a58"
      },
      "source": [
        "mpl.rcParams['figure.figsize']=(12.0,12.0)  \n",
        "mpl.rcParams['font.size']=12            \n",
        "mpl.rcParams['savefig.dpi']=100             \n",
        "mpl.rcParams['figure.subplot.bottom']=.1 \n",
        "stopwords = set(STOPWORDS)\n",
        "wordcloud = WordCloud(\n",
        "                          background_color='white',\n",
        "                          stopwords=stopwords,\n",
        "                          max_words=500,\n",
        "                          max_font_size=40, \n",
        "                          random_state=100\n",
        "                         ).generate(str(df_repubbl.text_clean))\n",
        "print(\"Word Cloud (i.e., most used words), for tweets of Repubblican:\")\n",
        "print(wordcloud)\n",
        "fig = plt.figure(1)\n",
        "plt.imshow(wordcloud)\n",
        "plt.axis('off')\n",
        "plt.show();"
      ],
      "execution_count": 87,
      "outputs": [
        {
          "output_type": "stream",
          "text": [
            "Word Cloud (i.e., most used words), for tweets of Repubblican:\n",
            "<wordcloud.wordcloud.WordCloud object at 0x7fe81d1a1510>\n"
          ],
          "name": "stdout"
        },
        {
          "output_type": "display_data",
          "data": {
            "image/png": "[encoded data removed]",
            "text/plain": [
              "<Figure size 864x864 with 1 Axes>"
            ]
          },
          "metadata": {
            "tags": [],
            "needs_background": "light"
          }
        }
      ]
    },
    {
      "cell_type": "markdown",
      "metadata": {
        "id": "r4YqF5a0SGL-"
      },
      "source": [
        "We are now going to create the usual vocabulary matrix using \"CountVectorizer\".\n",
        "\n"
      ]
    },
    {
      "cell_type": "code",
      "metadata": {
        "colab": {
          "base_uri": "https://localhost:8080/"
        },
        "id": "ZpbF5U9LPDGz",
        "outputId": "fdcdacbb-8dc7-4fd1-f4d7-8e15e86d30db"
      },
      "source": [
        "from sklearn.feature_extraction.text import CountVectorizer, TfidfVectorizer\n",
        "\n",
        "from sklearn.decomposition import LatentDirichletAllocation\n",
        "vectorizer = CountVectorizer(\n",
        "    analyzer='word',       \n",
        "    min_df=3,# minimum required occurences of a word \n",
        "    stop_words='english',# remove stop words\n",
        "    lowercase=True,# convert all words to lowercase\n",
        "    token_pattern='[a-zA-Z0-9]{3,}',)# num chars > 3\n",
        "    #max_features=5000,# max number of unique words   \n",
        "                             \n",
        "data_matrix = vectorizer.fit_transform(df_all.text_clean) \n",
        "data_matrix"
      ],
      "execution_count": 88,
      "outputs": [
        {
          "output_type": "execute_result",
          "data": {
            "text/plain": [
              "<126334x18670 sparse matrix of type '<class 'numpy.int64'>'\n",
              "\twith 1126631 stored elements in Compressed Sparse Row format>"
            ]
          },
          "metadata": {
            "tags": []
          },
          "execution_count": 88
        }
      ]
    },
    {
      "cell_type": "code",
      "metadata": {
        "id": "9KRBZUYGUC6g"
      },
      "source": [
        "#df_all"
      ],
      "execution_count": 89,
      "outputs": []
    },
    {
      "cell_type": "markdown",
      "metadata": {
        "id": "8BBbfcEuTNT3"
      },
      "source": [
        "In the next cells, we define the characteristics of the LDA model we want to use. One caveat is that we have to decide how many topics we want to fine with our model. In this project, we selected 6 topics."
      ]
    },
    {
      "cell_type": "code",
      "metadata": {
        "id": "7HxfRsXTPDdt"
      },
      "source": [
        "lda_model = LatentDirichletAllocation(\n",
        "n_components=6, # Number of topics\n",
        "learning_method='online',\n",
        "random_state=20,       \n",
        "n_jobs = -1  # Use all available CPUs\n",
        "                                     )\n",
        "lda_output = lda_model.fit_transform(data_matrix)"
      ],
      "execution_count": null,
      "outputs": []
    },
    {
      "cell_type": "markdown",
      "metadata": {
        "id": "ogSxUPZtVAba"
      },
      "source": [
        "Note that the cell above takes about 2 mins to be excute!!"
      ]
    },
    {
      "cell_type": "code",
      "metadata": {
        "colab": {
          "base_uri": "https://localhost:8080/",
          "height": 1000
        },
        "id": "x3B4M6aXQ0Qr",
        "outputId": "4d5ab57f-87eb-4455-eecc-bf353328970f"
      },
      "source": [
        "!pip install pyLDAvis\n",
        "import pyLDAvis\n",
        "import pyLDAvis.sklearn\n",
        "pyLDAvis.enable_notebook()\n",
        "pyLDAvis.sklearn.prepare(lda_model, data_matrix, vectorizer, mds='tsne')"
      ],
      "execution_count": null,
      "outputs": [
        {
          "output_type": "stream",
          "text": [
            "Collecting pyLDAvis\n",
            "\u001b[?25l  Downloading https://files.pythonhosted.org/packages/03/a5/15a0da6b0150b8b68610cc78af80364a80a9a4c8b6dd5ee549b8989d4b60/pyLDAvis-3.3.1.tar.gz (1.7MB)\n",
            "\u001b[K     |████████████████████████████████| 1.7MB 5.2MB/s \n",
            "\u001b[?25h  Installing build dependencies ... \u001b[?25l\u001b[?25hdone\n",
            "  Getting requirements to build wheel ... \u001b[?25l\u001b[?25hdone\n",
            "  Installing backend dependencies ... \u001b[?25l\u001b[?25hdone\n",
            "    Preparing wheel metadata ... \u001b[?25l\u001b[?25hdone\n",
            "Requirement already satisfied: scikit-learn in /usr/local/lib/python3.7/dist-packages (from pyLDAvis) (0.22.2.post1)\n",
            "Collecting numpy>=1.20.0\n",
            "\u001b[?25l  Downloading https://files.pythonhosted.org/packages/73/ef/8967d406f3f85018ceb5efab50431e901683188f1741ceb053efcab26c87/numpy-1.20.2-cp37-cp37m-manylinux2010_x86_64.whl (15.3MB)\n",
            "\u001b[K     |████████████████████████████████| 15.3MB 270kB/s \n",
            "\u001b[?25hRequirement already satisfied: scipy in /usr/local/lib/python3.7/dist-packages (from pyLDAvis) (1.4.1)\n",
            "Requirement already satisfied: joblib in /usr/local/lib/python3.7/dist-packages (from pyLDAvis) (1.0.1)\n",
            "Requirement already satisfied: gensim in /usr/local/lib/python3.7/dist-packages (from pyLDAvis) (3.6.0)\n",
            "Collecting funcy\n",
            "  Downloading https://files.pythonhosted.org/packages/66/89/479de0afbbfb98d1c4b887936808764627300208bb771fcd823403645a36/funcy-1.15-py2.py3-none-any.whl\n",
            "Requirement already satisfied: setuptools in /usr/local/lib/python3.7/dist-packages (from pyLDAvis) (56.0.0)\n",
            "Requirement already satisfied: jinja2 in /usr/local/lib/python3.7/dist-packages (from pyLDAvis) (2.11.3)\n",
            "Collecting pandas>=1.2.0\n",
            "\u001b[?25l  Downloading https://files.pythonhosted.org/packages/51/51/48f3fc47c4e2144da2806dfb6629c4dd1fa3d5a143f9652b141e979a8ca9/pandas-1.2.4-cp37-cp37m-manylinux1_x86_64.whl (9.9MB)\n",
            "\u001b[K     |████████████████████████████████| 9.9MB 44.4MB/s \n",
            "\u001b[?25hRequirement already satisfied: numexpr in /usr/local/lib/python3.7/dist-packages (from pyLDAvis) (2.7.3)\n",
            "Requirement already satisfied: sklearn in /usr/local/lib/python3.7/dist-packages (from pyLDAvis) (0.0)\n",
            "Requirement already satisfied: future in /usr/local/lib/python3.7/dist-packages (from pyLDAvis) (0.16.0)\n",
            "Requirement already satisfied: smart-open>=1.2.1 in /usr/local/lib/python3.7/dist-packages (from gensim->pyLDAvis) (5.0.0)\n",
            "Requirement already satisfied: six>=1.5.0 in /usr/local/lib/python3.7/dist-packages (from gensim->pyLDAvis) (1.15.0)\n",
            "Requirement already satisfied: MarkupSafe>=0.23 in /usr/local/lib/python3.7/dist-packages (from jinja2->pyLDAvis) (1.1.1)\n",
            "Requirement already satisfied: pytz>=2017.3 in /usr/local/lib/python3.7/dist-packages (from pandas>=1.2.0->pyLDAvis) (2018.9)\n",
            "Requirement already satisfied: python-dateutil>=2.7.3 in /usr/local/lib/python3.7/dist-packages (from pandas>=1.2.0->pyLDAvis) (2.8.1)\n",
            "Building wheels for collected packages: pyLDAvis\n",
            "  Building wheel for pyLDAvis (PEP 517) ... \u001b[?25l\u001b[?25hdone\n",
            "  Created wheel for pyLDAvis: filename=pyLDAvis-3.3.1-cp37-none-any.whl size=136870 sha256=427c819734ae0f0be3ee16685c7ac2fbf2161632d7f92c1b9a59ac321a802cab\n",
            "  Stored in directory: /root/.cache/pip/wheels/a0/9c/fc/c6e00689d35c82cf96a8adc70edfe7ba7904374fdac3240ac2\n",
            "Successfully built pyLDAvis\n",
            "\u001b[31mERROR: tensorflow 2.4.1 has requirement numpy~=1.19.2, but you'll have numpy 1.20.2 which is incompatible.\u001b[0m\n",
            "\u001b[31mERROR: google-colab 1.0.0 has requirement pandas~=1.1.0; python_version >= \"3.0\", but you'll have pandas 1.2.4 which is incompatible.\u001b[0m\n",
            "\u001b[31mERROR: datascience 0.10.6 has requirement folium==0.2.1, but you'll have folium 0.8.3 which is incompatible.\u001b[0m\n",
            "\u001b[31mERROR: albumentations 0.1.12 has requirement imgaug<0.2.7,>=0.2.5, but you'll have imgaug 0.2.9 which is incompatible.\u001b[0m\n",
            "Installing collected packages: numpy, funcy, pandas, pyLDAvis\n",
            "  Found existing installation: numpy 1.19.5\n",
            "    Uninstalling numpy-1.19.5:\n",
            "      Successfully uninstalled numpy-1.19.5\n",
            "  Found existing installation: pandas 1.1.5\n",
            "    Uninstalling pandas-1.1.5:\n",
            "      Successfully uninstalled pandas-1.1.5\n",
            "Successfully installed funcy-1.15 numpy-1.20.2 pandas-1.2.4 pyLDAvis-3.3.1\n"
          ],
          "name": "stdout"
        },
        {
          "output_type": "display_data",
          "data": {
            "application/vnd.colab-display-data+json": {
              "pip_warning": {
                "packages": [
                  "numpy",
                  "pandas"
                ]
              }
            }
          },
          "metadata": {
            "tags": []
          }
        },
        {
          "output_type": "stream",
          "text": [
            "/usr/local/lib/python3.7/dist-packages/past/types/oldstr.py:5: DeprecationWarning: Using or importing the ABCs from 'collections' instead of from 'collections.abc' is deprecated since Python 3.3,and in 3.9 it will stop working\n",
            "  from collections import Iterable\n"
          ],
          "name": "stderr"
        },
        {
          "output_type": "execute_result",
          "data": {
            "text/html": [
              "\n",
              "<link rel=\"stylesheet\" type=\"text/css\" href=\"https://cdn.jsdelivr.net/gh/bmabey/pyLDAvis@3.3.1/pyLDAvis/js/ldavis.v1.0.0.css\">\n",
              "\n",
              "\n",
              "<div id=\"ldavis_el581396857376944161627356826\"></div>\n",
              "<script type=\"text/javascript\">\n",
              "\n",
              "var ldavis_el581396857376944161627356826_data = {\"mdsDat\": {\"x\": [1.4650187492370605, 54.85479736328125, 32.212928771972656, 5.111096382141113, 26.350170135498047, 38.10981750488281], \"y\": [-47.625064849853516, -36.4767951965332, -61.44457244873047, -14.110331535339355, -33.37470245361328, -7.222781181335449], \"topics\": [1, 2, 3, 4, 5, 6], \"cluster\": [1, 1, 1, 1, 1, 1], \"Freq\": [20.76050933916629, 18.308433897686797, 16.8087078478919, 15.93240725893978, 14.515838932766773, 13.674102723548467]}, \"tinfo\": {\"Term\": [\"brt\", \"american\", \"new\", \"year\", \"busi\", \"work\", \"presid\", \"offic\", \"nation\", \"hous\", \"live\", \"famili\", \"need\", \"bthank\", \"thank\", \"talk\", \"small\", \"honor\", \"congress\", \"thei\", \"join\", \"countri\", \"act\", \"care\", \"discuss\", \"counti\", \"help\", \"health\", \"visit\", \"commun\", \"offic\", \"nation\", \"congress\", \"import\", \"women\", \"serv\", \"servic\", \"bit\", \"provid\", \"updat\", \"public\", \"capitol\", \"forward\", \"america\", \"committe\", \"ensur\", \"announc\", \"govern\", \"safe\", \"power\", \"sai\", \"respons\", \"honor\", \"opportun\", \"militari\", \"men\", \"lead\", \"address\", \"creat\", \"bcongratul\", \"work\", \"thank\", \"member\", \"commun\", \"time\", \"veteran\", \"amp\", \"help\", \"brt\", \"protect\", \"proud\", \"great\", \"thi\", \"todai\", \"live\", \"want\", \"like\", \"bipartisan\", \"introduc\", \"fight\", \"border\", \"district\", \"sign\", \"secur\", \"stand\", \"econom\", \"team\", \"china\", \"rememb\", \"amend\", \"love\", \"violenc\", \"lost\", \"attack\", \"tonight\", \"hispaniccaucu\", \"mark\", \"statement\", \"latest\", \"said\", \"speakerpelosi\", \"number\", \"led\", \"sent\", \"letter\", \"colleagu\", \"act\", \"pass\", \"repchuygarcia\", \"btodai\", \"brt\", \"amp\", \"vote\", \"join\", \"bthe\", \"democrat\", \"hear\", \"polic\", \"proud\", \"support\", \"peopl\", \"year\", \"busi\", \"small\", \"bwe\", \"realdonaldtrump\", \"bgreat\", \"wai\", \"open\", \"repres\", \"leader\", \"end\", \"ago\", \"anoth\", \"watch\", \"step\", \"question\", \"farmer\", \"offici\", \"big\", \"save\", \"staff\", \"emerg\", \"order\", \"potu\", \"left\", \"begin\", \"answer\", \"wish\", \"resid\", \"deal\", \"new\", \"need\", \"brt\", \"great\", \"thi\", \"hous\", \"continu\", \"million\", \"state\", \"todai\", \"meet\", \"bthe\", \"work\", \"peopl\", \"thank\", \"presid\", \"bthank\", \"talk\", \"counti\", \"program\", \"local\", \"everi\", \"receiv\", \"tune\", \"check\", \"alert\", \"test\", \"inform\", \"blive\", \"forc\", \"bon\", \"bif\", \"assist\", \"floor\", \"everyon\", \"remind\", \"urg\", \"hour\", \"increas\", \"children\", \"alwai\", \"high\", \"radio\", \"commit\", \"listen\", \"discuss\", \"morn\", \"hous\", \"thi\", \"join\", \"coronaviru\", \"help\", \"week\", \"todai\", \"hear\", \"dai\", \"need\", \"bthi\", \"famili\", \"care\", \"relief\", \"celebr\", \"hall\", \"town\", \"countri\", \"month\", \"onli\", \"rep\", \"congression\", \"world\", \"happi\", \"access\", \"allow\", \"recogn\", \"florida\", \"center\", \"veri\", \"ani\", \"citi\", \"happen\", \"grant\", \"let\", \"pai\", \"expand\", \"repmichaelwaltz\", \"award\", \"futur\", \"packag\", \"health\", \"tax\", \"right\", \"brt\", \"fund\", \"mani\", \"vaccin\", \"vote\", \"amp\", \"just\", \"state\", \"dai\", \"pass\", \"american\", \"visit\", \"trump\", \"come\", \"law\", \"bproud\", \"elect\", \"plan\", \"sure\", \"polici\", \"share\", \"good\", \"bhappi\", \"tomorrow\", \"ask\", \"leadership\", \"mai\", \"polit\", \"stori\", \"histori\", \"deserv\", \"account\", \"virtual\", \"enforc\", \"decis\", \"challeng\", \"chicago\", \"glad\", \"remov\", \"dont\", \"thei\", \"make\", \"bthe\", \"dai\", \"biden\", \"peopl\", \"democrat\", \"right\", \"thi\"], \"Freq\": [8504.0, 1629.0, 1777.0, 1241.0, 1214.0, 1958.0, 1063.0, 1191.0, 1105.0, 1442.0, 994.0, 861.0, 1416.0, 891.0, 1499.0, 833.0, 851.0, 933.0, 912.0, 1039.0, 1763.0, 717.0, 1213.0, 688.0, 957.0, 675.0, 1283.0, 898.0, 598.0, 1131.0, 1190.521820806309, 1104.7540600740053, 912.1172438152835, 681.4562140592278, 622.8655824907213, 586.0311473511146, 575.1260759410586, 549.4825109476567, 531.4013370391573, 506.2891146609991, 500.9969048667154, 461.52852086278557, 448.9805191935156, 431.1681818120349, 422.6665779402508, 404.58680742276533, 388.22749423067376, 372.1721024367214, 484.799970454851, 322.736549639359, 318.4409695754715, 310.2216789337547, 930.9429758819664, 292.35293938933944, 286.2471984793236, 275.7678853599143, 276.4967069490545, 251.51611377283902, 227.17898693609675, 219.94140345760013, 1566.458325143199, 1147.1273589881562, 715.8447288554327, 875.1792642089617, 832.3004542981423, 575.7021035211568, 1096.415368613487, 657.8912649542518, 1689.0009370499854, 532.6887387814438, 516.5621736962935, 557.8551085730182, 911.0100074075532, 636.999571065448, 993.8782466485313, 621.8768265176271, 598.7594133290319, 564.7073673670805, 522.8441195167941, 517.4876519925677, 468.7451937967515, 461.4209580189298, 430.04905624389573, 419.34874025758535, 406.28766830438525, 360.5603303242337, 341.1262200024827, 339.181226543406, 307.69576918362293, 299.2283060101982, 282.15226327168557, 274.0854651317676, 266.2385060370839, 265.8318388730429, 252.97623064689833, 250.6304389245804, 215.79911495943043, 202.61146897816351, 201.8056970609566, 194.48719594208424, 193.20620943376932, 193.03012312393042, 188.49069899246132, 185.7443195444931, 390.63378772618796, 638.5744723584912, 917.6198308337688, 659.4054685080439, 529.0590230313544, 612.7183247694318, 2701.2800404770587, 1145.5912110377521, 553.7975147832508, 700.119778323645, 523.2131595270339, 387.55595168045704, 377.7916718960463, 304.92158059211386, 350.1138507449834, 359.98376702382075, 350.6179742973277, 1240.6441820744026, 1213.2654435287102, 851.0416639475964, 562.7199442771068, 474.0585909749319, 470.7327720589762, 459.9771123787185, 426.14673732656416, 397.18574063468606, 384.3191186395665, 347.47505673102916, 338.44849833077063, 327.48772852782093, 326.4767726874562, 311.76208952965806, 304.86409506747543, 300.656968287439, 264.2852188547911, 259.0701765991092, 257.7096893903736, 233.98717391185016, 231.41255700251585, 228.0736332115795, 211.90772650539824, 208.222089710909, 207.0095675653912, 194.7154105152122, 189.90302770974114, 179.76644889447564, 177.12708822297972, 1509.2066540871251, 969.1250740859376, 2171.941281317505, 521.4247188295063, 1154.6285456078047, 524.3944450791295, 382.1178972576687, 331.4623058576957, 399.8357793723244, 482.2767164543797, 319.79549757383734, 395.52927653987734, 391.0715101305455, 340.44851072429293, 352.1121965478388, 1062.5692876437752, 890.7127239024829, 832.7387884520319, 674.4926332325614, 472.98696101288675, 444.54896509131993, 439.9472313802364, 399.2021700339863, 368.1841626553979, 347.4424615094585, 326.8082078080682, 326.2001411817716, 312.3884808935847, 297.9682882504046, 298.58143094340545, 296.73041775989856, 289.48515491242455, 287.98620082388493, 279.0574244259894, 278.7309148224745, 271.1586519127586, 260.81208626147105, 256.26886897330223, 250.40457651527475, 244.28045369516573, 243.95257401444425, 242.05511892890686, 237.9807696174788, 238.8814371792205, 223.01998112763116, 773.2267233224611, 479.1206208705965, 917.4299210386815, 1638.2572658296217, 810.9756425968405, 377.905897113746, 602.2359522887273, 568.8606034140064, 620.0353412099573, 377.3056932485076, 459.91264493855925, 446.71132748592396, 325.04570858290595, 860.4729025291049, 687.2371700542093, 536.5431152855339, 520.7661992943104, 488.50221178759733, 456.4928805204921, 716.0870310630295, 434.2895541567155, 429.2729996926554, 378.3083467897947, 377.59813671973956, 338.954087470559, 311.38620312091444, 297.2327302182553, 270.8746168407109, 257.2045257514668, 250.94176837324727, 241.57917767950943, 241.14986309506264, 241.13723541972487, 237.54413628091515, 232.09365050627608, 227.58185750126515, 224.71670719373788, 222.5262898303027, 201.49661428409334, 200.4467794454405, 197.95465578273476, 195.9340769979233, 194.1752964925053, 657.5786617011848, 332.9194983593152, 497.7162903929156, 1942.1264370165463, 370.8785545924156, 346.4987266403024, 326.9223030506198, 402.73219217093873, 576.8803183622692, 365.23858625041703, 350.0257418081974, 275.1284737600152, 259.21482539195006, 1628.280397366567, 597.999213196572, 590.0458931713338, 570.7979373228859, 513.3595586307906, 429.93857298805824, 414.69366121411366, 405.43895356543055, 401.09755211403854, 398.4373245647811, 374.5818320627276, 364.54561773117433, 352.1347278407136, 347.7753207194892, 311.02747324531634, 307.34748598767123, 296.64402453047506, 291.29695877047806, 280.52654420496725, 245.16680870975227, 243.00542087289185, 219.98032972715853, 218.01051933550298, 212.3777770052204, 192.76935399980107, 186.702694385225, 186.4892383827497, 174.73903254555435, 173.32095659529304, 173.73455131682928, 706.5877039854819, 629.8994732669998, 730.9701608088143, 533.356676114793, 348.01488870037963, 387.5195666220845, 310.6131347177466, 300.9881584392262, 359.0725427718298], \"Total\": [8504.0, 1629.0, 1777.0, 1241.0, 1214.0, 1958.0, 1063.0, 1191.0, 1105.0, 1442.0, 994.0, 861.0, 1416.0, 891.0, 1499.0, 833.0, 851.0, 933.0, 912.0, 1039.0, 1763.0, 717.0, 1213.0, 688.0, 957.0, 675.0, 1283.0, 898.0, 598.0, 1131.0, 1191.3394292394128, 1105.572233650061, 912.9353510691823, 682.2750652001567, 623.6822248413744, 586.8617937465262, 575.9433460602964, 550.3060386303804, 532.2206374882974, 507.10953366989884, 501.81750064101374, 462.345455242223, 449.7965488678781, 431.9872674773495, 423.48301464401806, 405.4051888578598, 389.0469520787294, 372.9926323411159, 485.9794460862083, 323.5564029502158, 319.2624297045638, 311.0422432842867, 933.4336921293152, 293.17097683738143, 287.06476656298486, 276.5828475602218, 277.3153394550109, 252.3353833808321, 227.99790506274826, 220.75888781276458, 1958.1845759209646, 1499.8941367081864, 885.9233002783781, 1131.1071192210652, 1127.941067801613, 746.7789114952676, 3175.7167335016115, 1283.3528737560962, 8504.680215730978, 920.7705614389907, 867.3329368207575, 1079.9337189405676, 4604.606345994695, 2220.5441440202567, 994.6964718264088, 622.6966271588137, 599.5791799087682, 565.5250779122257, 523.6602851007536, 518.3067726641453, 469.5610782442879, 462.24147827227665, 430.8683914559266, 420.1669591871164, 407.10443841541735, 361.3817375547161, 341.94578490366035, 340.0026982811579, 308.5140443825068, 300.04347051143753, 282.9707635401577, 274.90084673958313, 267.05519601949527, 266.64843570041813, 253.79655275861515, 251.44782970685642, 216.61761265066858, 203.42673018658573, 202.6245039405074, 195.30573642912324, 194.02333697005162, 193.84964840566786, 189.3069474471209, 186.55950044156884, 434.0854875047294, 784.671182762345, 1213.271579828707, 919.2758430951535, 719.2305083507122, 978.3163829576089, 8504.680215730978, 3175.7167335016115, 1071.820594597018, 1763.6645400855716, 1778.4979514635952, 776.8626713574456, 755.7544496960619, 395.9623129420614, 867.3329368207575, 1086.7003623075907, 1079.0732366019242, 1241.4595491520547, 1214.078524616497, 851.8543456712184, 563.5356636378446, 474.8755263824182, 471.5472706471019, 460.7929155261947, 426.9613661522763, 398.00058832209703, 385.1351541675134, 348.2909518911688, 339.2632846144913, 328.3037704366747, 327.2920456756176, 312.5783355915779, 305.6805183541646, 301.47144469712543, 265.1004994299556, 259.88427440293907, 258.5257658229977, 234.80483554090713, 232.2282570132993, 228.88805656945138, 212.72235898082673, 209.03814170137474, 207.82566398921762, 195.53039746332578, 190.72043807041547, 180.582782362051, 177.94063360460046, 1777.6783885551295, 1416.4921952866089, 8504.680215730978, 1079.9337189405676, 4604.606345994695, 1442.4815801267275, 765.663821955502, 625.4043221520195, 1154.8253915606113, 2220.5441440202567, 634.8983629123994, 1778.4979514635952, 1958.1845759209646, 1079.0732366019242, 1499.8941367081864, 1063.3880825493382, 891.528790228134, 833.5542357877404, 675.3076315808671, 473.8039247471979, 445.3665483658528, 440.7662143712293, 400.0185992143867, 368.99814826244324, 348.259405950347, 327.6210675573897, 327.0162568097997, 313.20452599344037, 298.7804628541809, 299.4005520979072, 297.5487780661096, 290.30178087634806, 288.80230949063935, 279.8718328535594, 279.54895877503213, 271.9766116096005, 261.63075181769517, 257.08556340148294, 251.22357464696773, 245.09884119809595, 244.77085967551545, 242.87156104553057, 238.7932167845613, 239.7013880777194, 223.8370307243648, 957.3195059665247, 562.1024536921893, 1442.4815801267275, 4604.606345994695, 1763.6645400855716, 517.7517644813016, 1283.3528737560962, 1224.6530836259099, 2220.5441440202567, 755.7544496960619, 1440.4229826918613, 1416.4921952866089, 943.6283016860593, 861.2890042697009, 688.0521467565744, 537.3586300343986, 521.581336622488, 489.3163197050459, 457.30725289717907, 717.3926693967816, 435.10624101245054, 430.08928823493034, 379.12428211793576, 378.4144991968649, 339.77025797683314, 312.2004247508179, 298.04821051127504, 271.69113421879445, 258.0213055377605, 251.75900001224804, 242.39388417838282, 241.96563925817065, 241.95343908628226, 238.3593969699504, 232.91138849811406, 228.39768922233753, 225.53277120097528, 223.34289362334272, 202.3121242561483, 201.2662901499151, 198.76965052881917, 196.75103614600923, 194.98987382271866, 898.3319441825632, 416.12102285275364, 799.3538254337924, 8504.680215730978, 602.8859380253183, 599.7084519004364, 600.9544416288907, 1071.820594597018, 3175.7167335016115, 946.600718042064, 1154.8253915606113, 1440.4229826918613, 919.2758430951535, 1629.0909384797333, 598.81155792585, 590.8562422156177, 571.6094302810671, 514.1687635657072, 430.75091281874217, 415.50291327375635, 406.2489105113527, 401.907500857331, 399.24734201531976, 375.3926080131234, 365.3569875939969, 352.94308353579663, 348.5888559337555, 311.8392802983032, 308.1590922536519, 297.45463316000604, 292.1066270087648, 281.3386386985314, 245.97659263375877, 243.8157073745573, 220.7908518716331, 218.82328244895848, 213.18704219396827, 193.5789470580915, 187.51269346121487, 187.30499592460188, 175.55085453246193, 174.12933186762143, 174.54558260928385, 1039.808039809484, 944.0631674936119, 1778.4979514635952, 1440.4229826918613, 668.3572177817493, 1079.0732366019242, 776.8626713574456, 799.3538254337924, 4604.606345994695], \"Category\": [\"Default\", \"Default\", \"Default\", \"Default\", \"Default\", \"Default\", \"Default\", \"Default\", \"Default\", \"Default\", \"Default\", \"Default\", \"Default\", \"Default\", \"Default\", \"Default\", \"Default\", \"Default\", \"Default\", \"Default\", \"Default\", \"Default\", \"Default\", \"Default\", \"Default\", \"Default\", \"Default\", \"Default\", \"Default\", \"Default\", \"Topic1\", \"Topic1\", \"Topic1\", \"Topic1\", \"Topic1\", \"Topic1\", \"Topic1\", \"Topic1\", \"Topic1\", \"Topic1\", \"Topic1\", \"Topic1\", \"Topic1\", \"Topic1\", \"Topic1\", \"Topic1\", \"Topic1\", \"Topic1\", \"Topic1\", \"Topic1\", \"Topic1\", \"Topic1\", \"Topic1\", \"Topic1\", \"Topic1\", \"Topic1\", \"Topic1\", \"Topic1\", \"Topic1\", \"Topic1\", \"Topic1\", \"Topic1\", \"Topic1\", \"Topic1\", \"Topic1\", \"Topic1\", \"Topic1\", \"Topic1\", \"Topic1\", \"Topic1\", \"Topic1\", \"Topic1\", \"Topic1\", \"Topic1\", \"Topic2\", \"Topic2\", \"Topic2\", \"Topic2\", \"Topic2\", \"Topic2\", \"Topic2\", \"Topic2\", \"Topic2\", \"Topic2\", \"Topic2\", \"Topic2\", \"Topic2\", \"Topic2\", \"Topic2\", \"Topic2\", \"Topic2\", \"Topic2\", \"Topic2\", \"Topic2\", \"Topic2\", \"Topic2\", \"Topic2\", \"Topic2\", \"Topic2\", \"Topic2\", \"Topic2\", \"Topic2\", \"Topic2\", \"Topic2\", \"Topic2\", \"Topic2\", \"Topic2\", \"Topic2\", \"Topic2\", \"Topic2\", \"Topic2\", \"Topic2\", \"Topic2\", \"Topic2\", \"Topic2\", \"Topic2\", \"Topic2\", \"Topic2\", \"Topic2\", \"Topic2\", \"Topic2\", \"Topic3\", \"Topic3\", \"Topic3\", \"Topic3\", \"Topic3\", \"Topic3\", \"Topic3\", \"Topic3\", \"Topic3\", \"Topic3\", \"Topic3\", \"Topic3\", \"Topic3\", \"Topic3\", \"Topic3\", \"Topic3\", \"Topic3\", \"Topic3\", \"Topic3\", \"Topic3\", \"Topic3\", \"Topic3\", \"Topic3\", \"Topic3\", \"Topic3\", \"Topic3\", \"Topic3\", \"Topic3\", \"Topic3\", \"Topic3\", \"Topic3\", \"Topic3\", \"Topic3\", \"Topic3\", \"Topic3\", \"Topic3\", \"Topic3\", \"Topic3\", \"Topic3\", \"Topic3\", \"Topic3\", \"Topic3\", \"Topic3\", \"Topic3\", \"Topic3\", \"Topic4\", \"Topic4\", \"Topic4\", \"Topic4\", \"Topic4\", \"Topic4\", \"Topic4\", \"Topic4\", \"Topic4\", \"Topic4\", \"Topic4\", \"Topic4\", \"Topic4\", \"Topic4\", \"Topic4\", \"Topic4\", \"Topic4\", \"Topic4\", \"Topic4\", \"Topic4\", \"Topic4\", \"Topic4\", \"Topic4\", \"Topic4\", \"Topic4\", \"Topic4\", \"Topic4\", \"Topic4\", \"Topic4\", \"Topic4\", \"Topic4\", \"Topic4\", \"Topic4\", \"Topic4\", \"Topic4\", \"Topic4\", \"Topic4\", \"Topic4\", \"Topic4\", \"Topic4\", \"Topic4\", \"Topic4\", \"Topic4\", \"Topic5\", \"Topic5\", \"Topic5\", \"Topic5\", \"Topic5\", \"Topic5\", \"Topic5\", \"Topic5\", \"Topic5\", \"Topic5\", \"Topic5\", \"Topic5\", \"Topic5\", \"Topic5\", \"Topic5\", \"Topic5\", \"Topic5\", \"Topic5\", \"Topic5\", \"Topic5\", \"Topic5\", \"Topic5\", \"Topic5\", \"Topic5\", \"Topic5\", \"Topic5\", \"Topic5\", \"Topic5\", \"Topic5\", \"Topic5\", \"Topic5\", \"Topic5\", \"Topic5\", \"Topic5\", \"Topic5\", \"Topic5\", \"Topic5\", \"Topic5\", \"Topic5\", \"Topic5\", \"Topic5\", \"Topic5\", \"Topic5\", \"Topic6\", \"Topic6\", \"Topic6\", \"Topic6\", \"Topic6\", \"Topic6\", \"Topic6\", \"Topic6\", \"Topic6\", \"Topic6\", \"Topic6\", \"Topic6\", \"Topic6\", \"Topic6\", \"Topic6\", \"Topic6\", \"Topic6\", \"Topic6\", \"Topic6\", \"Topic6\", \"Topic6\", \"Topic6\", \"Topic6\", \"Topic6\", \"Topic6\", \"Topic6\", \"Topic6\", \"Topic6\", \"Topic6\", \"Topic6\", \"Topic6\", \"Topic6\", \"Topic6\", \"Topic6\", \"Topic6\", \"Topic6\", \"Topic6\", \"Topic6\", \"Topic6\"], \"logprob\": [30.0, 29.0, 28.0, 27.0, 26.0, 25.0, 24.0, 23.0, 22.0, 21.0, 20.0, 19.0, 18.0, 17.0, 16.0, 15.0, 14.0, 13.0, 12.0, 11.0, 10.0, 9.0, 8.0, 7.0, 6.0, 5.0, 4.0, 3.0, 2.0, 1.0, -4.069, -4.1438, -4.3354, -4.6269, -4.7168, -4.7778, -4.7966, -4.8422, -4.8757, -4.9241, -4.9346, -5.0166, -5.0442, -5.0847, -5.1046, -5.1483, -5.1896, -5.2318, -4.9674, -5.3743, -5.3877, -5.4139, -4.315, -5.4732, -5.4943, -5.5316, -5.529, -5.6237, -5.7254, -5.7578, -3.7946, -4.1062, -4.5777, -4.3767, -4.427, -4.7956, -4.1514, -4.6621, -3.7193, -4.8732, -4.904, -4.8271, -4.3366, -4.6944, -4.1239, -4.5927, -4.6306, -4.6892, -4.7662, -4.7765, -4.8754, -4.8912, -4.9616, -4.9868, -5.0184, -5.1378, -5.1932, -5.1989, -5.2964, -5.3243, -5.383, -5.412, -5.4411, -5.4426, -5.4922, -5.5015, -5.6511, -5.7142, -5.7182, -5.7551, -5.7617, -5.7626, -5.7864, -5.8011, -5.0577, -4.5662, -4.2037, -4.5341, -4.7544, -4.6076, -3.124, -3.9818, -4.7087, -4.4742, -4.7655, -5.0656, -5.0911, -5.3054, -5.1672, -5.1394, -5.1658, -3.8166, -3.8389, -4.1936, -4.6072, -4.7787, -4.7857, -4.8088, -4.8852, -4.9556, -4.9885, -5.0893, -5.1156, -5.1486, -5.1517, -5.1978, -5.2202, -5.234, -5.363, -5.3829, -5.3882, -5.4848, -5.4958, -5.5103, -5.5839, -5.6014, -5.6073, -5.6685, -5.6935, -5.7484, -5.7632, -3.6207, -4.0636, -3.2566, -4.6835, -3.8885, -4.6778, -4.9943, -5.1365, -4.949, -4.7615, -5.1723, -4.9598, -4.9711, -5.1098, -5.0761, -3.918, -4.0945, -4.1618, -4.3725, -4.7274, -4.7894, -4.7998, -4.897, -4.9779, -5.0359, -5.0971, -5.099, -5.1422, -5.1895, -5.1874, -5.1937, -5.2184, -5.2236, -5.2551, -5.2562, -5.2838, -5.3227, -5.3402, -5.3634, -5.3882, -5.3895, -5.3973, -5.4143, -5.4105, -5.4792, -4.2359, -4.7145, -4.0649, -3.4851, -4.1882, -4.9518, -4.4858, -4.5428, -4.4567, -4.9534, -4.7554, -4.7846, -5.1025, -4.0359, -4.2607, -4.5082, -4.5381, -4.602, -4.6698, -4.2196, -4.7196, -4.7313, -4.8577, -4.8595, -4.9675, -5.0523, -5.0988, -5.1917, -5.2435, -5.2681, -5.3062, -5.3079, -5.308, -5.323, -5.3462, -5.3659, -5.3785, -5.3883, -5.4876, -5.4928, -5.5053, -5.5156, -5.5246, -4.3048, -4.9855, -4.5833, -3.2218, -4.8775, -4.9455, -5.0036, -4.7951, -4.4357, -4.8928, -4.9354, -5.1761, -5.2357, -3.3383, -4.34, -4.3534, -4.3866, -4.4926, -4.67, -4.7061, -4.7287, -4.7394, -4.7461, -4.8078, -4.835, -4.8696, -4.8821, -4.9937, -5.0056, -5.0411, -5.0593, -5.097, -5.2317, -5.2405, -5.3401, -5.3491, -5.3753, -5.4721, -5.5041, -5.5053, -5.5703, -5.5785, -5.5761, -4.1732, -4.2881, -4.1393, -4.4544, -4.8814, -4.7739, -4.9951, -5.0266, -4.8501], \"loglift\": [30.0, 29.0, 28.0, 27.0, 26.0, 25.0, 24.0, 23.0, 22.0, 21.0, 20.0, 19.0, 18.0, 17.0, 16.0, 15.0, 14.0, 13.0, 12.0, 11.0, 10.0, 9.0, 8.0, 7.0, 6.0, 5.0, 4.0, 3.0, 2.0, 1.0, 1.5714, 1.5714, 1.5712, 1.5709, 1.5708, 1.5707, 1.5707, 1.5706, 1.5706, 1.5705, 1.5705, 1.5703, 1.5703, 1.5702, 1.5702, 1.5701, 1.57, 1.5699, 1.5697, 1.5696, 1.5695, 1.5695, 1.5694, 1.5693, 1.5693, 1.5692, 1.5692, 1.5689, 1.5685, 1.5684, 1.3489, 1.304, 1.359, 1.3156, 1.2682, 1.3119, 0.5086, 0.9039, -0.0444, 1.0248, 1.0539, 0.9116, -0.0481, 0.3234, 1.697, 1.6965, 1.6964, 1.6964, 1.6962, 1.6962, 1.6961, 1.696, 1.6959, 1.6959, 1.6958, 1.6955, 1.6954, 1.6954, 1.6952, 1.6951, 1.6949, 1.6948, 1.6947, 1.6947, 1.6946, 1.6946, 1.694, 1.6938, 1.6938, 1.6936, 1.6936, 1.6936, 1.6935, 1.6934, 1.5923, 1.4918, 1.4185, 1.3656, 1.3907, 1.2299, 0.5509, 0.6782, 1.0375, 0.7739, 0.4743, 1.0024, 1.0044, 1.4365, 0.7906, 0.593, 0.5736, 1.7826, 1.7826, 1.7823, 1.7818, 1.7816, 1.7815, 1.7815, 1.7814, 1.7812, 1.7812, 1.7809, 1.7809, 1.7808, 1.7808, 1.7807, 1.7806, 1.7806, 1.7802, 1.7801, 1.7801, 1.7798, 1.7798, 1.7797, 1.7794, 1.7794, 1.7793, 1.7791, 1.779, 1.7787, 1.7787, 1.6195, 1.4037, 0.4183, 1.0552, 0.4, 0.7714, 1.0883, 1.1484, 0.7226, 0.2563, 1.0975, 0.28, 0.1724, 0.6297, 0.3341, 1.836, 1.8359, 1.8358, 1.8356, 1.8351, 1.835, 1.835, 1.8348, 1.8346, 1.8345, 1.8343, 1.8343, 1.8342, 1.8341, 1.8341, 1.8341, 1.834, 1.834, 1.8339, 1.8339, 1.8338, 1.8337, 1.8336, 1.8335, 1.8335, 1.8335, 1.8334, 1.8334, 1.8334, 1.8332, 1.6233, 1.6771, 1.3843, 0.8034, 1.0599, 1.522, 1.0802, 1.07, 0.5611, 1.1422, 0.6952, 0.6828, 0.771, 1.929, 1.9287, 1.9284, 1.9284, 1.9283, 1.9281, 1.9281, 1.9281, 1.928, 1.9278, 1.9278, 1.9275, 1.9273, 1.9272, 1.9269, 1.9268, 1.9267, 1.9266, 1.9266, 1.9266, 1.9265, 1.9264, 1.9264, 1.9263, 1.9263, 1.9259, 1.9258, 1.9258, 1.9258, 1.9257, 1.618, 1.7069, 1.4562, 0.4531, 1.4441, 1.3814, 1.3211, 0.9511, 0.2243, 0.9776, 0.7362, 0.2745, 0.664, 1.9892, 1.9883, 1.9883, 1.9882, 1.9881, 1.9878, 1.9877, 1.9877, 1.9876, 1.9876, 1.9875, 1.9874, 1.9874, 1.9873, 1.9871, 1.987, 1.9869, 1.9869, 1.9868, 1.9864, 1.9863, 1.986, 1.9859, 1.9859, 1.9855, 1.9853, 1.9853, 1.985, 1.985, 1.985, 1.6033, 1.585, 1.1005, 0.9962, 1.3371, 0.9656, 1.073, 1.0129, -0.5616]}, \"token.table\": {\"Topic\": [5, 6, 1, 2, 4, 1, 3, 4, 5, 4, 2, 1, 6, 1, 2, 4, 5, 6, 5, 1, 3, 3, 6, 4, 2, 5, 1, 3, 3, 6, 2, 6, 4, 3, 2, 1, 4, 4, 2, 6, 1, 2, 3, 5, 4, 2, 3, 4, 6, 2, 4, 5, 6, 2, 4, 6, 3, 3, 1, 5, 5, 5, 6, 4, 6, 4, 2, 5, 2, 4, 6, 4, 1, 1, 2, 1, 5, 2, 3, 5, 2, 4, 4, 1, 5, 1, 3, 4, 5, 6, 3, 6, 2, 3, 5, 6, 6, 1, 4, 2, 6, 2, 6, 3, 3, 6, 1, 4, 4, 5, 5, 3, 2, 4, 5, 4, 1, 3, 5, 5, 6, 6, 1, 5, 1, 3, 5, 5, 5, 3, 5, 2, 4, 1, 2, 4, 4, 2, 6, 1, 2, 4, 3, 4, 1, 4, 4, 2, 1, 2, 4, 3, 4, 5, 6, 2, 6, 1, 3, 6, 2, 3, 5, 2, 4, 2, 4, 2, 4, 2, 2, 6, 1, 3, 6, 3, 5, 2, 1, 3, 1, 2, 1, 1, 1, 3, 5, 3, 4, 1, 3, 4, 2, 3, 2, 1, 3, 5, 3, 1, 3, 5, 5, 2, 5, 2, 3, 6, 6, 2, 4, 6, 6, 3, 1, 4, 4, 1, 2, 6, 1, 2, 1, 1, 3, 4, 3, 4, 5, 5, 2, 4, 6, 5, 1, 2, 3, 5, 3, 3, 1, 5, 6, 1, 2, 1, 2, 3, 2, 2, 1, 1, 6, 2, 3, 2, 3, 2, 2, 3, 4, 5, 6, 2, 3, 6, 1, 2, 3, 4, 5, 6, 4, 3, 5, 2, 4, 1, 3, 2, 6, 1, 2, 3, 4, 5, 6, 1, 3, 1, 2, 3, 4, 5, 6, 2, 5, 6, 4, 1, 4, 1, 3, 4, 5, 5, 1, 5, 2, 6, 6, 2, 4, 5, 3, 2, 3, 1, 2, 3, 4, 6, 3, 1, 1, 3, 5, 3], \"Freq\": [0.9964830840303421, 0.9964180949304327, 0.24149580759269623, 0.7566319159388912, 0.0024726533200617362, 0.9986708824726102, 0.996276388658069, 0.9981043112946913, 0.9974561767693241, 0.9968506885315623, 0.9965222688910413, 0.9977145912584072, 0.999330339114923, 0.34511894226520873, 0.36086341955832957, 0.0733692641859431, 0.18169126796261445, 0.03873141414107726, 0.9960594108937536, 0.9973089312918777, 0.9960287680067135, 0.9972873912690468, 0.9973086126369316, 0.9972219422619771, 0.9975681998706842, 0.9961279273431757, 0.9965623680193196, 0.9960271317152608, 0.9988394150890728, 0.9973279444199649, 0.478785881989974, 0.5206796466640967, 0.9955157668257552, 0.9965974301255025, 0.9990715214360357, 0.99762670489019, 0.997387838392359, 0.9981556702411069, 0.9988051006135649, 0.9982567353976609, 0.19859653239822966, 0.3175898365942086, 0.2553887912190378, 0.2283448584472244, 0.9994068725161431, 0.29406837357872856, 0.22265980102710614, 0.07197084477643835, 0.4110209963404409, 0.204529685740827, 0.3444152739159004, 0.2246647325236027, 0.22678421113231595, 0.6265866652941063, 0.1982998581844317, 0.17479008118318462, 0.9991116516809837, 0.9990494592047882, 0.9992528200757548, 0.9984708328263575, 0.9988854343864133, 0.9983750242720937, 0.9972658199732973, 0.9963837130345116, 0.9930327756707183, 0.9955167425813823, 0.9970509108126879, 0.9984922055747787, 0.8143538516993497, 0.18479078011957073, 0.998933834452718, 0.9970739089859088, 0.9988594238084754, 0.7735783686009925, 0.22544283884943211, 0.9989754465438468, 0.9989046424020628, 0.33696250573922787, 0.49891347748986453, 0.16325702797443212, 0.2684684235489842, 0.7300795978526333, 0.9980636505205694, 0.0013939367415628156, 0.998058706958976, 0.9956231831933998, 0.11940936937743561, 0.31935063903267663, 0.19091614289996972, 0.3700301969661231, 0.9947137784914791, 0.9970092457527534, 0.4994447722942214, 0.0720848124960732, 0.028319033480600185, 0.4003281551121208, 0.9966544100733257, 0.1911587498838649, 0.8074629161761069, 0.9973142213958883, 0.996874268594324, 0.9989436722583185, 0.9987896275629119, 0.994710992412827, 0.9962934670448397, 0.9944319214631805, 0.9990005336167469, 0.9982616308912825, 0.9980362696486597, 0.9935143567842379, 0.9985034009916406, 0.9984361878863881, 0.9974787659875088, 0.9968848853252925, 0.9969852119995268, 0.9986621531086014, 0.9982290907525125, 0.3831570541462838, 0.6153734505985771, 0.9961828097034677, 0.9968621369919902, 0.9990229074408901, 0.9973387347227597, 0.9982587861388107, 0.5166983771443001, 0.4824370152189612, 0.999353547608556, 0.996086973230502, 0.9961549547801672, 0.26716182314811027, 0.7324686651310689, 0.5001624537599725, 0.49883927266536937, 0.5127194659050993, 0.017921805039235995, 0.46908376667913343, 0.9964114322740028, 0.9982189955372511, 0.9960297334664976, 0.9973927530687653, 0.002142626752027423, 0.995777423721815, 0.36326287088807374, 0.635710024054129, 0.9981311566768416, 0.9951295389029984, 0.9961541871413901, 0.9987390964723883, 0.14288431517014746, 0.39690087547263186, 0.45983801429757776, 0.22818491036724697, 0.19226691521684697, 0.38559024205576453, 0.19437973846098816, 0.996917924888834, 0.9977268872624585, 0.9952568817231824, 0.9970525823071978, 0.9962386563213983, 0.9930961464185778, 0.9950337211528708, 0.9976377215686295, 0.9007442341544304, 0.09905882882005244, 0.9990340226475903, 0.9962605350792223, 0.9992998147212385, 0.9991769737372559, 0.9960487718073898, 0.9965693857272999, 0.998471588237923, 0.1567691708521204, 0.17477644047702612, 0.6673282272759179, 0.42187165980112457, 0.5769470130086526, 0.9971488345609986, 0.49456734863769747, 0.5040176801403286, 0.8081963752110548, 0.19076143493110093, 0.9978926836376038, 0.9962908490103705, 0.4684969221059833, 0.5292576150753601, 0.9974575381638369, 0.14588087894187293, 0.8521578172336235, 0.9994824095317845, 0.6840842492633257, 0.3155682759759614, 0.1507584283666892, 0.848859956736321, 0.9956169721603528, 0.9997150860358668, 0.9958487462968874, 0.9974672974549058, 0.9977483532973018, 0.9960058227795483, 0.9961201270928616, 0.9949234603658514, 0.9984647211389631, 0.7168686145185558, 0.28174350707178447, 0.3252791266562436, 0.3150851939120308, 0.35956780952314105, 0.9969257504967074, 0.7702753267951253, 0.22729435872643042, 0.9968757662630302, 0.9962115648655531, 0.9966042169507351, 0.998280352528516, 0.9996350508758686, 0.9983032543522579, 0.5788629896757576, 0.2856303307405708, 0.13575586061814202, 0.5960802110145655, 0.4035359262187581, 0.997706519810923, 0.9983709204243186, 0.9977737594864449, 0.9966782273163273, 0.9981563034231562, 0.9974536203656851, 0.9960417782724108, 0.9993326057974063, 0.9983338055694169, 0.9964092073806612, 0.9935144076215718, 0.9970345288577797, 0.14598935776623057, 0.7355082881746283, 0.11818186104885331, 0.9937083843053305, 0.9974859627059464, 0.9967727689515682, 0.9966491905624082, 0.6230032110370473, 0.3765541496428739, 0.9979845935993874, 0.0020577001929884277, 0.9960457930933747, 0.9933143979639477, 0.9979662923680974, 0.9972226298103638, 0.9970009544394975, 0.9985315218068217, 0.9983620853218474, 0.9989541402661033, 0.9979845552072356, 0.9989970754090064, 0.9947257016293376, 0.996572321268201, 0.9972870882476345, 0.06321301950362301, 0.3463727096088932, 0.14547653803573515, 0.3030761209077816, 0.141146879165624, 0.9979022904895816, 0.9981497899063179, 0.9987963306423251, 0.3515228422201214, 0.3312780712022087, 0.19876684272132522, 0.052452361273683044, 0.06533539737599116, 0.9977420156245027, 0.9993350933101353, 0.1994612034522705, 0.8002479608386275, 0.9972341086060563, 0.9968923355073727, 0.7647206372293166, 0.2346832295594764, 0.3202514187724621, 0.6799331924088009, 0.19784535996056013, 0.0681925829062743, 0.2508357747030153, 0.35573073503336716, 0.04929845961695626, 0.07796540529730087, 0.7376271897091131, 0.2615384867358033, 0.28686662308217953, 0.14365848157490624, 0.21706391259907465, 0.2792108419324197, 0.07295509095653546, 0.9983107436633964, 0.9968614516235264, 0.9971414122804805, 0.9985508451050513, 0.9972949775841874, 0.9978120433629609, 0.9975891526003232, 0.004992058951870763, 0.14144167030300497, 0.30950765501598737, 0.5441344257539132, 0.9960091884900222, 0.7713126216254302, 0.22764435013250545, 0.9967230121323107, 0.9962376834871284, 0.9986447190019827, 0.516877547224489, 0.10729407568739391, 0.3759957608871282, 0.9982792367254839, 0.998881273595471, 0.9960523156835344, 0.29886014651297005, 0.0008165577773578417, 0.20250632878474475, 0.4646213753166119, 0.03266231109431367, 0.9962225439617044, 0.9989061339024887, 0.7997203222088939, 0.1996747420074569, 0.9977330035259129, 0.9996298315540215], \"Term\": [\"access\", \"account\", \"act\", \"act\", \"act\", \"address\", \"ago\", \"alert\", \"allow\", \"alwai\", \"amend\", \"america\", \"american\", \"amp\", \"amp\", \"amp\", \"amp\", \"amp\", \"ani\", \"announc\", \"anoth\", \"answer\", \"ask\", \"assist\", \"attack\", \"award\", \"bcongratul\", \"begin\", \"bgreat\", \"bhappi\", \"biden\", \"biden\", \"bif\", \"big\", \"bipartisan\", \"bit\", \"blive\", \"bon\", \"border\", \"bproud\", \"brt\", \"brt\", \"brt\", \"brt\", \"bthank\", \"bthe\", \"bthe\", \"bthe\", \"bthe\", \"bthi\", \"bthi\", \"bthi\", \"bthi\", \"btodai\", \"btodai\", \"btodai\", \"busi\", \"bwe\", \"capitol\", \"care\", \"celebr\", \"center\", \"challeng\", \"check\", \"chicago\", \"children\", \"china\", \"citi\", \"colleagu\", \"colleagu\", \"come\", \"commit\", \"committe\", \"commun\", \"commun\", \"congress\", \"congression\", \"continu\", \"continu\", \"continu\", \"coronaviru\", \"coronaviru\", \"counti\", \"countri\", \"countri\", \"creat\", \"dai\", \"dai\", \"dai\", \"dai\", \"deal\", \"decis\", \"democrat\", \"democrat\", \"democrat\", \"democrat\", \"deserv\", \"discuss\", \"discuss\", \"district\", \"dont\", \"econom\", \"elect\", \"emerg\", \"end\", \"enforc\", \"ensur\", \"everi\", \"everyon\", \"expand\", \"famili\", \"farmer\", \"fight\", \"floor\", \"florida\", \"forc\", \"forward\", \"fund\", \"fund\", \"futur\", \"glad\", \"good\", \"govern\", \"grant\", \"great\", \"great\", \"hall\", \"happen\", \"happi\", \"health\", \"health\", \"hear\", \"hear\", \"help\", \"help\", \"help\", \"high\", \"hispaniccaucu\", \"histori\", \"honor\", \"honor\", \"hour\", \"hous\", \"hous\", \"import\", \"increas\", \"inform\", \"introduc\", \"join\", \"join\", \"join\", \"just\", \"just\", \"just\", \"just\", \"latest\", \"law\", \"lead\", \"leader\", \"leadership\", \"led\", \"left\", \"let\", \"letter\", \"letter\", \"like\", \"listen\", \"live\", \"local\", \"lost\", \"love\", \"mai\", \"make\", \"make\", \"make\", \"mani\", \"mani\", \"mark\", \"meet\", \"meet\", \"member\", \"member\", \"men\", \"militari\", \"million\", \"million\", \"month\", \"morn\", \"morn\", \"nation\", \"need\", \"need\", \"new\", \"new\", \"number\", \"offic\", \"offici\", \"onli\", \"open\", \"opportun\", \"order\", \"packag\", \"pai\", \"pass\", \"pass\", \"peopl\", \"peopl\", \"peopl\", \"plan\", \"polic\", \"polic\", \"polici\", \"polit\", \"potu\", \"power\", \"presid\", \"program\", \"protect\", \"protect\", \"protect\", \"proud\", \"proud\", \"provid\", \"public\", \"question\", \"radio\", \"realdonaldtrump\", \"receiv\", \"recogn\", \"relief\", \"rememb\", \"remind\", \"remov\", \"rep\", \"repchuygarcia\", \"repchuygarcia\", \"repchuygarcia\", \"repmichaelwaltz\", \"repres\", \"resid\", \"respons\", \"right\", \"right\", \"safe\", \"safe\", \"sai\", \"said\", \"save\", \"secur\", \"sent\", \"serv\", \"servic\", \"share\", \"sign\", \"small\", \"speakerpelosi\", \"staff\", \"stand\", \"state\", \"state\", \"state\", \"state\", \"state\", \"statement\", \"step\", \"stori\", \"support\", \"support\", \"support\", \"support\", \"support\", \"sure\", \"talk\", \"tax\", \"tax\", \"team\", \"test\", \"thank\", \"thank\", \"thei\", \"thei\", \"thi\", \"thi\", \"thi\", \"thi\", \"thi\", \"thi\", \"time\", \"time\", \"todai\", \"todai\", \"todai\", \"todai\", \"todai\", \"tomorrow\", \"tonight\", \"town\", \"trump\", \"tune\", \"updat\", \"urg\", \"vaccin\", \"vaccin\", \"vaccin\", \"vaccin\", \"veri\", \"veteran\", \"veteran\", \"violenc\", \"virtual\", \"visit\", \"vote\", \"vote\", \"vote\", \"wai\", \"want\", \"watch\", \"week\", \"week\", \"week\", \"week\", \"week\", \"wish\", \"women\", \"work\", \"work\", \"world\", \"year\"]}, \"R\": 30, \"lambda.step\": 0.01, \"plot.opts\": {\"xlab\": \"PC1\", \"ylab\": \"PC2\"}, \"topic.order\": [3, 6, 1, 4, 2, 5]};\n",
              "\n",
              "function LDAvis_load_lib(url, callback){\n",
              "  var s = document.createElement('script');\n",
              "  s.src = url;\n",
              "  s.async = true;\n",
              "  s.onreadystatechange = s.onload = callback;\n",
              "  s.onerror = function(){console.warn(\"failed to load library \" + url);};\n",
              "  document.getElementsByTagName(\"head\")[0].appendChild(s);\n",
              "}\n",
              "\n",
              "if(typeof(LDAvis) !== \"undefined\"){\n",
              "   // already loaded: just create the visualization\n",
              "   !function(LDAvis){\n",
              "       new LDAvis(\"#\" + \"ldavis_el581396857376944161627356826\", ldavis_el581396857376944161627356826_data);\n",
              "   }(LDAvis);\n",
              "}else if(typeof define === \"function\" && define.amd){\n",
              "   // require.js is available: use it to load d3/LDAvis\n",
              "   require.config({paths: {d3: \"https://d3js.org/d3.v5\"}});\n",
              "   require([\"d3\"], function(d3){\n",
              "      window.d3 = d3;\n",
              "      LDAvis_load_lib(\"https://cdn.jsdelivr.net/gh/bmabey/pyLDAvis@3.3.1/pyLDAvis/js/ldavis.v3.0.0.js\", function(){\n",
              "        new LDAvis(\"#\" + \"ldavis_el581396857376944161627356826\", ldavis_el581396857376944161627356826_data);\n",
              "      });\n",
              "    });\n",
              "}else{\n",
              "    // require.js not available: dynamically load d3 & LDAvis\n",
              "    LDAvis_load_lib(\"https://d3js.org/d3.v5.js\", function(){\n",
              "         LDAvis_load_lib(\"https://cdn.jsdelivr.net/gh/bmabey/pyLDAvis@3.3.1/pyLDAvis/js/ldavis.v3.0.0.js\", function(){\n",
              "                 new LDAvis(\"#\" + \"ldavis_el581396857376944161627356826\", ldavis_el581396857376944161627356826_data);\n",
              "            })\n",
              "         });\n",
              "}\n",
              "</script>"
            ],
            "text/plain": [
              "PreparedData(topic_coordinates=               x          y  topics  cluster       Freq\n",
              "topic                                                  \n",
              "2      1.465019  -47.625065  1       1        20.760509\n",
              "5      54.854797 -36.476795  2       1        18.308434\n",
              "0      32.212929 -61.444572  3       1        16.808708\n",
              "3      5.111096  -14.110332  4       1        15.932407\n",
              "1      26.350170 -33.374702  5       1        14.515839\n",
              "4      38.109818 -7.222781   6       1        13.674103, topic_info=          Term         Freq        Total Category  logprob  loglift\n",
              "1424  brt       8504.000000  8504.000000  Default  30.0000  30.0000\n",
              "258   american  1629.000000  1629.000000  Default  29.0000  29.0000\n",
              "5281  new       1777.000000  1777.000000  Default  28.0000  28.0000\n",
              "8804  year      1241.000000  1241.000000  Default  27.0000  27.0000\n",
              "1612  busi      1214.000000  1214.000000  Default  26.0000  26.0000\n",
              "...    ...              ...          ...      ...      ...      ...\n",
              "972   biden     348.014889   668.357218   Topic6  -4.8814   1.3371 \n",
              "5880  peopl     387.519567   1079.073237  Topic6  -4.7739   0.9656 \n",
              "2515  democrat  310.613135   776.862671   Topic6  -4.9951   1.0730 \n",
              "6915  right     300.988158   799.353825   Topic6  -5.0266   1.0129 \n",
              "7979  thi       359.072543   4604.606346  Topic6  -4.8501  -0.5616 \n",
              "\n",
              "[291 rows x 6 columns], token_table=      Topic      Freq     Term\n",
              "term                          \n",
              "45    5      0.996483  access \n",
              "53    6      0.996418  account\n",
              "70    1      0.241496  act    \n",
              "70    2      0.756632  act    \n",
              "70    4      0.002473  act    \n",
              "...  ..           ...  ...    \n",
              "8726  1      0.998906  women  \n",
              "8737  1      0.799720  work   \n",
              "8737  3      0.199675  work   \n",
              "8743  5      0.997733  world  \n",
              "8804  3      0.999630  year   \n",
              "\n",
              "[328 rows x 3 columns], R=30, lambda_step=0.01, plot_opts={'xlab': 'PC1', 'ylab': 'PC2'}, topic_order=[3, 6, 1, 4, 2, 5])"
            ]
          },
          "metadata": {
            "tags": []
          },
          "execution_count": 36
        }
      ]
    },
    {
      "cell_type": "code",
      "metadata": {
        "colab": {
          "base_uri": "https://localhost:8080/"
        },
        "id": "iRA9ooG-Q0qy",
        "outputId": "b9bdadab-27fd-415d-810e-9d90741a4f1a"
      },
      "source": [
        "for i,topic in enumerate(lda_model.components_):\n",
        "  print(f'Top 10 words for topic #{i}:')\n",
        "  print([vectorizer.get_feature_names()[i] for i in topic.argsort()[-10:]])\n",
        "  print('\\n')"
      ],
      "execution_count": null,
      "outputs": [
        {
          "output_type": "stream",
          "text": [
            "Top 10 words for topic #0:\n",
            "['great', 'hous', 'bwe', 'small', 'need', 'thi', 'busi', 'year', 'new', 'brt']\n",
            "\n",
            "\n",
            "Top 10 words for topic #1:\n",
            "['hall', 'right', 'celebr', 'relief', 'amp', 'health', 'care', 'countri', 'famili', 'brt']\n",
            "\n",
            "\n",
            "Top 10 words for topic #2:\n",
            "['commun', 'thi', 'congress', 'honor', 'amp', 'nation', 'thank', 'offic', 'work', 'brt']\n",
            "\n",
            "\n",
            "Top 10 words for topic #3:\n",
            "['help', 'todai', 'counti', 'discuss', 'join', 'talk', 'bthank', 'hous', 'presid', 'thi']\n",
            "\n",
            "\n",
            "Top 10 words for topic #4:\n",
            "['bproud', 'law', 'dai', 'come', 'trump', 'visit', 'make', 'thei', 'bthe', 'american']\n",
            "\n",
            "\n",
            "Top 10 words for topic #5:\n",
            "['like', 'btodai', 'want', 'colleagu', 'pass', 'join', 'act', 'live', 'amp', 'brt']\n",
            "\n",
            "\n"
          ],
          "name": "stdout"
        }
      ]
    },
    {
      "cell_type": "code",
      "metadata": {
        "id": "rBtcrIi9RJox"
      },
      "source": [
        "topic_values = lda_model.transform(data_matrix)\n",
        "df_all['Topic'] = topic_values.argmax(axis=1)"
      ],
      "execution_count": null,
      "outputs": []
    },
    {
      "cell_type": "code",
      "metadata": {
        "colab": {
          "base_uri": "https://localhost:8080/",
          "height": 387
        },
        "id": "uhdFvaFkSzw2",
        "outputId": "ca94cb7e-61f9-4e8e-9345-b148e15c06b4"
      },
      "source": [
        "df_all.head(4)"
      ],
      "execution_count": null,
      "outputs": [
        {
          "output_type": "execute_result",
          "data": {
            "text/html": [
              "<div>\n",
              "<style scoped>\n",
              "    .dataframe tbody tr th:only-of-type {\n",
              "        vertical-align: middle;\n",
              "    }\n",
              "\n",
              "    .dataframe tbody tr th {\n",
              "        vertical-align: top;\n",
              "    }\n",
              "\n",
              "    .dataframe thead th {\n",
              "        text-align: right;\n",
              "    }\n",
              "</style>\n",
              "<table border=\"1\" class=\"dataframe\">\n",
              "  <thead>\n",
              "    <tr style=\"text-align: right;\">\n",
              "      <th></th>\n",
              "      <th>Unnamed: 0</th>\n",
              "      <th>text</th>\n",
              "      <th>Created_at</th>\n",
              "      <th>Tweet_ID</th>\n",
              "      <th>Geo</th>\n",
              "      <th>favorite_count</th>\n",
              "      <th>Language</th>\n",
              "      <th>retweet_count</th>\n",
              "      <th>coordinates</th>\n",
              "      <th>if_retweet</th>\n",
              "      <th>screen_name</th>\n",
              "      <th>User_name</th>\n",
              "      <th>User_location</th>\n",
              "      <th>User_description</th>\n",
              "      <th>followers_count</th>\n",
              "      <th>verified_user</th>\n",
              "      <th>url_user</th>\n",
              "      <th>id_user</th>\n",
              "      <th>hashtags</th>\n",
              "      <th>urls</th>\n",
              "      <th>user_name</th>\n",
              "      <th>twitter_id</th>\n",
              "      <th>party_name</th>\n",
              "      <th>state</th>\n",
              "      <th>office_title</th>\n",
              "      <th>account_type</th>\n",
              "      <th>first_name</th>\n",
              "      <th>middle_name</th>\n",
              "      <th>last_name</th>\n",
              "      <th>suffix</th>\n",
              "      <th>status</th>\n",
              "      <th>collecting</th>\n",
              "      <th>showing</th>\n",
              "      <th>bioguide_id</th>\n",
              "      <th>gender</th>\n",
              "      <th>fec_candidate_id</th>\n",
              "      <th>district</th>\n",
              "      <th>branch</th>\n",
              "      <th>_merge</th>\n",
              "      <th>text_clean</th>\n",
              "      <th>Topic</th>\n",
              "    </tr>\n",
              "  </thead>\n",
              "  <tbody>\n",
              "    <tr>\n",
              "      <th>0</th>\n",
              "      <td>0</td>\n",
              "      <td>b'Maintaining trust with the public is the mos...</td>\n",
              "      <td>2021-03-26 19:34:35</td>\n",
              "      <td>1375531646867374083</td>\n",
              "      <td>NaN</td>\n",
              "      <td>82</td>\n",
              "      <td>en</td>\n",
              "      <td>52</td>\n",
              "      <td>NaN</td>\n",
              "      <td>False</td>\n",
              "      <td>RepFitzgerald</td>\n",
              "      <td>Rep. Scott Fitzgerald</td>\n",
              "      <td>Juneau, Wisconsin</td>\n",
              "      <td>Official account for Congressman Scott Fitzger...</td>\n",
              "      <td>8598</td>\n",
              "      <td>True</td>\n",
              "      <td>https://t.co/7rWSAAN9xM</td>\n",
              "      <td>1004891731</td>\n",
              "      <td>[]</td>\n",
              "      <td>[{'url': 'https://t.co/WuKSjiJZC9', 'expanded_...</td>\n",
              "      <td>RepFitzgerald</td>\n",
              "      <td>1004891731</td>\n",
              "      <td>Republican</td>\n",
              "      <td>WI</td>\n",
              "      <td>House Representative</td>\n",
              "      <td>official</td>\n",
              "      <td>Scott</td>\n",
              "      <td>NaN</td>\n",
              "      <td>Fitzgerald</td>\n",
              "      <td>NaN</td>\n",
              "      <td>1</td>\n",
              "      <td>True</td>\n",
              "      <td>True</td>\n",
              "      <td>F000471</td>\n",
              "      <td>M</td>\n",
              "      <td>H0WI05113</td>\n",
              "      <td>5.0</td>\n",
              "      <td>H</td>\n",
              "      <td>both</td>\n",
              "      <td>bmaintain trust with the public is the most fu...</td>\n",
              "      <td>2</td>\n",
              "    </tr>\n",
              "    <tr>\n",
              "      <th>1</th>\n",
              "      <td>1</td>\n",
              "      <td>b'Tune into @newsmax this morning at 7:50 ET\\x...</td>\n",
              "      <td>2021-03-26 11:10:39</td>\n",
              "      <td>1375404829812621313</td>\n",
              "      <td>NaN</td>\n",
              "      <td>4</td>\n",
              "      <td>en</td>\n",
              "      <td>0</td>\n",
              "      <td>NaN</td>\n",
              "      <td>False</td>\n",
              "      <td>RepFitzgerald</td>\n",
              "      <td>Rep. Scott Fitzgerald</td>\n",
              "      <td>Juneau, Wisconsin</td>\n",
              "      <td>Official account for Congressman Scott Fitzger...</td>\n",
              "      <td>8598</td>\n",
              "      <td>True</td>\n",
              "      <td>https://t.co/7rWSAAN9xM</td>\n",
              "      <td>1004891731</td>\n",
              "      <td>[]</td>\n",
              "      <td>[{'url': 'https://t.co/TBIsZAxWuM', 'expanded_...</td>\n",
              "      <td>RepFitzgerald</td>\n",
              "      <td>1004891731</td>\n",
              "      <td>Republican</td>\n",
              "      <td>WI</td>\n",
              "      <td>House Representative</td>\n",
              "      <td>official</td>\n",
              "      <td>Scott</td>\n",
              "      <td>NaN</td>\n",
              "      <td>Fitzgerald</td>\n",
              "      <td>NaN</td>\n",
              "      <td>1</td>\n",
              "      <td>True</td>\n",
              "      <td>True</td>\n",
              "      <td>F000471</td>\n",
              "      <td>M</td>\n",
              "      <td>H0WI05113</td>\n",
              "      <td>5.0</td>\n",
              "      <td>H</td>\n",
              "      <td>both</td>\n",
              "      <td>btune into newsmax thi morn at be speak with f...</td>\n",
              "      <td>0</td>\n",
              "    </tr>\n",
              "    <tr>\n",
              "      <th>2</th>\n",
              "      <td>2</td>\n",
              "      <td>b'Reminder to #WI05 artists \\xf0\\x9f\\x91\\x89 t...</td>\n",
              "      <td>2021-03-25 13:38:07</td>\n",
              "      <td>1375079551991230465</td>\n",
              "      <td>NaN</td>\n",
              "      <td>2</td>\n",
              "      <td>en</td>\n",
              "      <td>0</td>\n",
              "      <td>NaN</td>\n",
              "      <td>False</td>\n",
              "      <td>RepFitzgerald</td>\n",
              "      <td>Rep. Scott Fitzgerald</td>\n",
              "      <td>Juneau, Wisconsin</td>\n",
              "      <td>Official account for Congressman Scott Fitzger...</td>\n",
              "      <td>8598</td>\n",
              "      <td>True</td>\n",
              "      <td>https://t.co/7rWSAAN9xM</td>\n",
              "      <td>1004891731</td>\n",
              "      <td>[{'text': 'WI05', 'indices': [12, 17]}]</td>\n",
              "      <td>[{'url': 'https://t.co/UQeizLcojB', 'expanded_...</td>\n",
              "      <td>RepFitzgerald</td>\n",
              "      <td>1004891731</td>\n",
              "      <td>Republican</td>\n",
              "      <td>WI</td>\n",
              "      <td>House Representative</td>\n",
              "      <td>official</td>\n",
              "      <td>Scott</td>\n",
              "      <td>NaN</td>\n",
              "      <td>Fitzgerald</td>\n",
              "      <td>NaN</td>\n",
              "      <td>1</td>\n",
              "      <td>True</td>\n",
              "      <td>True</td>\n",
              "      <td>F000471</td>\n",
              "      <td>M</td>\n",
              "      <td>H0WI05113</td>\n",
              "      <td>5.0</td>\n",
              "      <td>H</td>\n",
              "      <td>both</td>\n",
              "      <td>bremind to artist the deadlin for the annual c...</td>\n",
              "      <td>1</td>\n",
              "    </tr>\n",
              "    <tr>\n",
              "      <th>3</th>\n",
              "      <td>3</td>\n",
              "      <td>b'\\xf0\\x9f\\xa7\\xb5Great thread from my colleag...</td>\n",
              "      <td>2021-03-24 20:28:22</td>\n",
              "      <td>1374820406868205579</td>\n",
              "      <td>NaN</td>\n",
              "      <td>4</td>\n",
              "      <td>en</td>\n",
              "      <td>0</td>\n",
              "      <td>NaN</td>\n",
              "      <td>False</td>\n",
              "      <td>RepFitzgerald</td>\n",
              "      <td>Rep. Scott Fitzgerald</td>\n",
              "      <td>Juneau, Wisconsin</td>\n",
              "      <td>Official account for Congressman Scott Fitzger...</td>\n",
              "      <td>8598</td>\n",
              "      <td>True</td>\n",
              "      <td>https://t.co/7rWSAAN9xM</td>\n",
              "      <td>1004891731</td>\n",
              "      <td>[]</td>\n",
              "      <td>[{'url': 'https://t.co/TNcrCFgvMV', 'expanded_...</td>\n",
              "      <td>RepFitzgerald</td>\n",
              "      <td>1004891731</td>\n",
              "      <td>Republican</td>\n",
              "      <td>WI</td>\n",
              "      <td>House Representative</td>\n",
              "      <td>official</td>\n",
              "      <td>Scott</td>\n",
              "      <td>NaN</td>\n",
              "      <td>Fitzgerald</td>\n",
              "      <td>NaN</td>\n",
              "      <td>1</td>\n",
              "      <td>True</td>\n",
              "      <td>True</td>\n",
              "      <td>F000471</td>\n",
              "      <td>M</td>\n",
              "      <td>H0WI05113</td>\n",
              "      <td>5.0</td>\n",
              "      <td>H</td>\n",
              "      <td>both</td>\n",
              "      <td>thread from my colleagu warrendavidson detail ...</td>\n",
              "      <td>5</td>\n",
              "    </tr>\n",
              "  </tbody>\n",
              "</table>\n",
              "</div>"
            ],
            "text/plain": [
              "   Unnamed: 0  ... Topic\n",
              "0           0  ...     2\n",
              "1           1  ...     0\n",
              "2           2  ...     1\n",
              "3           3  ...     5\n",
              "\n",
              "[4 rows x 41 columns]"
            ]
          },
          "metadata": {
            "tags": []
          },
          "execution_count": 29
        }
      ]
    },
    {
      "cell_type": "code",
      "metadata": {
        "colab": {
          "base_uri": "https://localhost:8080/"
        },
        "id": "MFT6IsJ3S0Te",
        "outputId": "68959095-f425-4b62-d33c-d6cde3a57095"
      },
      "source": [
        "df_all.Topic.value_counts()"
      ],
      "execution_count": null,
      "outputs": [
        {
          "output_type": "execute_result",
          "data": {
            "text/plain": [
              "2    8788\n",
              "5    7196\n",
              "0    6525\n",
              "3    6015\n",
              "1    4755\n",
              "4    4345\n",
              "Name: Topic, dtype: int64"
            ]
          },
          "metadata": {
            "tags": []
          },
          "execution_count": 40
        }
      ]
    },
    {
      "cell_type": "markdown",
      "metadata": {
        "id": "lDOprHHSuUNR"
      },
      "source": [
        "How can we \"labeled\" these topics? (Note that one \"tricky\" part of Topic Modeling is to understand what type of categorization the algorithm did. In some works, researchers use the knowledge of \"field experts\", in order to label the topic categorized).\n",
        "\n",
        "Another way to try to understand what these topics are about is to examine directly which tweets/texts belong to a certain category."
      ]
    },
    {
      "cell_type": "markdown",
      "metadata": {
        "id": "b4f30xpYU3ap"
      },
      "source": [
        "Let's see what are some of the tweets about Topic N.1, and Topic N.2:"
      ]
    },
    {
      "cell_type": "code",
      "metadata": {
        "id": "YQzyx7FCS0tO",
        "colab": {
          "base_uri": "https://localhost:8080/",
          "height": 1000
        },
        "outputId": "1c21b604-d4b2-4a29-e6d7-83cbe5ce146f"
      },
      "source": [
        "df_all[df_all['Topic']==0].head(10)"
      ],
      "execution_count": null,
      "outputs": [
        {
          "output_type": "execute_result",
          "data": {
            "text/html": [
              "<div>\n",
              "<style scoped>\n",
              "    .dataframe tbody tr th:only-of-type {\n",
              "        vertical-align: middle;\n",
              "    }\n",
              "\n",
              "    .dataframe tbody tr th {\n",
              "        vertical-align: top;\n",
              "    }\n",
              "\n",
              "    .dataframe thead th {\n",
              "        text-align: right;\n",
              "    }\n",
              "</style>\n",
              "<table border=\"1\" class=\"dataframe\">\n",
              "  <thead>\n",
              "    <tr style=\"text-align: right;\">\n",
              "      <th></th>\n",
              "      <th>Unnamed: 0</th>\n",
              "      <th>text</th>\n",
              "      <th>Created_at</th>\n",
              "      <th>Tweet_ID</th>\n",
              "      <th>Geo</th>\n",
              "      <th>favorite_count</th>\n",
              "      <th>Language</th>\n",
              "      <th>retweet_count</th>\n",
              "      <th>coordinates</th>\n",
              "      <th>if_retweet</th>\n",
              "      <th>screen_name</th>\n",
              "      <th>User_name</th>\n",
              "      <th>User_location</th>\n",
              "      <th>User_description</th>\n",
              "      <th>followers_count</th>\n",
              "      <th>verified_user</th>\n",
              "      <th>url_user</th>\n",
              "      <th>id_user</th>\n",
              "      <th>hashtags</th>\n",
              "      <th>urls</th>\n",
              "      <th>user_name</th>\n",
              "      <th>twitter_id</th>\n",
              "      <th>party_name</th>\n",
              "      <th>state</th>\n",
              "      <th>office_title</th>\n",
              "      <th>account_type</th>\n",
              "      <th>first_name</th>\n",
              "      <th>middle_name</th>\n",
              "      <th>last_name</th>\n",
              "      <th>suffix</th>\n",
              "      <th>status</th>\n",
              "      <th>collecting</th>\n",
              "      <th>showing</th>\n",
              "      <th>bioguide_id</th>\n",
              "      <th>gender</th>\n",
              "      <th>fec_candidate_id</th>\n",
              "      <th>district</th>\n",
              "      <th>branch</th>\n",
              "      <th>_merge</th>\n",
              "      <th>text_clean</th>\n",
              "      <th>female_talking</th>\n",
              "      <th>Topic</th>\n",
              "    </tr>\n",
              "  </thead>\n",
              "  <tbody>\n",
              "    <tr>\n",
              "      <th>1</th>\n",
              "      <td>1</td>\n",
              "      <td>b'Tune into @newsmax this morning at 7:50 ET\\xe2\\x80\\x94I\\xe2\\x80\\x99ll be speaking with @FinnertyUSA about the Evers Administration\\xe2\\x80\\x99s data\\xe2\\x80\\xa6 https://t.co/TBIsZAxWuM'</td>\n",
              "      <td>2021-03-26 11:10:39</td>\n",
              "      <td>1375404829812621313</td>\n",
              "      <td>NaN</td>\n",
              "      <td>4</td>\n",
              "      <td>en</td>\n",
              "      <td>0</td>\n",
              "      <td>NaN</td>\n",
              "      <td>False</td>\n",
              "      <td>RepFitzgerald</td>\n",
              "      <td>Rep. Scott Fitzgerald</td>\n",
              "      <td>Juneau, Wisconsin</td>\n",
              "      <td>Official account for Congressman Scott Fitzgerald, proudly serving Wisconsin’s Fifth District. #WI05</td>\n",
              "      <td>8598</td>\n",
              "      <td>True</td>\n",
              "      <td>https://t.co/7rWSAAN9xM</td>\n",
              "      <td>1004891731</td>\n",
              "      <td>[]</td>\n",
              "      <td>[{'url': 'https://t.co/TBIsZAxWuM', 'expanded_url': 'https://twitter.com/i/web/status/1375404829812621313', 'display_url': 'twitter.com/i/web/status/1…', 'indices': [117, 140]}]</td>\n",
              "      <td>RepFitzgerald</td>\n",
              "      <td>1004891731</td>\n",
              "      <td>Republican</td>\n",
              "      <td>WI</td>\n",
              "      <td>House Representative</td>\n",
              "      <td>official</td>\n",
              "      <td>Scott</td>\n",
              "      <td>NaN</td>\n",
              "      <td>Fitzgerald</td>\n",
              "      <td>NaN</td>\n",
              "      <td>1</td>\n",
              "      <td>True</td>\n",
              "      <td>True</td>\n",
              "      <td>F000471</td>\n",
              "      <td>M</td>\n",
              "      <td>H0WI05113</td>\n",
              "      <td>5.0</td>\n",
              "      <td>H</td>\n",
              "      <td>both</td>\n",
              "      <td>btune into newsmax thi morn at be speak with finnertyusa about the ever httpstcotbiszaxwum</td>\n",
              "      <td>0</td>\n",
              "      <td>0</td>\n",
              "    </tr>\n",
              "    <tr>\n",
              "      <th>6</th>\n",
              "      <td>6</td>\n",
              "      <td>b'I want to thank all farmers and ag workers in #WI05 on this #NationalAgDay. Thank you for your tireless work to sup\\xe2\\x80\\xa6 https://t.co/L7ykDBohN1'</td>\n",
              "      <td>2021-03-23 17:04:22</td>\n",
              "      <td>1374406679882727435</td>\n",
              "      <td>NaN</td>\n",
              "      <td>9</td>\n",
              "      <td>en</td>\n",
              "      <td>1</td>\n",
              "      <td>NaN</td>\n",
              "      <td>False</td>\n",
              "      <td>RepFitzgerald</td>\n",
              "      <td>Rep. Scott Fitzgerald</td>\n",
              "      <td>Juneau, Wisconsin</td>\n",
              "      <td>Official account for Congressman Scott Fitzgerald, proudly serving Wisconsin’s Fifth District. #WI05</td>\n",
              "      <td>8598</td>\n",
              "      <td>True</td>\n",
              "      <td>https://t.co/7rWSAAN9xM</td>\n",
              "      <td>1004891731</td>\n",
              "      <td>[{'text': 'WI05', 'indices': [46, 51]}, {'text': 'NationalAgDay', 'indices': [60, 74]}]</td>\n",
              "      <td>[{'url': 'https://t.co/L7ykDBohN1', 'expanded_url': 'https://twitter.com/i/web/status/1374406679882727435', 'display_url': 'twitter.com/i/web/status/1…', 'indices': [117, 140]}]</td>\n",
              "      <td>RepFitzgerald</td>\n",
              "      <td>1004891731</td>\n",
              "      <td>Republican</td>\n",
              "      <td>WI</td>\n",
              "      <td>House Representative</td>\n",
              "      <td>official</td>\n",
              "      <td>Scott</td>\n",
              "      <td>NaN</td>\n",
              "      <td>Fitzgerald</td>\n",
              "      <td>NaN</td>\n",
              "      <td>1</td>\n",
              "      <td>True</td>\n",
              "      <td>True</td>\n",
              "      <td>F000471</td>\n",
              "      <td>M</td>\n",
              "      <td>H0WI05113</td>\n",
              "      <td>5.0</td>\n",
              "      <td>H</td>\n",
              "      <td>both</td>\n",
              "      <td>bi want to thank all farmer and ag worker in on thi nationalagdai thank you for your tireless work to</td>\n",
              "      <td>0</td>\n",
              "      <td>0</td>\n",
              "    </tr>\n",
              "    <tr>\n",
              "      <th>11</th>\n",
              "      <td>11</td>\n",
              "      <td>b'I spoke w/ @MacIverWisc this week about the $1.9 budget reconciliation. Bottom line, this was a bill full of libera\\xe2\\x80\\xa6 https://t.co/ulVDeboYHS'</td>\n",
              "      <td>2021-03-19 17:51:32</td>\n",
              "      <td>1372968998715949066</td>\n",
              "      <td>NaN</td>\n",
              "      <td>14</td>\n",
              "      <td>en</td>\n",
              "      <td>1</td>\n",
              "      <td>NaN</td>\n",
              "      <td>False</td>\n",
              "      <td>RepFitzgerald</td>\n",
              "      <td>Rep. Scott Fitzgerald</td>\n",
              "      <td>Juneau, Wisconsin</td>\n",
              "      <td>Official account for Congressman Scott Fitzgerald, proudly serving Wisconsin’s Fifth District. #WI05</td>\n",
              "      <td>8598</td>\n",
              "      <td>True</td>\n",
              "      <td>https://t.co/7rWSAAN9xM</td>\n",
              "      <td>1004891731</td>\n",
              "      <td>[]</td>\n",
              "      <td>[{'url': 'https://t.co/ulVDeboYHS', 'expanded_url': 'https://twitter.com/i/web/status/1372968998715949066', 'display_url': 'twitter.com/i/web/status/1…', 'indices': [117, 140]}]</td>\n",
              "      <td>RepFitzgerald</td>\n",
              "      <td>1004891731</td>\n",
              "      <td>Republican</td>\n",
              "      <td>WI</td>\n",
              "      <td>House Representative</td>\n",
              "      <td>official</td>\n",
              "      <td>Scott</td>\n",
              "      <td>NaN</td>\n",
              "      <td>Fitzgerald</td>\n",
              "      <td>NaN</td>\n",
              "      <td>1</td>\n",
              "      <td>True</td>\n",
              "      <td>True</td>\n",
              "      <td>F000471</td>\n",
              "      <td>M</td>\n",
              "      <td>H0WI05113</td>\n",
              "      <td>5.0</td>\n",
              "      <td>H</td>\n",
              "      <td>both</td>\n",
              "      <td>bi spoke w maciverwisc thi week about the budget reconcili bottom line thi wa a bill full of httpstcoulvdeboyh</td>\n",
              "      <td>0</td>\n",
              "      <td>0</td>\n",
              "    </tr>\n",
              "    <tr>\n",
              "      <th>14</th>\n",
              "      <td>14</td>\n",
              "      <td>b'I joined Bill Osmulski yesterday on the @MacIverWisc Newsmakers podcast to talk about the Democrats $1.9 trillion b\\xe2\\x80\\xa6 https://t.co/UKWR1f80ho'</td>\n",
              "      <td>2021-03-18 15:14:49</td>\n",
              "      <td>1372567172191563780</td>\n",
              "      <td>NaN</td>\n",
              "      <td>6</td>\n",
              "      <td>en</td>\n",
              "      <td>1</td>\n",
              "      <td>NaN</td>\n",
              "      <td>False</td>\n",
              "      <td>RepFitzgerald</td>\n",
              "      <td>Rep. Scott Fitzgerald</td>\n",
              "      <td>Juneau, Wisconsin</td>\n",
              "      <td>Official account for Congressman Scott Fitzgerald, proudly serving Wisconsin’s Fifth District. #WI05</td>\n",
              "      <td>8598</td>\n",
              "      <td>True</td>\n",
              "      <td>https://t.co/7rWSAAN9xM</td>\n",
              "      <td>1004891731</td>\n",
              "      <td>[]</td>\n",
              "      <td>[{'url': 'https://t.co/UKWR1f80ho', 'expanded_url': 'https://twitter.com/i/web/status/1372567172191563780', 'display_url': 'twitter.com/i/web/status/1…', 'indices': [117, 140]}]</td>\n",
              "      <td>RepFitzgerald</td>\n",
              "      <td>1004891731</td>\n",
              "      <td>Republican</td>\n",
              "      <td>WI</td>\n",
              "      <td>House Representative</td>\n",
              "      <td>official</td>\n",
              "      <td>Scott</td>\n",
              "      <td>NaN</td>\n",
              "      <td>Fitzgerald</td>\n",
              "      <td>NaN</td>\n",
              "      <td>1</td>\n",
              "      <td>True</td>\n",
              "      <td>True</td>\n",
              "      <td>F000471</td>\n",
              "      <td>M</td>\n",
              "      <td>H0WI05113</td>\n",
              "      <td>5.0</td>\n",
              "      <td>H</td>\n",
              "      <td>both</td>\n",
              "      <td>bi join bill osmulski yesterdai on the maciverwisc newsmak podcast to talk about the democrat trillion</td>\n",
              "      <td>0</td>\n",
              "      <td>0</td>\n",
              "    </tr>\n",
              "    <tr>\n",
              "      <th>19</th>\n",
              "      <td>19</td>\n",
              "      <td>b'Bottom line, this bill funds mostly Democrat wish list items \\xe2\\x80\\x93 not COVID-related health measures. I strongly suppor\\xe2\\x80\\xa6 https://t.co/QsIcYh73aV'</td>\n",
              "      <td>2021-03-15 16:55:29</td>\n",
              "      <td>1371505340370595846</td>\n",
              "      <td>NaN</td>\n",
              "      <td>10</td>\n",
              "      <td>en</td>\n",
              "      <td>0</td>\n",
              "      <td>NaN</td>\n",
              "      <td>False</td>\n",
              "      <td>RepFitzgerald</td>\n",
              "      <td>Rep. Scott Fitzgerald</td>\n",
              "      <td>Juneau, Wisconsin</td>\n",
              "      <td>Official account for Congressman Scott Fitzgerald, proudly serving Wisconsin’s Fifth District. #WI05</td>\n",
              "      <td>8598</td>\n",
              "      <td>True</td>\n",
              "      <td>https://t.co/7rWSAAN9xM</td>\n",
              "      <td>1004891731</td>\n",
              "      <td>[]</td>\n",
              "      <td>[{'url': 'https://t.co/QsIcYh73aV', 'expanded_url': 'https://twitter.com/i/web/status/1371505340370595846', 'display_url': 'twitter.com/i/web/status/1…', 'indices': [117, 140]}]</td>\n",
              "      <td>RepFitzgerald</td>\n",
              "      <td>1004891731</td>\n",
              "      <td>Republican</td>\n",
              "      <td>WI</td>\n",
              "      <td>House Representative</td>\n",
              "      <td>official</td>\n",
              "      <td>Scott</td>\n",
              "      <td>NaN</td>\n",
              "      <td>Fitzgerald</td>\n",
              "      <td>NaN</td>\n",
              "      <td>1</td>\n",
              "      <td>True</td>\n",
              "      <td>True</td>\n",
              "      <td>F000471</td>\n",
              "      <td>M</td>\n",
              "      <td>H0WI05113</td>\n",
              "      <td>5.0</td>\n",
              "      <td>H</td>\n",
              "      <td>both</td>\n",
              "      <td>bbottom line thi bill fund mostli democrat wish list item not covidrel health measur i strongli</td>\n",
              "      <td>0</td>\n",
              "      <td>0</td>\n",
              "    </tr>\n",
              "    <tr>\n",
              "      <th>20</th>\n",
              "      <td>20</td>\n",
              "      <td>b'Act 10 was significant in many ways and set Wisconsin up for years of prosperity. As I continue to serve #WI05 in m\\xe2\\x80\\xa6 https://t.co/DwQTzHFTa7'</td>\n",
              "      <td>2021-03-11 21:43:06</td>\n",
              "      <td>1370128172189167616</td>\n",
              "      <td>NaN</td>\n",
              "      <td>26</td>\n",
              "      <td>en</td>\n",
              "      <td>3</td>\n",
              "      <td>NaN</td>\n",
              "      <td>False</td>\n",
              "      <td>RepFitzgerald</td>\n",
              "      <td>Rep. Scott Fitzgerald</td>\n",
              "      <td>Juneau, Wisconsin</td>\n",
              "      <td>Official account for Congressman Scott Fitzgerald, proudly serving Wisconsin’s Fifth District. #WI05</td>\n",
              "      <td>8598</td>\n",
              "      <td>True</td>\n",
              "      <td>https://t.co/7rWSAAN9xM</td>\n",
              "      <td>1004891731</td>\n",
              "      <td>[{'text': 'WI05', 'indices': [105, 110]}]</td>\n",
              "      <td>[{'url': 'https://t.co/DwQTzHFTa7', 'expanded_url': 'https://twitter.com/i/web/status/1370128172189167616', 'display_url': 'twitter.com/i/web/status/1…', 'indices': [117, 140]}]</td>\n",
              "      <td>RepFitzgerald</td>\n",
              "      <td>1004891731</td>\n",
              "      <td>Republican</td>\n",
              "      <td>WI</td>\n",
              "      <td>House Representative</td>\n",
              "      <td>official</td>\n",
              "      <td>Scott</td>\n",
              "      <td>NaN</td>\n",
              "      <td>Fitzgerald</td>\n",
              "      <td>NaN</td>\n",
              "      <td>1</td>\n",
              "      <td>True</td>\n",
              "      <td>True</td>\n",
              "      <td>F000471</td>\n",
              "      <td>M</td>\n",
              "      <td>H0WI05113</td>\n",
              "      <td>5.0</td>\n",
              "      <td>H</td>\n",
              "      <td>both</td>\n",
              "      <td>bact wa signific in mani wai and set wisconsin up for year of prosper as i continu to serv in</td>\n",
              "      <td>0</td>\n",
              "      <td>0</td>\n",
              "    </tr>\n",
              "    <tr>\n",
              "      <th>30</th>\n",
              "      <td>30</td>\n",
              "      <td>b'Had a great time meeting with @WICULeague this week. Meeting with stakeholders from #WI05 looks a little different\\xe2\\x80\\xa6 https://t.co/iaE57D10Me'</td>\n",
              "      <td>2021-03-06 22:12:35</td>\n",
              "      <td>1368323651297284097</td>\n",
              "      <td>NaN</td>\n",
              "      <td>3</td>\n",
              "      <td>en</td>\n",
              "      <td>0</td>\n",
              "      <td>NaN</td>\n",
              "      <td>False</td>\n",
              "      <td>RepFitzgerald</td>\n",
              "      <td>Rep. Scott Fitzgerald</td>\n",
              "      <td>Juneau, Wisconsin</td>\n",
              "      <td>Official account for Congressman Scott Fitzgerald, proudly serving Wisconsin’s Fifth District. #WI05</td>\n",
              "      <td>8598</td>\n",
              "      <td>True</td>\n",
              "      <td>https://t.co/7rWSAAN9xM</td>\n",
              "      <td>1004891731</td>\n",
              "      <td>[{'text': 'WI05', 'indices': [84, 89]}]</td>\n",
              "      <td>[{'url': 'https://t.co/iaE57D10Me', 'expanded_url': 'https://twitter.com/i/web/status/1368323651297284097', 'display_url': 'twitter.com/i/web/status/1…', 'indices': [116, 139]}]</td>\n",
              "      <td>RepFitzgerald</td>\n",
              "      <td>1004891731</td>\n",
              "      <td>Republican</td>\n",
              "      <td>WI</td>\n",
              "      <td>House Representative</td>\n",
              "      <td>official</td>\n",
              "      <td>Scott</td>\n",
              "      <td>NaN</td>\n",
              "      <td>Fitzgerald</td>\n",
              "      <td>NaN</td>\n",
              "      <td>1</td>\n",
              "      <td>True</td>\n",
              "      <td>True</td>\n",
              "      <td>F000471</td>\n",
              "      <td>M</td>\n",
              "      <td>H0WI05113</td>\n",
              "      <td>5.0</td>\n",
              "      <td>H</td>\n",
              "      <td>both</td>\n",
              "      <td>bhad a great time meet with wiculeagu thi week meet with stakehold from look a littl</td>\n",
              "      <td>0</td>\n",
              "      <td>0</td>\n",
              "    </tr>\n",
              "    <tr>\n",
              "      <th>32</th>\n",
              "      <td>32</td>\n",
              "      <td>b'ATTN #WI05 artists: each spring, the US House of Representatives sponsors a nation-wide art competition open to all\\xe2\\x80\\xa6 https://t.co/NKhGKd6F9L'</td>\n",
              "      <td>2021-03-05 21:14:19</td>\n",
              "      <td>1367946600270692353</td>\n",
              "      <td>NaN</td>\n",
              "      <td>1</td>\n",
              "      <td>en</td>\n",
              "      <td>0</td>\n",
              "      <td>NaN</td>\n",
              "      <td>False</td>\n",
              "      <td>RepFitzgerald</td>\n",
              "      <td>Rep. Scott Fitzgerald</td>\n",
              "      <td>Juneau, Wisconsin</td>\n",
              "      <td>Official account for Congressman Scott Fitzgerald, proudly serving Wisconsin’s Fifth District. #WI05</td>\n",
              "      <td>8598</td>\n",
              "      <td>True</td>\n",
              "      <td>https://t.co/7rWSAAN9xM</td>\n",
              "      <td>1004891731</td>\n",
              "      <td>[{'text': 'WI05', 'indices': [5, 10]}]</td>\n",
              "      <td>[{'url': 'https://t.co/NKhGKd6F9L', 'expanded_url': 'https://twitter.com/i/web/status/1367946600270692353', 'display_url': 'twitter.com/i/web/status/1…', 'indices': [117, 140]}]</td>\n",
              "      <td>RepFitzgerald</td>\n",
              "      <td>1004891731</td>\n",
              "      <td>Republican</td>\n",
              "      <td>WI</td>\n",
              "      <td>House Representative</td>\n",
              "      <td>official</td>\n",
              "      <td>Scott</td>\n",
              "      <td>NaN</td>\n",
              "      <td>Fitzgerald</td>\n",
              "      <td>NaN</td>\n",
              "      <td>1</td>\n",
              "      <td>True</td>\n",
              "      <td>True</td>\n",
              "      <td>F000471</td>\n",
              "      <td>M</td>\n",
              "      <td>H0WI05113</td>\n",
              "      <td>5.0</td>\n",
              "      <td>H</td>\n",
              "      <td>both</td>\n",
              "      <td>battn artist each spring the us hous of repres sponsor a nationwid art competit open to</td>\n",
              "      <td>0</td>\n",
              "      <td>0</td>\n",
              "    </tr>\n",
              "    <tr>\n",
              "      <th>49</th>\n",
              "      <td>49</td>\n",
              "      <td>b'Everyone should watch this. @SenatorRisch presses Interior Sec. nominee 6x on Biden\\xe2\\x80\\x99s EO to halt #KeystoneXL. She c\\xe2\\x80\\xa6 https://t.co/OhydmgY7lb'</td>\n",
              "      <td>2021-02-25 16:42:42</td>\n",
              "      <td>1364979144325529602</td>\n",
              "      <td>NaN</td>\n",
              "      <td>8</td>\n",
              "      <td>en</td>\n",
              "      <td>5</td>\n",
              "      <td>NaN</td>\n",
              "      <td>False</td>\n",
              "      <td>RepFitzgerald</td>\n",
              "      <td>Rep. Scott Fitzgerald</td>\n",
              "      <td>Juneau, Wisconsin</td>\n",
              "      <td>Official account for Congressman Scott Fitzgerald, proudly serving Wisconsin’s Fifth District. #WI05</td>\n",
              "      <td>8598</td>\n",
              "      <td>True</td>\n",
              "      <td>https://t.co/7rWSAAN9xM</td>\n",
              "      <td>1004891731</td>\n",
              "      <td>[{'text': 'KeystoneXL', 'indices': [97, 108]}]</td>\n",
              "      <td>[{'url': 'https://t.co/OhydmgY7lb', 'expanded_url': 'https://twitter.com/i/web/status/1364979144325529602', 'display_url': 'twitter.com/i/web/status/1…', 'indices': [117, 140]}]</td>\n",
              "      <td>RepFitzgerald</td>\n",
              "      <td>1004891731</td>\n",
              "      <td>Republican</td>\n",
              "      <td>WI</td>\n",
              "      <td>House Representative</td>\n",
              "      <td>official</td>\n",
              "      <td>Scott</td>\n",
              "      <td>NaN</td>\n",
              "      <td>Fitzgerald</td>\n",
              "      <td>NaN</td>\n",
              "      <td>1</td>\n",
              "      <td>True</td>\n",
              "      <td>True</td>\n",
              "      <td>F000471</td>\n",
              "      <td>M</td>\n",
              "      <td>H0WI05113</td>\n",
              "      <td>5.0</td>\n",
              "      <td>H</td>\n",
              "      <td>both</td>\n",
              "      <td>beveryon should watch thi senatorrisch press interior sec nomine on eo to halt keystonexl she</td>\n",
              "      <td>0</td>\n",
              "      <td>0</td>\n",
              "    </tr>\n",
              "    <tr>\n",
              "      <th>62</th>\n",
              "      <td>62</td>\n",
              "      <td>b'We need to learn more about the impact of this proposal which more than doubles the federal minimum wage, particula\\xe2\\x80\\xa6 https://t.co/tTWQjRM5ab'</td>\n",
              "      <td>2021-02-11 03:37:01</td>\n",
              "      <td>1359707987846299652</td>\n",
              "      <td>NaN</td>\n",
              "      <td>7</td>\n",
              "      <td>en</td>\n",
              "      <td>2</td>\n",
              "      <td>NaN</td>\n",
              "      <td>False</td>\n",
              "      <td>RepFitzgerald</td>\n",
              "      <td>Rep. Scott Fitzgerald</td>\n",
              "      <td>Juneau, Wisconsin</td>\n",
              "      <td>Official account for Congressman Scott Fitzgerald, proudly serving Wisconsin’s Fifth District. #WI05</td>\n",
              "      <td>8598</td>\n",
              "      <td>True</td>\n",
              "      <td>https://t.co/7rWSAAN9xM</td>\n",
              "      <td>1004891731</td>\n",
              "      <td>[]</td>\n",
              "      <td>[{'url': 'https://t.co/tTWQjRM5ab', 'expanded_url': 'https://twitter.com/i/web/status/1359707987846299652', 'display_url': 'twitter.com/i/web/status/1…', 'indices': [117, 140]}]</td>\n",
              "      <td>RepFitzgerald</td>\n",
              "      <td>1004891731</td>\n",
              "      <td>Republican</td>\n",
              "      <td>WI</td>\n",
              "      <td>House Representative</td>\n",
              "      <td>official</td>\n",
              "      <td>Scott</td>\n",
              "      <td>NaN</td>\n",
              "      <td>Fitzgerald</td>\n",
              "      <td>NaN</td>\n",
              "      <td>1</td>\n",
              "      <td>True</td>\n",
              "      <td>True</td>\n",
              "      <td>F000471</td>\n",
              "      <td>M</td>\n",
              "      <td>H0WI05113</td>\n",
              "      <td>5.0</td>\n",
              "      <td>H</td>\n",
              "      <td>both</td>\n",
              "      <td>bwe need to learn more about the impact of thi propos which more than doubl the feder minimum wage</td>\n",
              "      <td>0</td>\n",
              "      <td>0</td>\n",
              "    </tr>\n",
              "  </tbody>\n",
              "</table>\n",
              "</div>"
            ],
            "text/plain": [
              "    Unnamed: 0  ... Topic\n",
              "1   1           ...  0   \n",
              "6   6           ...  0   \n",
              "11  11          ...  0   \n",
              "14  14          ...  0   \n",
              "19  19          ...  0   \n",
              "20  20          ...  0   \n",
              "30  30          ...  0   \n",
              "32  32          ...  0   \n",
              "49  49          ...  0   \n",
              "62  62          ...  0   \n",
              "\n",
              "[10 rows x 42 columns]"
            ]
          },
          "metadata": {
            "tags": []
          },
          "execution_count": 42
        }
      ]
    },
    {
      "cell_type": "code",
      "metadata": {
        "id": "fKh8ERYTS1GB",
        "colab": {
          "base_uri": "https://localhost:8080/",
          "height": 1000
        },
        "outputId": "12a50702-0a91-4a67-82f9-680310e17185"
      },
      "source": [
        "df_all[df_all['Topic']==4]"
      ],
      "execution_count": null,
      "outputs": [
        {
          "output_type": "execute_result",
          "data": {
            "text/html": [
              "<div>\n",
              "<style scoped>\n",
              "    .dataframe tbody tr th:only-of-type {\n",
              "        vertical-align: middle;\n",
              "    }\n",
              "\n",
              "    .dataframe tbody tr th {\n",
              "        vertical-align: top;\n",
              "    }\n",
              "\n",
              "    .dataframe thead th {\n",
              "        text-align: right;\n",
              "    }\n",
              "</style>\n",
              "<table border=\"1\" class=\"dataframe\">\n",
              "  <thead>\n",
              "    <tr style=\"text-align: right;\">\n",
              "      <th></th>\n",
              "      <th>Unnamed: 0</th>\n",
              "      <th>text</th>\n",
              "      <th>Created_at</th>\n",
              "      <th>Tweet_ID</th>\n",
              "      <th>Geo</th>\n",
              "      <th>favorite_count</th>\n",
              "      <th>Language</th>\n",
              "      <th>retweet_count</th>\n",
              "      <th>coordinates</th>\n",
              "      <th>if_retweet</th>\n",
              "      <th>screen_name</th>\n",
              "      <th>User_name</th>\n",
              "      <th>User_location</th>\n",
              "      <th>User_description</th>\n",
              "      <th>followers_count</th>\n",
              "      <th>verified_user</th>\n",
              "      <th>url_user</th>\n",
              "      <th>id_user</th>\n",
              "      <th>hashtags</th>\n",
              "      <th>urls</th>\n",
              "      <th>user_name</th>\n",
              "      <th>twitter_id</th>\n",
              "      <th>party_name</th>\n",
              "      <th>state</th>\n",
              "      <th>office_title</th>\n",
              "      <th>account_type</th>\n",
              "      <th>first_name</th>\n",
              "      <th>middle_name</th>\n",
              "      <th>last_name</th>\n",
              "      <th>suffix</th>\n",
              "      <th>status</th>\n",
              "      <th>collecting</th>\n",
              "      <th>showing</th>\n",
              "      <th>bioguide_id</th>\n",
              "      <th>gender</th>\n",
              "      <th>fec_candidate_id</th>\n",
              "      <th>district</th>\n",
              "      <th>branch</th>\n",
              "      <th>_merge</th>\n",
              "      <th>text_clean</th>\n",
              "      <th>female_talking</th>\n",
              "      <th>Topic</th>\n",
              "    </tr>\n",
              "  </thead>\n",
              "  <tbody>\n",
              "    <tr>\n",
              "      <th>4</th>\n",
              "      <td>4</td>\n",
              "      <td>b'While we all agree on the principle of fairness, in practice, this bill is far from it.\\n\\nH.R. 7 crushes the Christm\\xe2\\x80\\xa6 https://t.co/hO0Igd3lpJ'</td>\n",
              "      <td>2021-03-24 19:28:15</td>\n",
              "      <td>1374805279695601671</td>\n",
              "      <td>NaN</td>\n",
              "      <td>24</td>\n",
              "      <td>en</td>\n",
              "      <td>5</td>\n",
              "      <td>NaN</td>\n",
              "      <td>False</td>\n",
              "      <td>RepFitzgerald</td>\n",
              "      <td>Rep. Scott Fitzgerald</td>\n",
              "      <td>Juneau, Wisconsin</td>\n",
              "      <td>Official account for Congressman Scott Fitzgerald, proudly serving Wisconsin’s Fifth District. #WI05</td>\n",
              "      <td>8598</td>\n",
              "      <td>True</td>\n",
              "      <td>https://t.co/7rWSAAN9xM</td>\n",
              "      <td>1004891731</td>\n",
              "      <td>[]</td>\n",
              "      <td>[{'url': 'https://t.co/hO0Igd3lpJ', 'expanded_url': 'https://twitter.com/i/web/status/1374805279695601671', 'display_url': 'twitter.com/i/web/status/1…', 'indices': [117, 140]}]</td>\n",
              "      <td>RepFitzgerald</td>\n",
              "      <td>1004891731</td>\n",
              "      <td>Republican</td>\n",
              "      <td>WI</td>\n",
              "      <td>House Representative</td>\n",
              "      <td>official</td>\n",
              "      <td>Scott</td>\n",
              "      <td>NaN</td>\n",
              "      <td>Fitzgerald</td>\n",
              "      <td>NaN</td>\n",
              "      <td>1</td>\n",
              "      <td>True</td>\n",
              "      <td>True</td>\n",
              "      <td>F000471</td>\n",
              "      <td>M</td>\n",
              "      <td>H0WI05113</td>\n",
              "      <td>5.0</td>\n",
              "      <td>H</td>\n",
              "      <td>both</td>\n",
              "      <td>bwhile we all agre on the principl of fair in practic thi bill is far from itnnhr crush the</td>\n",
              "      <td>0</td>\n",
              "      <td>4</td>\n",
              "    </tr>\n",
              "    <tr>\n",
              "      <th>9</th>\n",
              "      <td>9</td>\n",
              "      <td>b'Today, I sent a letter to Gov. Evers on the reclassifying of 1,000 COVID-19 deaths as reported by the Journal Senti\\xe2\\x80\\xa6 https://t.co/WZItRPzgcr'</td>\n",
              "      <td>2021-03-22 21:02:33</td>\n",
              "      <td>1374104233293795332</td>\n",
              "      <td>NaN</td>\n",
              "      <td>4</td>\n",
              "      <td>en</td>\n",
              "      <td>0</td>\n",
              "      <td>NaN</td>\n",
              "      <td>False</td>\n",
              "      <td>RepFitzgerald</td>\n",
              "      <td>Rep. Scott Fitzgerald</td>\n",
              "      <td>Juneau, Wisconsin</td>\n",
              "      <td>Official account for Congressman Scott Fitzgerald, proudly serving Wisconsin’s Fifth District. #WI05</td>\n",
              "      <td>8598</td>\n",
              "      <td>True</td>\n",
              "      <td>https://t.co/7rWSAAN9xM</td>\n",
              "      <td>1004891731</td>\n",
              "      <td>[]</td>\n",
              "      <td>[{'url': 'https://t.co/WZItRPzgcr', 'expanded_url': 'https://twitter.com/i/web/status/1374104233293795332', 'display_url': 'twitter.com/i/web/status/1…', 'indices': [117, 140]}]</td>\n",
              "      <td>RepFitzgerald</td>\n",
              "      <td>1004891731</td>\n",
              "      <td>Republican</td>\n",
              "      <td>WI</td>\n",
              "      <td>House Representative</td>\n",
              "      <td>official</td>\n",
              "      <td>Scott</td>\n",
              "      <td>NaN</td>\n",
              "      <td>Fitzgerald</td>\n",
              "      <td>NaN</td>\n",
              "      <td>1</td>\n",
              "      <td>True</td>\n",
              "      <td>True</td>\n",
              "      <td>F000471</td>\n",
              "      <td>M</td>\n",
              "      <td>H0WI05113</td>\n",
              "      <td>5.0</td>\n",
              "      <td>H</td>\n",
              "      <td>both</td>\n",
              "      <td>btodai i sent a letter to gov ever on the reclassifi of death as report by the journal httpstcowzitrpzgcr</td>\n",
              "      <td>0</td>\n",
              "      <td>4</td>\n",
              "    </tr>\n",
              "    <tr>\n",
              "      <th>17</th>\n",
              "      <td>17</td>\n",
              "      <td>b'This story underscores just how challenging pandemic-imposed school shutdowns have been for Wisconsin students. Fai\\xe2\\x80\\xa6 https://t.co/6VUmxRawkk'</td>\n",
              "      <td>2021-03-16 18:26:38</td>\n",
              "      <td>1371890666624708608</td>\n",
              "      <td>NaN</td>\n",
              "      <td>3</td>\n",
              "      <td>en</td>\n",
              "      <td>0</td>\n",
              "      <td>NaN</td>\n",
              "      <td>False</td>\n",
              "      <td>RepFitzgerald</td>\n",
              "      <td>Rep. Scott Fitzgerald</td>\n",
              "      <td>Juneau, Wisconsin</td>\n",
              "      <td>Official account for Congressman Scott Fitzgerald, proudly serving Wisconsin’s Fifth District. #WI05</td>\n",
              "      <td>8598</td>\n",
              "      <td>True</td>\n",
              "      <td>https://t.co/7rWSAAN9xM</td>\n",
              "      <td>1004891731</td>\n",
              "      <td>[]</td>\n",
              "      <td>[{'url': 'https://t.co/6VUmxRawkk', 'expanded_url': 'https://twitter.com/i/web/status/1371890666624708608', 'display_url': 'twitter.com/i/web/status/1…', 'indices': [117, 140]}]</td>\n",
              "      <td>RepFitzgerald</td>\n",
              "      <td>1004891731</td>\n",
              "      <td>Republican</td>\n",
              "      <td>WI</td>\n",
              "      <td>House Representative</td>\n",
              "      <td>official</td>\n",
              "      <td>Scott</td>\n",
              "      <td>NaN</td>\n",
              "      <td>Fitzgerald</td>\n",
              "      <td>NaN</td>\n",
              "      <td>1</td>\n",
              "      <td>True</td>\n",
              "      <td>True</td>\n",
              "      <td>F000471</td>\n",
              "      <td>M</td>\n",
              "      <td>H0WI05113</td>\n",
              "      <td>5.0</td>\n",
              "      <td>H</td>\n",
              "      <td>both</td>\n",
              "      <td>bthi stori underscor just how challeng pandemicimpos school shutdown have been for wisconsin student</td>\n",
              "      <td>0</td>\n",
              "      <td>4</td>\n",
              "    </tr>\n",
              "    <tr>\n",
              "      <th>38</th>\n",
              "      <td>38</td>\n",
              "      <td>b'H.R. 1 puts politicians ahead of the American people and codifies nationwide election changes made at the state lev\\xe2\\x80\\xa6 https://t.co/DG970iL4VF'</td>\n",
              "      <td>2021-03-02 17:28:48</td>\n",
              "      <td>1366802682225303553</td>\n",
              "      <td>NaN</td>\n",
              "      <td>77</td>\n",
              "      <td>en</td>\n",
              "      <td>37</td>\n",
              "      <td>NaN</td>\n",
              "      <td>False</td>\n",
              "      <td>RepFitzgerald</td>\n",
              "      <td>Rep. Scott Fitzgerald</td>\n",
              "      <td>Juneau, Wisconsin</td>\n",
              "      <td>Official account for Congressman Scott Fitzgerald, proudly serving Wisconsin’s Fifth District. #WI05</td>\n",
              "      <td>8598</td>\n",
              "      <td>True</td>\n",
              "      <td>https://t.co/7rWSAAN9xM</td>\n",
              "      <td>1004891731</td>\n",
              "      <td>[]</td>\n",
              "      <td>[{'url': 'https://t.co/DG970iL4VF', 'expanded_url': 'https://twitter.com/i/web/status/1366802682225303553', 'display_url': 'twitter.com/i/web/status/1…', 'indices': [117, 140]}]</td>\n",
              "      <td>RepFitzgerald</td>\n",
              "      <td>1004891731</td>\n",
              "      <td>Republican</td>\n",
              "      <td>WI</td>\n",
              "      <td>House Representative</td>\n",
              "      <td>official</td>\n",
              "      <td>Scott</td>\n",
              "      <td>NaN</td>\n",
              "      <td>Fitzgerald</td>\n",
              "      <td>NaN</td>\n",
              "      <td>1</td>\n",
              "      <td>True</td>\n",
              "      <td>True</td>\n",
              "      <td>F000471</td>\n",
              "      <td>M</td>\n",
              "      <td>H0WI05113</td>\n",
              "      <td>5.0</td>\n",
              "      <td>H</td>\n",
              "      <td>both</td>\n",
              "      <td>bhr put politician ahead of the american peopl and codifi nationwid elect chang made at the state</td>\n",
              "      <td>0</td>\n",
              "      <td>4</td>\n",
              "    </tr>\n",
              "    <tr>\n",
              "      <th>39</th>\n",
              "      <td>39</td>\n",
              "      <td>b'The House will vote on H.R. 1, #ForThePoliticians Act this week. Here are a few regressive ideas Democrats are advo\\xe2\\x80\\xa6 https://t.co/5dSE84SWNT'</td>\n",
              "      <td>2021-03-02 13:52:25</td>\n",
              "      <td>1366748228935421956</td>\n",
              "      <td>NaN</td>\n",
              "      <td>121</td>\n",
              "      <td>en</td>\n",
              "      <td>71</td>\n",
              "      <td>NaN</td>\n",
              "      <td>False</td>\n",
              "      <td>RepFitzgerald</td>\n",
              "      <td>Rep. Scott Fitzgerald</td>\n",
              "      <td>Juneau, Wisconsin</td>\n",
              "      <td>Official account for Congressman Scott Fitzgerald, proudly serving Wisconsin’s Fifth District. #WI05</td>\n",
              "      <td>8598</td>\n",
              "      <td>True</td>\n",
              "      <td>https://t.co/7rWSAAN9xM</td>\n",
              "      <td>1004891731</td>\n",
              "      <td>[{'text': 'ForThePoliticians', 'indices': [31, 49]}]</td>\n",
              "      <td>[{'url': 'https://t.co/5dSE84SWNT', 'expanded_url': 'https://twitter.com/i/web/status/1366748228935421956', 'display_url': 'twitter.com/i/web/status/1…', 'indices': [117, 140]}]</td>\n",
              "      <td>RepFitzgerald</td>\n",
              "      <td>1004891731</td>\n",
              "      <td>Republican</td>\n",
              "      <td>WI</td>\n",
              "      <td>House Representative</td>\n",
              "      <td>official</td>\n",
              "      <td>Scott</td>\n",
              "      <td>NaN</td>\n",
              "      <td>Fitzgerald</td>\n",
              "      <td>NaN</td>\n",
              "      <td>1</td>\n",
              "      <td>True</td>\n",
              "      <td>True</td>\n",
              "      <td>F000471</td>\n",
              "      <td>M</td>\n",
              "      <td>H0WI05113</td>\n",
              "      <td>5.0</td>\n",
              "      <td>H</td>\n",
              "      <td>both</td>\n",
              "      <td>bthe hous will vote on hr forthepolitician act thi week here ar a few regress idea democrat ar</td>\n",
              "      <td>0</td>\n",
              "      <td>4</td>\n",
              "    </tr>\n",
              "    <tr>\n",
              "      <th>...</th>\n",
              "      <td>...</td>\n",
              "      <td>...</td>\n",
              "      <td>...</td>\n",
              "      <td>...</td>\n",
              "      <td>...</td>\n",
              "      <td>...</td>\n",
              "      <td>...</td>\n",
              "      <td>...</td>\n",
              "      <td>...</td>\n",
              "      <td>...</td>\n",
              "      <td>...</td>\n",
              "      <td>...</td>\n",
              "      <td>...</td>\n",
              "      <td>...</td>\n",
              "      <td>...</td>\n",
              "      <td>...</td>\n",
              "      <td>...</td>\n",
              "      <td>...</td>\n",
              "      <td>...</td>\n",
              "      <td>...</td>\n",
              "      <td>...</td>\n",
              "      <td>...</td>\n",
              "      <td>...</td>\n",
              "      <td>...</td>\n",
              "      <td>...</td>\n",
              "      <td>...</td>\n",
              "      <td>...</td>\n",
              "      <td>...</td>\n",
              "      <td>...</td>\n",
              "      <td>...</td>\n",
              "      <td>...</td>\n",
              "      <td>...</td>\n",
              "      <td>...</td>\n",
              "      <td>...</td>\n",
              "      <td>...</td>\n",
              "      <td>...</td>\n",
              "      <td>...</td>\n",
              "      <td>...</td>\n",
              "      <td>...</td>\n",
              "      <td>...</td>\n",
              "      <td>...</td>\n",
              "      <td>...</td>\n",
              "    </tr>\n",
              "    <tr>\n",
              "      <th>37596</th>\n",
              "      <td>37596</td>\n",
              "      <td>b'The latest news on impeachment is another page out of the same tired playbook we have been hearing for months. \\n\\nAm\\xe2\\x80\\xa6 https://t.co/irbhC3aNuX'</td>\n",
              "      <td>2019-12-24 01:30:38</td>\n",
              "      <td>1209285221574742019</td>\n",
              "      <td>NaN</td>\n",
              "      <td>69</td>\n",
              "      <td>en</td>\n",
              "      <td>20</td>\n",
              "      <td>NaN</td>\n",
              "      <td>False</td>\n",
              "      <td>RepWaltzPress</td>\n",
              "      <td>Congressman Waltz Press</td>\n",
              "      <td>NaN</td>\n",
              "      <td>Official account of Congressman Mike Waltz’s press shop</td>\n",
              "      <td>18938</td>\n",
              "      <td>True</td>\n",
              "      <td>https://t.co/QOB7UQmYz2</td>\n",
              "      <td>1082416697380913152</td>\n",
              "      <td>[]</td>\n",
              "      <td>[{'url': 'https://t.co/irbhC3aNuX', 'expanded_url': 'https://twitter.com/i/web/status/1209285221574742019', 'display_url': 'twitter.com/i/web/status/1…', 'indices': [117, 140]}]</td>\n",
              "      <td>RepWaltzPress</td>\n",
              "      <td>1082416697380913152</td>\n",
              "      <td>Republican</td>\n",
              "      <td>FL</td>\n",
              "      <td>House Representative</td>\n",
              "      <td>official</td>\n",
              "      <td>Michael</td>\n",
              "      <td>NaN</td>\n",
              "      <td>Waltz</td>\n",
              "      <td>NaN</td>\n",
              "      <td>1</td>\n",
              "      <td>True</td>\n",
              "      <td>True</td>\n",
              "      <td>W000823</td>\n",
              "      <td>M</td>\n",
              "      <td>H8FL06148</td>\n",
              "      <td>6.0</td>\n",
              "      <td>H</td>\n",
              "      <td>both</td>\n",
              "      <td>bthe latest new on impeach is anoth page out of the same tire playbook we have been hear for month</td>\n",
              "      <td>0</td>\n",
              "      <td>4</td>\n",
              "    </tr>\n",
              "    <tr>\n",
              "      <th>37598</th>\n",
              "      <td>37598</td>\n",
              "      <td>b'Thanks to our intern Haydon on his last day in my Washington office. Haydon plans on enlisting in the Army. Good lu\\xe2\\x80\\xa6 https://t.co/kUVroeIFWx'</td>\n",
              "      <td>2019-12-23 20:00:00</td>\n",
              "      <td>1209202013214392321</td>\n",
              "      <td>NaN</td>\n",
              "      <td>31</td>\n",
              "      <td>en</td>\n",
              "      <td>4</td>\n",
              "      <td>NaN</td>\n",
              "      <td>False</td>\n",
              "      <td>RepWaltzPress</td>\n",
              "      <td>Congressman Waltz Press</td>\n",
              "      <td>NaN</td>\n",
              "      <td>Official account of Congressman Mike Waltz’s press shop</td>\n",
              "      <td>18938</td>\n",
              "      <td>True</td>\n",
              "      <td>https://t.co/QOB7UQmYz2</td>\n",
              "      <td>1082416697380913152</td>\n",
              "      <td>[]</td>\n",
              "      <td>[{'url': 'https://t.co/kUVroeIFWx', 'expanded_url': 'https://twitter.com/i/web/status/1209202013214392321', 'display_url': 'twitter.com/i/web/status/1…', 'indices': [117, 140]}]</td>\n",
              "      <td>RepWaltzPress</td>\n",
              "      <td>1082416697380913152</td>\n",
              "      <td>Republican</td>\n",
              "      <td>FL</td>\n",
              "      <td>House Representative</td>\n",
              "      <td>official</td>\n",
              "      <td>Michael</td>\n",
              "      <td>NaN</td>\n",
              "      <td>Waltz</td>\n",
              "      <td>NaN</td>\n",
              "      <td>1</td>\n",
              "      <td>True</td>\n",
              "      <td>True</td>\n",
              "      <td>W000823</td>\n",
              "      <td>M</td>\n",
              "      <td>H8FL06148</td>\n",
              "      <td>6.0</td>\n",
              "      <td>H</td>\n",
              "      <td>both</td>\n",
              "      <td>bthank to our intern haydon on hi last dai in my washington offic haydon plan on enlist in the armi good httpstcokuvroeifwx</td>\n",
              "      <td>0</td>\n",
              "      <td>4</td>\n",
              "    </tr>\n",
              "    <tr>\n",
              "      <th>37602</th>\n",
              "      <td>37602</td>\n",
              "      <td>b'Proud to support @RepJoeWilson in his decade long effort to repeal the \\xe2\\x80\\x98Widows Tax\\xe2\\x80\\x99. https://t.co/u0RzGI5yBV'</td>\n",
              "      <td>2019-12-21 14:19:26</td>\n",
              "      <td>1208391531842985984</td>\n",
              "      <td>NaN</td>\n",
              "      <td>213</td>\n",
              "      <td>en</td>\n",
              "      <td>28</td>\n",
              "      <td>NaN</td>\n",
              "      <td>False</td>\n",
              "      <td>RepWaltzPress</td>\n",
              "      <td>Congressman Waltz Press</td>\n",
              "      <td>NaN</td>\n",
              "      <td>Official account of Congressman Mike Waltz’s press shop</td>\n",
              "      <td>18938</td>\n",
              "      <td>True</td>\n",
              "      <td>https://t.co/QOB7UQmYz2</td>\n",
              "      <td>1082416697380913152</td>\n",
              "      <td>[]</td>\n",
              "      <td>[{'url': 'https://t.co/u0RzGI5yBV', 'expanded_url': 'https://twitter.com/jaketapper/status/1208380158912159744', 'display_url': 'twitter.com/jaketapper/sta…', 'indices': [85, 108]}]</td>\n",
              "      <td>RepWaltzPress</td>\n",
              "      <td>1082416697380913152</td>\n",
              "      <td>Republican</td>\n",
              "      <td>FL</td>\n",
              "      <td>House Representative</td>\n",
              "      <td>official</td>\n",
              "      <td>Michael</td>\n",
              "      <td>NaN</td>\n",
              "      <td>Waltz</td>\n",
              "      <td>NaN</td>\n",
              "      <td>1</td>\n",
              "      <td>True</td>\n",
              "      <td>True</td>\n",
              "      <td>W000823</td>\n",
              "      <td>M</td>\n",
              "      <td>H8FL06148</td>\n",
              "      <td>6.0</td>\n",
              "      <td>H</td>\n",
              "      <td>both</td>\n",
              "      <td>bproud to support repjoewilson in hi decad long effort to repeal the</td>\n",
              "      <td>0</td>\n",
              "      <td>4</td>\n",
              "    </tr>\n",
              "    <tr>\n",
              "      <th>37618</th>\n",
              "      <td>37618</td>\n",
              "      <td>b'Today, we finally have the chance to pass #USMCA for the good of our country and our state.\\n\\nThis deal is going to\\xe2\\x80\\xa6 https://t.co/NluTWzSw90'</td>\n",
              "      <td>2019-12-19 18:14:00</td>\n",
              "      <td>1207725784254877702</td>\n",
              "      <td>NaN</td>\n",
              "      <td>14</td>\n",
              "      <td>en</td>\n",
              "      <td>14</td>\n",
              "      <td>NaN</td>\n",
              "      <td>False</td>\n",
              "      <td>RepWaltzPress</td>\n",
              "      <td>Congressman Waltz Press</td>\n",
              "      <td>NaN</td>\n",
              "      <td>Official account of Congressman Mike Waltz’s press shop</td>\n",
              "      <td>18938</td>\n",
              "      <td>True</td>\n",
              "      <td>https://t.co/QOB7UQmYz2</td>\n",
              "      <td>1082416697380913152</td>\n",
              "      <td>[{'text': 'USMCA', 'indices': [42, 48]}]</td>\n",
              "      <td>[{'url': 'https://t.co/NluTWzSw90', 'expanded_url': 'https://twitter.com/i/web/status/1207725784254877702', 'display_url': 'twitter.com/i/web/status/1…', 'indices': [116, 139]}]</td>\n",
              "      <td>RepWaltzPress</td>\n",
              "      <td>1082416697380913152</td>\n",
              "      <td>Republican</td>\n",
              "      <td>FL</td>\n",
              "      <td>House Representative</td>\n",
              "      <td>official</td>\n",
              "      <td>Michael</td>\n",
              "      <td>NaN</td>\n",
              "      <td>Waltz</td>\n",
              "      <td>NaN</td>\n",
              "      <td>1</td>\n",
              "      <td>True</td>\n",
              "      <td>True</td>\n",
              "      <td>W000823</td>\n",
              "      <td>M</td>\n",
              "      <td>H8FL06148</td>\n",
              "      <td>6.0</td>\n",
              "      <td>H</td>\n",
              "      <td>both</td>\n",
              "      <td>btodai we final have the chanc to pass usmca for the good of our countri and our statennthi deal is go</td>\n",
              "      <td>0</td>\n",
              "      <td>4</td>\n",
              "    </tr>\n",
              "    <tr>\n",
              "      <th>37620</th>\n",
              "      <td>37620</td>\n",
              "      <td>b\"Since the day I arrived to Congress, impeaching President Trump has been Democrats' number one priority \\xe2\\x81\\xa0\\xe2\\x80\\x94 all at t\\xe2\\x80\\xa6 https://t.co/3aPWCSpnh6\"</td>\n",
              "      <td>2019-12-18 23:18:00</td>\n",
              "      <td>1207439903652548608</td>\n",
              "      <td>NaN</td>\n",
              "      <td>478</td>\n",
              "      <td>en</td>\n",
              "      <td>130</td>\n",
              "      <td>NaN</td>\n",
              "      <td>False</td>\n",
              "      <td>RepWaltzPress</td>\n",
              "      <td>Congressman Waltz Press</td>\n",
              "      <td>NaN</td>\n",
              "      <td>Official account of Congressman Mike Waltz’s press shop</td>\n",
              "      <td>18938</td>\n",
              "      <td>True</td>\n",
              "      <td>https://t.co/QOB7UQmYz2</td>\n",
              "      <td>1082416697380913152</td>\n",
              "      <td>[]</td>\n",
              "      <td>[{'url': 'https://t.co/3aPWCSpnh6', 'expanded_url': 'https://twitter.com/i/web/status/1207439903652548608', 'display_url': 'twitter.com/i/web/status/1…', 'indices': [117, 140]}]</td>\n",
              "      <td>RepWaltzPress</td>\n",
              "      <td>1082416697380913152</td>\n",
              "      <td>Republican</td>\n",
              "      <td>FL</td>\n",
              "      <td>House Representative</td>\n",
              "      <td>official</td>\n",
              "      <td>Michael</td>\n",
              "      <td>NaN</td>\n",
              "      <td>Waltz</td>\n",
              "      <td>NaN</td>\n",
              "      <td>1</td>\n",
              "      <td>True</td>\n",
              "      <td>True</td>\n",
              "      <td>W000823</td>\n",
              "      <td>M</td>\n",
              "      <td>H8FL06148</td>\n",
              "      <td>6.0</td>\n",
              "      <td>H</td>\n",
              "      <td>both</td>\n",
              "      <td>bsinc the dai i arriv to congress impeach presid trump ha been democrat number on prioriti all at</td>\n",
              "      <td>0</td>\n",
              "      <td>4</td>\n",
              "    </tr>\n",
              "  </tbody>\n",
              "</table>\n",
              "<p>4345 rows × 42 columns</p>\n",
              "</div>"
            ],
            "text/plain": [
              "       Unnamed: 0  ... Topic\n",
              "4      4           ...  4   \n",
              "9      9           ...  4   \n",
              "17     17          ...  4   \n",
              "38     38          ...  4   \n",
              "39     39          ...  4   \n",
              "...    ..          ... ..   \n",
              "37596  37596       ...  4   \n",
              "37598  37598       ...  4   \n",
              "37602  37602       ...  4   \n",
              "37618  37618       ...  4   \n",
              "37620  37620       ...  4   \n",
              "\n",
              "[4345 rows x 42 columns]"
            ]
          },
          "metadata": {
            "tags": []
          },
          "execution_count": 43
        }
      ]
    },
    {
      "cell_type": "markdown",
      "metadata": {
        "id": "moKJdXAFO6rp"
      },
      "source": [
        "Other references, for Topic Modeling:\n",
        "- https://medium.datadriveninvestor.com/trump-tweets-topic-modeling-using-latent-dirichlet-allocation-e4f93b90b6fe\n",
        "- https://ourcodingclub.github.io/tutorials/topic-modelling-python/\n",
        "- https://towardsdatascience.com/lda-topic-modeling-with-tweets-deff37c0e131"
      ]
    }
  ]
}